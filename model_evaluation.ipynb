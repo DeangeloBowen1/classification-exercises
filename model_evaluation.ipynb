{
 "cells": [
  {
   "cell_type": "markdown",
   "id": "3ad8ca7d",
   "metadata": {},
   "source": [
    "# Evaluation Exercises"
   ]
  },
  {
   "cell_type": "markdown",
   "id": "956ac6ce",
   "metadata": {},
   "source": [
    "- Given the following confusion matrix, evaluate (by hand) the model's performance: \n",
    "\n",
    "|               | pred dog   | pred cat   |\n",
    "|:------------  |-----------:|-----------:|\n",
    "| actual dog    |         46 |         7  |\n",
    "| actual cat    |         13 |         34 |\n"
   ]
  },
  {
   "cell_type": "code",
   "execution_count": 4,
   "id": "10aa8e18",
   "metadata": {},
   "outputs": [
    {
     "name": "stdout",
     "output_type": "stream",
     "text": [
      "Accuracy: 0.8\n",
      "Precision: 0.7796610169491526\n",
      "Recall: 0.8679245283018868\n"
     ]
    }
   ],
   "source": [
    "#predicted dog, actual dog = true positive\n",
    "tp = 46\n",
    "#predicted cat, actual cat = true negative\n",
    "tn = 34\n",
    "#predicted dog,　but it is actual cat = false positive \n",
    "fp = 13\n",
    "#predicted cat, actual dog = false negative\n",
    "fn = 7\n",
    "\n",
    "#accuracy calc.\n",
    "accuracy = (tp+tn)/(tp+tn+fp+fn)\n",
    "precision = tp/(tp+fp)\n",
    "recall = tp/(tp+fn)\n",
    "\n",
    "print('Accuracy:', accuracy)\n",
    "print('Precision:', precision)\n",
    "print('Recall:', recall)"
   ]
  },
  {
   "cell_type": "markdown",
   "id": "ab27d557",
   "metadata": {},
   "source": [
    "### In the context of this problem, what is a false positive?\n",
    "\n",
    "- Truly depends on the labeling of positive and negative. Based on my model, a false positive is when the predicted dog outcome is a actually a cat. This is assuming we are positive on the outcome of dogs and negative on the outcome of cats. "
   ]
  },
  {
   "cell_type": "markdown",
   "id": "d35a2df8",
   "metadata": {},
   "source": [
    "### In the context of this problem, what is a false negative?\n",
    "\n",
    "- Adding context to the previous analyzation, a false negative would be predicting cat when the outcome is actually a dog. "
   ]
  },
  {
   "cell_type": "markdown",
   "id": "9b1e3690",
   "metadata": {},
   "source": [
    "### How would you describe this model?\n",
    "- Based on the performance, a recall matrix would be the best solution. However, there is still creditable accuracy in the model at 80% (opinion)"
   ]
  },
  {
   "cell_type": "code",
   "execution_count": null,
   "id": "084aeb05",
   "metadata": {},
   "outputs": [],
   "source": []
  }
 ],
 "metadata": {
  "kernelspec": {
   "display_name": "Python 3 (ipykernel)",
   "language": "python",
   "name": "python3"
  },
  "language_info": {
   "codemirror_mode": {
    "name": "ipython",
    "version": 3
   },
   "file_extension": ".py",
   "mimetype": "text/x-python",
   "name": "python",
   "nbconvert_exporter": "python",
   "pygments_lexer": "ipython3",
   "version": "3.9.7"
  }
 },
 "nbformat": 4,
 "nbformat_minor": 5
}
