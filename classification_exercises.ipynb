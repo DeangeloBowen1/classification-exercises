{
 "cells": [
  {
   "cell_type": "markdown",
   "id": "fca61d3b",
   "metadata": {},
   "source": [
    "# Data Acquisition Exercises"
   ]
  },
  {
   "cell_type": "code",
   "execution_count": 12,
   "id": "4360694c",
   "metadata": {},
   "outputs": [],
   "source": [
    "from pydataset import data\n",
    "from env import get_db_url\n",
    "from sklearn.model_selection import train_test_split\n",
    "\n",
    "\n",
    "import numpy as np\n",
    "import seaborn as sns\n",
    "import matplotlib.pyplot as plt\n",
    "import pandas as pd\n",
    "import acquire as aq"
   ]
  },
  {
   "cell_type": "markdown",
   "id": "1959003a",
   "metadata": {},
   "source": [
    "#### 4. In a jupyter notebook, classification_exercises.ipynb, use a python module (pydata or seaborn datasets) containing datasets as a source from the iris data. Create a pandas dataframe, df_iris, from this data."
   ]
  },
  {
   "cell_type": "markdown",
   "id": "c0b56d6b",
   "metadata": {},
   "source": [
    "- print the first 3 rows\n",
    "- print the number of rows and columns (shape)\n",
    "- print the column names\n",
    "- print the data type of each column\n",
    "- print the summary statistics for each of the numeric variables"
   ]
  },
  {
   "cell_type": "code",
   "execution_count": null,
   "id": "1a0413e0",
   "metadata": {},
   "outputs": [],
   "source": [
    "df_iris = data('iris')"
   ]
  },
  {
   "cell_type": "code",
   "execution_count": null,
   "id": "fab17c51",
   "metadata": {},
   "outputs": [],
   "source": [
    "#4a. print the first 3 rows\n",
    "df_iris.head(3)"
   ]
  },
  {
   "cell_type": "code",
   "execution_count": null,
   "id": "de2d77d2",
   "metadata": {},
   "outputs": [],
   "source": [
    "#4b. print the number of rows and columns (shape)\n",
    "df_iris.shape"
   ]
  },
  {
   "cell_type": "code",
   "execution_count": null,
   "id": "810b910a",
   "metadata": {},
   "outputs": [],
   "source": [
    "#4c. print the column names\n",
    "df_iris.columns.values"
   ]
  },
  {
   "cell_type": "code",
   "execution_count": null,
   "id": "03a46196",
   "metadata": {},
   "outputs": [],
   "source": [
    "#4d. print the data type of each column\n",
    "df_iris.dtypes"
   ]
  },
  {
   "cell_type": "code",
   "execution_count": null,
   "id": "c1ab8c1b",
   "metadata": {},
   "outputs": [],
   "source": [
    "#4e. print the summary statistics for each of the numeric variables\n",
    "df_iris.describe()"
   ]
  },
  {
   "cell_type": "markdown",
   "id": "24adf901",
   "metadata": {},
   "source": [
    "#### 5. Read the Table1_CustDetails table from your spreadsheet exercises google sheet into a dataframe named df_google_sheets.\n",
    "\n",
    "Make sure that the spreadsheet is publicly visible under your sharing settings.\n",
    "\n",
    "- assign the first 100 rows to a new dataframe, df_google_sheets_sample\n",
    "- print the number of rows of your original dataframe\n",
    "- print the first 5 column names\n",
    "- print the column names that have a data type of object\n",
    "- compute the range for each of the numeric variables."
   ]
  },
  {
   "cell_type": "code",
   "execution_count": null,
   "id": "ad5ed618",
   "metadata": {},
   "outputs": [],
   "source": [
    "filename = \"Deangelo Bowen - jemison_spreadsheet_exercises - Table1_CustDetails.csv\"\n",
    "df_google_sheets = pd.read_csv(filename)"
   ]
  },
  {
   "cell_type": "code",
   "execution_count": null,
   "id": "d9b635a0",
   "metadata": {},
   "outputs": [],
   "source": [
    "#5a. \n",
    "df_google_sheets_sample = df_google_sheets.head(100)"
   ]
  },
  {
   "cell_type": "code",
   "execution_count": null,
   "id": "1c494550",
   "metadata": {},
   "outputs": [],
   "source": [
    "#5b. \n",
    "df_google_sheets.shape\n",
    "\n",
    "# 7049 rows, 13 columns"
   ]
  },
  {
   "cell_type": "code",
   "execution_count": null,
   "id": "0a37835a",
   "metadata": {
    "scrolled": true
   },
   "outputs": [],
   "source": [
    "#5c \n",
    "df_google_sheets.columns.values[0:5]"
   ]
  },
  {
   "cell_type": "code",
   "execution_count": null,
   "id": "b3ca63cf",
   "metadata": {
    "scrolled": true
   },
   "outputs": [],
   "source": [
    "df_google_sheets.dtypes"
   ]
  },
  {
   "cell_type": "code",
   "execution_count": null,
   "id": "ef2871e1",
   "metadata": {
    "scrolled": true
   },
   "outputs": [],
   "source": [
    "#5d\n",
    "list(df_google_sheets.select_dtypes(['object']))"
   ]
  },
  {
   "cell_type": "code",
   "execution_count": null,
   "id": "e370ccb4",
   "metadata": {
    "scrolled": true
   },
   "outputs": [],
   "source": [
    "#5e\n",
    "math = df_google_sheets.select_dtypes(['float64'])\n",
    "math.max() - math.min()"
   ]
  },
  {
   "cell_type": "markdown",
   "id": "b968fc3f",
   "metadata": {},
   "source": [
    "#### 6. Download your spreadsheet exercises google sheet as an excel file (File → Download → Microsoft Excel). Read the Table1_CustDetails worksheet into a dataframe named df_excel.\n",
    "\n",
    "- assign the first 100 rows to a new dataframe, df_excel_sample\n",
    "- print the number of rows of your original dataframe\n",
    "- print the first 5 column names\n",
    "- print the column names that have a data type of object\n",
    "- compute the range for each of the numeric variables."
   ]
  },
  {
   "cell_type": "code",
   "execution_count": null,
   "id": "935beb29",
   "metadata": {},
   "outputs": [],
   "source": [
    "filename = \"Deangelo Bowen - jemison_spreadsheet_exercises.xlsx\"\n",
    "df_excel = pd.read_excel(filename)\n",
    "\n",
    "#6a\n",
    "df_excel_sample = df_excel.head(100)\n",
    "df_excel_sample"
   ]
  },
  {
   "cell_type": "code",
   "execution_count": null,
   "id": "14c4efff",
   "metadata": {},
   "outputs": [],
   "source": [
    "#6b\n",
    "df_excel.shape\n",
    "\n",
    "#7049 rows, 26 columns"
   ]
  },
  {
   "cell_type": "code",
   "execution_count": null,
   "id": "f3137fcf",
   "metadata": {},
   "outputs": [],
   "source": [
    "#6c\n",
    "df_excel.columns.values[0:5]"
   ]
  },
  {
   "cell_type": "code",
   "execution_count": null,
   "id": "f2f827db",
   "metadata": {},
   "outputs": [],
   "source": [
    "#6d\n",
    "list(df_excel.select_dtypes(['object']))"
   ]
  },
  {
   "cell_type": "code",
   "execution_count": null,
   "id": "d4b73338",
   "metadata": {},
   "outputs": [],
   "source": [
    "#6e \n",
    "math = df_excel.select_dtypes(['float64'])\n",
    "math.max() - math.min()"
   ]
  },
  {
   "cell_type": "markdown",
   "id": "44325521",
   "metadata": {},
   "source": [
    "#### 7. Read the data from this google sheet into a dataframe, df_google.\n",
    "\n",
    "- print the first 3 rows\n",
    "- print the number of rows and columns\n",
    "- print the column names\n",
    "- print the data type of each column\n",
    "- print the summary statistics for each of the numeric variables\n",
    "- print the unique values for each of your categorical variables"
   ]
  },
  {
   "cell_type": "code",
   "execution_count": null,
   "id": "23e5a844",
   "metadata": {},
   "outputs": [],
   "source": [
    "# took the url from the data acquisition hyperlink file\n",
    "sheet_url = \"https://docs.google.com/spreadsheets/d/1Uhtml8KY19LILuZsrDtlsHHDC9wuDGUSe8LTEwvdI5g/edit#gid=341089357\"\n",
    "\n",
    "\n",
    "csv_export_url = sheet_url.replace('/edit#gid=', '/export?format=csv&gid=')\n",
    "\n",
    "df_google= pd.read_csv(csv_export_url)\n",
    "\n",
    "#7a\n",
    "df_google.head(3)"
   ]
  },
  {
   "cell_type": "code",
   "execution_count": null,
   "id": "e111151a",
   "metadata": {},
   "outputs": [],
   "source": [
    "#7b\n",
    "df_google.shape\n",
    "#891 rows, #12 columns"
   ]
  },
  {
   "cell_type": "code",
   "execution_count": null,
   "id": "ba0dcc27",
   "metadata": {},
   "outputs": [],
   "source": [
    "#7c\n",
    "df_google.columns"
   ]
  },
  {
   "cell_type": "code",
   "execution_count": null,
   "id": "90fb6795",
   "metadata": {
    "scrolled": true
   },
   "outputs": [],
   "source": [
    "#7d\n",
    "df_google.info()"
   ]
  },
  {
   "cell_type": "code",
   "execution_count": null,
   "id": "0a071a27",
   "metadata": {},
   "outputs": [],
   "source": [
    "#7e\n",
    "df_google.describe()"
   ]
  },
  {
   "cell_type": "code",
   "execution_count": null,
   "id": "2dc93bb3",
   "metadata": {},
   "outputs": [],
   "source": [
    "#7f\n",
    "df_google.nunique()"
   ]
  },
  {
   "cell_type": "markdown",
   "id": "f7d07e22",
   "metadata": {},
   "source": [
    "# Make a new python module, acquire.py to hold the following data aquisition functions:\n",
    "\n",
    "#### Make a function named get_titanic_data that returns the titanic data from the codeup data science database as a pandas data frame. Obtain your data from the Codeup Data Science Database."
   ]
  },
  {
   "cell_type": "code",
   "execution_count": null,
   "id": "083090ed",
   "metadata": {
    "scrolled": false
   },
   "outputs": [],
   "source": [
    "titanic_data = aq.get_titanic_data()\n",
    "titanic_data.head()"
   ]
  },
  {
   "cell_type": "markdown",
   "id": "d771fb55",
   "metadata": {},
   "source": [
    "#### Make a function named get_iris_data that returns the data from the iris_db on the codeup data science database as a pandas data frame. The returned data frame should include the actual name of the species in addition to the species_ids. Obtain your data from the Codeup Data Science Database."
   ]
  },
  {
   "cell_type": "code",
   "execution_count": null,
   "id": "e2f6d8f7",
   "metadata": {
    "scrolled": false
   },
   "outputs": [],
   "source": [
    "iris = aq.get_iris_data()\n",
    "iris.head()"
   ]
  },
  {
   "cell_type": "markdown",
   "id": "fbfc52f1",
   "metadata": {},
   "source": [
    "#### Make a function named get_telco_data that returns the data from the telco_churn database in SQL. In your SQL, be sure to join all 4 tables together, so that the resulting dataframe contains all the contract, payment, and internet service options. Obtain your data from the Codeup Data Science Database."
   ]
  },
  {
   "cell_type": "code",
   "execution_count": null,
   "id": "e2afbf44",
   "metadata": {},
   "outputs": [],
   "source": [
    "telco_churn = aq.get_telco_data()\n",
    "telco_churn.head()"
   ]
  },
  {
   "cell_type": "markdown",
   "id": "f9147f4b",
   "metadata": {},
   "source": [
    "Once you've got your get_titanic_data, get_iris_data, and get_telco_data functions written, now it's time to add caching to them. To do this, edit the beginning of the function to check for the local filename of telco.csv, titanic.csv, or iris.csv. If they exist, use the .csv file. If the file doesn't exist, then produce the SQL and pandas necessary to create a dataframe, then write the dataframe to a .csv file with the appropriate name.\n",
    "\n",
    "- Done"
   ]
  },
  {
   "cell_type": "markdown",
   "id": "83c4c6f7",
   "metadata": {},
   "source": [
    "# Data Preparation Exercises"
   ]
  },
  {
   "cell_type": "markdown",
   "id": "fc0f576a",
   "metadata": {},
   "source": [
    "#### Using the Iris Data:\n",
    "\n",
    "5. Create a function named prep_iris that accepts the untransformed iris data, and returns the data with the transformations above applied."
   ]
  },
  {
   "cell_type": "markdown",
   "id": "33ca8582",
   "metadata": {},
   "source": [
    "#### 1. Use the function defined in acquire.py to load the iris data."
   ]
  },
  {
   "cell_type": "code",
   "execution_count": null,
   "id": "06e893c2",
   "metadata": {
    "scrolled": false
   },
   "outputs": [],
   "source": [
    "iris = aq.get_iris_data()\n",
    "iris.head()"
   ]
  },
  {
   "cell_type": "markdown",
   "id": "2947293e",
   "metadata": {},
   "source": [
    "#### 2. Drop the species_id and measurement_id columns."
   ]
  },
  {
   "cell_type": "code",
   "execution_count": null,
   "id": "d3c54439",
   "metadata": {
    "scrolled": true
   },
   "outputs": [],
   "source": [
    "iris = iris.drop(['species_id', 'measurement_id'], axis = 1)\n",
    "iris.head()"
   ]
  },
  {
   "cell_type": "markdown",
   "id": "949a62e2",
   "metadata": {},
   "source": [
    "#### 3. Rename the species_name column to just species."
   ]
  },
  {
   "cell_type": "code",
   "execution_count": null,
   "id": "cafd7fe6",
   "metadata": {},
   "outputs": [],
   "source": [
    "iris = iris.rename(columns={'species_name': 'species'})\n",
    "iris.head()"
   ]
  },
  {
   "cell_type": "markdown",
   "id": "6ed2ff99",
   "metadata": {},
   "source": [
    "#### 4. Create dummy variables of the species name and concatenate onto the iris dataframe. (This is for practice, we don't always have to encode the target, but if we used species as a feature, we would need to encode it)."
   ]
  },
  {
   "cell_type": "code",
   "execution_count": null,
   "id": "fedef1e3",
   "metadata": {
    "scrolled": true
   },
   "outputs": [],
   "source": [
    "dummy_var = pd.get_dummies(iris[['species']], dummy_na = False, drop_first=True)\n",
    "dummy_var.head()"
   ]
  },
  {
   "cell_type": "code",
   "execution_count": null,
   "id": "f89b0700",
   "metadata": {
    "scrolled": true
   },
   "outputs": [],
   "source": [
    "iris = pd.concat([iris, dummy_var], axis = 1)\n",
    "iris.head()"
   ]
  },
  {
   "cell_type": "markdown",
   "id": "1bdef4f8",
   "metadata": {},
   "source": [
    " #### 5. Create a function named prep_iris that accepts the untransformed iris data, and returns the data with the transformations above applied."
   ]
  },
  {
   "cell_type": "code",
   "execution_count": null,
   "id": "5eddd8d6",
   "metadata": {},
   "outputs": [],
   "source": [
    "def prep_iris(iris):\n",
    "    iris = iris.drop(['species_id','measurement_id'], axis = 1)\n",
    "    iris = iris.rename(columns={'species_name': 'species'})\n",
    "    dummy_var = pd.get_dummies(iris[['species']], dummy_na = False, drop_first=True)\n",
    "    iris = pd.concat([iris, dummy_var], axis = 1)\n",
    "    return iris"
   ]
  },
  {
   "cell_type": "code",
   "execution_count": null,
   "id": "faef5c02",
   "metadata": {
    "scrolled": true
   },
   "outputs": [],
   "source": [
    "# test function\n",
    "simple_prep = prep_iris(iris)\n",
    "simple_prep.head()"
   ]
  },
  {
   "cell_type": "markdown",
   "id": "21bfebe5",
   "metadata": {},
   "source": [
    "# Using the Titanic dataset"
   ]
  },
  {
   "cell_type": "markdown",
   "id": "924d3d57",
   "metadata": {},
   "source": [
    "#### 1. Use the function defined in acquire.py to load the Titanic data.\n",
    "\n"
   ]
  },
  {
   "cell_type": "code",
   "execution_count": null,
   "id": "9dc063ea",
   "metadata": {
    "scrolled": false
   },
   "outputs": [],
   "source": [
    "titanic = aq.get_titanic_data()\n",
    "titanic.head()"
   ]
  },
  {
   "cell_type": "markdown",
   "id": "c91156b3",
   "metadata": {},
   "source": [
    "#### 2. Drop any unnecessary, unhelpful, or duplicated columns."
   ]
  },
  {
   "cell_type": "code",
   "execution_count": null,
   "id": "f907cdd5",
   "metadata": {
    "scrolled": true
   },
   "outputs": [],
   "source": [
    "# Dropping columns\n",
    "# dropping any possible duplicate \n",
    "\n",
    "titanic = titanic.drop(['pclass', 'passenger_id',\n",
    "                            'class','deck', 'embarked'], axis= 1)\n",
    "titanic.drop_duplicates(inplace=True)\n",
    "titanic"
   ]
  },
  {
   "cell_type": "markdown",
   "id": "04de8708",
   "metadata": {},
   "source": [
    "#### 3. Encode the categorical columns. Create dummy variables of the categorical columns and concatenate them onto the dataframe."
   ]
  },
  {
   "cell_type": "code",
   "execution_count": null,
   "id": "1d06e5c7",
   "metadata": {
    "scrolled": false
   },
   "outputs": [],
   "source": [
    "titanic.info()"
   ]
  },
  {
   "cell_type": "code",
   "execution_count": null,
   "id": "a15a763b",
   "metadata": {
    "scrolled": true
   },
   "outputs": [],
   "source": [
    "# imputing\n",
    "titanic['age'] = titanic.age.fillna(titanic.age.mean())\n",
    "titanic['embark_town'] = titanic.embark_town.fillna('Southampton')\n",
    "titanic.info()"
   ]
  },
  {
   "cell_type": "code",
   "execution_count": null,
   "id": "1947207f",
   "metadata": {
    "scrolled": true
   },
   "outputs": [],
   "source": [
    "# creating dummy variables\n",
    "dummy_titanic = pd.get_dummies(titanic[['sex', 'embark_town']],\n",
    "                              dummy_na = False,\n",
    "                              drop_first = [True, True])\n",
    "dummy_titanic.head()"
   ]
  },
  {
   "cell_type": "code",
   "execution_count": null,
   "id": "e26edfc4",
   "metadata": {},
   "outputs": [],
   "source": [
    "# second drop\n",
    "titanic = titanic.drop(['sex','embark_town'], axis= 1)"
   ]
  },
  {
   "cell_type": "code",
   "execution_count": null,
   "id": "f5ba7995",
   "metadata": {
    "scrolled": true
   },
   "outputs": [],
   "source": [
    "titanic = pd.concat([titanic_alt, dummy_titanic], axis = 1)\n",
    "titanic.head()"
   ]
  },
  {
   "cell_type": "markdown",
   "id": "ef69d395",
   "metadata": {},
   "source": [
    "#### 4. Create a function named prep_titanic that accepts the raw titanic data, and returns the data with the transformations above applied."
   ]
  },
  {
   "cell_type": "code",
   "execution_count": null,
   "id": "e1380d64",
   "metadata": {},
   "outputs": [],
   "source": [
    "def prep_titanic(titanic):\n",
    "    titanic = titanic.drop(['passenger_id',\n",
    "                            'class','deck', 'embarked'], axis= 1)\n",
    "    titanic.drop_duplicates(inplace=True)\n",
    "    titanic['age'] = titanic.age.fillna(titanic.age.mean())\n",
    "    titanic['embark_town'] = titanic.embark_town.fillna('Southampton')\n",
    "    dummy_titanic = pd.get_dummies(titanic[['sex', 'embark_town']],\n",
    "                              dummy_na = False,\n",
    "                              drop_first = [True, True])\n",
    "    titanic = titanic.drop(['sex','embark_town'], axis= 1)\n",
    "    titanic = pd.concat([titanic, dummy_titanic], axis = 1)\n",
    "    return titanic"
   ]
  },
  {
   "cell_type": "code",
   "execution_count": null,
   "id": "6a1b265a",
   "metadata": {
    "scrolled": false
   },
   "outputs": [],
   "source": [
    "titanic_prepped = prep_titanic(titanic)"
   ]
  },
  {
   "cell_type": "code",
   "execution_count": null,
   "id": "7d8d373b",
   "metadata": {},
   "outputs": [],
   "source": [
    "titanic_prepped.describe()"
   ]
  },
  {
   "cell_type": "markdown",
   "id": "f89265ae",
   "metadata": {},
   "source": [
    "# Using the Telco dataset"
   ]
  },
  {
   "cell_type": "markdown",
   "id": "31975969",
   "metadata": {},
   "source": [
    "#### 1. Use the function defined in acquire.py to load the Telco data."
   ]
  },
  {
   "cell_type": "code",
   "execution_count": null,
   "id": "aef185a6",
   "metadata": {
    "scrolled": false
   },
   "outputs": [],
   "source": [
    "# get telco data\n",
    "telco = aq.get_telco_data()\n",
    "telco.head()"
   ]
  },
  {
   "cell_type": "markdown",
   "id": "fc7abfca",
   "metadata": {},
   "source": [
    "# Takeaways\n",
    "- total charges is an object. Should be a float\n",
    "- No need for type ids, to inclue customer id\n",
    "- No need for device protection, tech support, online backup, online security, streaming tv, streaming movies\n",
    "- no nulls"
   ]
  },
  {
   "cell_type": "markdown",
   "id": "ee942753",
   "metadata": {},
   "source": [
    "#### Drop any unnecessary, unhelpful, or duplicated columns. This could mean dropping foreign key columns but keeping the corresponding string values, for example."
   ]
  },
  {
   "cell_type": "code",
   "execution_count": null,
   "id": "1e74059d",
   "metadata": {},
   "outputs": [],
   "source": [
    "# drop duplicates\n",
    "telco.drop_duplicates(inplace=True)"
   ]
  },
  {
   "cell_type": "code",
   "execution_count": null,
   "id": "f4921308",
   "metadata": {
    "scrolled": true
   },
   "outputs": [],
   "source": [
    "telco = telco.drop(['internet_service_type_id', 'payment_type_id', 'contract_type_id',\n",
    "                  'customer_id', 'online_security', 'online_backup', 'device_protection',\n",
    "                  'tech_support', 'streaming_tv', 'streaming_movies'], axis= 1)\n",
    "telco.head()"
   ]
  },
  {
   "cell_type": "code",
   "execution_count": null,
   "id": "176b7dc0",
   "metadata": {},
   "outputs": [],
   "source": [
    "telco['total_charges'] = telco['total_charges'].str.strip()\n",
    "telco = telco[telco.total_charges != '']\n",
    "telco['total_charges']= telco.total_charges.astype('float')"
   ]
  },
  {
   "cell_type": "markdown",
   "id": "5c21d186",
   "metadata": {},
   "source": [
    "#### Encode the categorical columns. Create dummy variables of the categorical columns and concatenate them onto the dataframe."
   ]
  },
  {
   "cell_type": "code",
   "execution_count": null,
   "id": "0b6d144d",
   "metadata": {},
   "outputs": [],
   "source": [
    "# mapping catgs. to numerics\n",
    "# Yes = 1, No = 0\n",
    "# idea : creating dummy columns just to drop them and keep numerics == mapping\n",
    "telco['partner'] = telco.partner.map({'Yes': 1, 'No': 0})\n",
    "telco['dependents'] = telco.dependents.map({'Yes': 1, 'No': 0})\n",
    "telco['phone_service'] = telco.phone_service.map({'Yes': 1, 'No': 0})\n",
    "telco['paperless_billing'] = telco.paperless_billing.map({'Yes': 1, 'No': 0})\n",
    "telco['churn'] = telco.churn.map({'Yes': 1, 'No': 0})\n",
    "telco.head()"
   ]
  },
  {
   "cell_type": "code",
   "execution_count": null,
   "id": "27831445",
   "metadata": {},
   "outputs": [],
   "source": [
    "# create dummy for cat cols\n",
    "dummy_telco = pd.get_dummies(telco[['gender', 'multiple_lines', 'contract_type',\n",
    "                                     'payment_type', 'internet_service_type']])"
   ]
  },
  {
   "cell_type": "code",
   "execution_count": null,
   "id": "117fe12c",
   "metadata": {},
   "outputs": [],
   "source": [
    "# concat new cols, drop previous \n",
    "telco = pd.concat([telco, dummy_telco], axis = 1)\n",
    "telco.head()"
   ]
  },
  {
   "cell_type": "markdown",
   "id": "57eac871",
   "metadata": {},
   "source": [
    "### 4. Create a function named prep_telco that accepts the raw telco data, and returns the data with the transformations above applied."
   ]
  },
  {
   "cell_type": "code",
   "execution_count": null,
   "id": "a591a137",
   "metadata": {},
   "outputs": [],
   "source": [
    "# train, split, validate tests, from sklearn.model_selection \n",
    "train_validate, test = train_test_split(telco, test_size=.2,\n",
    "                                       random_state=123,\n",
    "                                       stratify=telco.churn)\n",
    "\n",
    "train, validate = train_test_split(train_validate, test_size=.3,\n",
    "                                  random_state=123,\n",
    "                                  stratify=train_validate.churn)\n"
   ]
  },
  {
   "cell_type": "code",
   "execution_count": null,
   "id": "8ae732ce",
   "metadata": {},
   "outputs": [],
   "source": [
    "train.shape"
   ]
  },
  {
   "cell_type": "code",
   "execution_count": null,
   "id": "227f11cf",
   "metadata": {},
   "outputs": [],
   "source": [
    "test.shape"
   ]
  },
  {
   "cell_type": "code",
   "execution_count": null,
   "id": "3947a5e2",
   "metadata": {},
   "outputs": [],
   "source": [
    "validate.shape"
   ]
  },
  {
   "cell_type": "code",
   "execution_count": null,
   "id": "e69c1aae",
   "metadata": {},
   "outputs": [],
   "source": [
    "# using the split data function from the lesson, and for practice:\n",
    "\n",
    "def split_telco_data(telco):\n",
    "    train_validate, test = train_test_split(telco, test_size=.2,\n",
    "                                           random_state=123,\n",
    "                                           stratify=telco.churn)\n",
    "    train,validate = train_test_split(train_validate, test_size=.3,\n",
    "                                     random_state=123,\n",
    "                                     stratify=train_validate.churn)\n",
    "    return train, validate, test"
   ]
  },
  {
   "cell_type": "code",
   "execution_count": null,
   "id": "f5c623c3",
   "metadata": {},
   "outputs": [],
   "source": [
    "# create the function prep_telco with the split function\n",
    "def prep_telco(telco):\n",
    "    \n",
    "    # drop duplicates\n",
    "    telco.drop_duplicates(inplace=True)\n",
    "    \n",
    "    # drop specific columns\n",
    "    telco = telco.drop(['internet_service_type_id', 'payment_type_id', 'contract_type_id',\n",
    "                  'customer_id', 'online_security', 'online_backup', 'device_protection',\n",
    "                  'tech_support', 'streaming_tv', 'streaming_movies'], axis= 1)\n",
    "    \n",
    "    # strip spaces from total charges, turn into a float\n",
    "    telco['total_charges'] = telco['total_charges'].str.strip()\n",
    "    telco = telco[telco.total_charges != '']\n",
    "    telco['total_charges']= telco.total_charges.astype('float')\n",
    "    \n",
    "    # map Yes = 1, No = 0\n",
    "    telco['partner'] = telco.partner.map({'Yes': 1, 'No': 0})\n",
    "    telco['dependents'] = telco.dependents.map({'Yes': 1, 'No': 0})\n",
    "    telco['phone_service'] = telco.phone_service.map({'Yes': 1, 'No': 0})\n",
    "    telco['paperless_billing'] = telco.paperless_billing.map({'Yes': 1, 'No': 0})\n",
    "    telco['churn'] = telco.churn.map({'Yes': 1, 'No': 0})\n",
    "    \n",
    "    # create dummy for cat cols to numeric cols\n",
    "    dummy_telco = pd.get_dummies(telco[['gender', 'multiple_lines', 'contract_type',\n",
    "                                     'payment_type', 'internet_service_type']])\n",
    "    \n",
    "    # concat\n",
    "    telco = pd.concat([telco, dummy_telco], axis = 1)\n",
    "    \n",
    "    # train validate test\n",
    "    train, validate, test = split_telco_data(telco)\n",
    "    \n",
    "    return train, validate, test"
   ]
  },
  {
   "cell_type": "code",
   "execution_count": null,
   "id": "1d8104b9",
   "metadata": {},
   "outputs": [],
   "source": [
    "# observe train validate test\n",
    "train, validate, test = prep_telco(telco)"
   ]
  },
  {
   "cell_type": "code",
   "execution_count": null,
   "id": "e3e67691",
   "metadata": {},
   "outputs": [],
   "source": [
    "train.info()\n",
    "# no nulls, check"
   ]
  },
  {
   "cell_type": "code",
   "execution_count": null,
   "id": "51d84c47",
   "metadata": {},
   "outputs": [],
   "source": [
    "validate.info()\n",
    "# no nulls, check"
   ]
  },
  {
   "cell_type": "code",
   "execution_count": null,
   "id": "2c45b3ee",
   "metadata": {},
   "outputs": [],
   "source": [
    "test.info()\n",
    "# no nulls, check"
   ]
  },
  {
   "cell_type": "markdown",
   "id": "8c8de738",
   "metadata": {},
   "source": [
    "# Takeaways\n",
    "- Using train, test, validate helps split the data into categories for machine learning\n",
    "- cleaning the data and then preparing them for entry into a machine learning model is best practice."
   ]
  },
  {
   "cell_type": "markdown",
   "id": "1451eb18",
   "metadata": {},
   "source": [
    "# Exploratory Analysis Exercises\n",
    "\n",
    "## Part 1 - Iris Data\n",
    "\n",
    "#### 1. Acquire, prepare & and split your data"
   ]
  },
  {
   "cell_type": "code",
   "execution_count": 31,
   "id": "186071be",
   "metadata": {},
   "outputs": [],
   "source": [
    "import prepare as prep\n",
    "import acquire as aq"
   ]
  },
  {
   "cell_type": "code",
   "execution_count": 32,
   "id": "da7a0639",
   "metadata": {
    "scrolled": false
   },
   "outputs": [
    {
     "data": {
      "text/html": [
       "<div>\n",
       "<style scoped>\n",
       "    .dataframe tbody tr th:only-of-type {\n",
       "        vertical-align: middle;\n",
       "    }\n",
       "\n",
       "    .dataframe tbody tr th {\n",
       "        vertical-align: top;\n",
       "    }\n",
       "\n",
       "    .dataframe thead th {\n",
       "        text-align: right;\n",
       "    }\n",
       "</style>\n",
       "<table border=\"1\" class=\"dataframe\">\n",
       "  <thead>\n",
       "    <tr style=\"text-align: right;\">\n",
       "      <th></th>\n",
       "      <th>species_id</th>\n",
       "      <th>measurement_id</th>\n",
       "      <th>sepal_length</th>\n",
       "      <th>sepal_width</th>\n",
       "      <th>petal_length</th>\n",
       "      <th>petal_width</th>\n",
       "      <th>species_name</th>\n",
       "    </tr>\n",
       "  </thead>\n",
       "  <tbody>\n",
       "    <tr>\n",
       "      <th>0</th>\n",
       "      <td>1</td>\n",
       "      <td>1</td>\n",
       "      <td>5.1</td>\n",
       "      <td>3.5</td>\n",
       "      <td>1.4</td>\n",
       "      <td>0.2</td>\n",
       "      <td>setosa</td>\n",
       "    </tr>\n",
       "    <tr>\n",
       "      <th>1</th>\n",
       "      <td>1</td>\n",
       "      <td>2</td>\n",
       "      <td>4.9</td>\n",
       "      <td>3.0</td>\n",
       "      <td>1.4</td>\n",
       "      <td>0.2</td>\n",
       "      <td>setosa</td>\n",
       "    </tr>\n",
       "    <tr>\n",
       "      <th>2</th>\n",
       "      <td>1</td>\n",
       "      <td>3</td>\n",
       "      <td>4.7</td>\n",
       "      <td>3.2</td>\n",
       "      <td>1.3</td>\n",
       "      <td>0.2</td>\n",
       "      <td>setosa</td>\n",
       "    </tr>\n",
       "    <tr>\n",
       "      <th>3</th>\n",
       "      <td>1</td>\n",
       "      <td>4</td>\n",
       "      <td>4.6</td>\n",
       "      <td>3.1</td>\n",
       "      <td>1.5</td>\n",
       "      <td>0.2</td>\n",
       "      <td>setosa</td>\n",
       "    </tr>\n",
       "    <tr>\n",
       "      <th>4</th>\n",
       "      <td>1</td>\n",
       "      <td>5</td>\n",
       "      <td>5.0</td>\n",
       "      <td>3.6</td>\n",
       "      <td>1.4</td>\n",
       "      <td>0.2</td>\n",
       "      <td>setosa</td>\n",
       "    </tr>\n",
       "  </tbody>\n",
       "</table>\n",
       "</div>"
      ],
      "text/plain": [
       "   species_id  measurement_id  sepal_length  sepal_width  petal_length  \\\n",
       "0           1               1           5.1          3.5           1.4   \n",
       "1           1               2           4.9          3.0           1.4   \n",
       "2           1               3           4.7          3.2           1.3   \n",
       "3           1               4           4.6          3.1           1.5   \n",
       "4           1               5           5.0          3.6           1.4   \n",
       "\n",
       "   petal_width species_name  \n",
       "0          0.2       setosa  \n",
       "1          0.2       setosa  \n",
       "2          0.2       setosa  \n",
       "3          0.2       setosa  \n",
       "4          0.2       setosa  "
      ]
     },
     "execution_count": 32,
     "metadata": {},
     "output_type": "execute_result"
    }
   ],
   "source": [
    "# acquire data\n",
    "iris = aq.get_iris_data()\n",
    "iris.head()"
   ]
  },
  {
   "cell_type": "code",
   "execution_count": 33,
   "id": "80d1d901",
   "metadata": {
    "scrolled": true
   },
   "outputs": [
    {
     "data": {
      "text/plain": [
       "(     sepal_length  sepal_width  petal_length  petal_width     species\n",
       " 79            5.7          2.6           3.5          1.0  versicolor\n",
       " 36            5.5          3.5           1.3          0.2      setosa\n",
       " 133           6.3          2.8           5.1          1.5   virginica\n",
       " 95            5.7          3.0           4.2          1.2  versicolor\n",
       " 18            5.7          3.8           1.7          0.3      setosa\n",
       " 139           6.9          3.1           5.4          2.1   virginica\n",
       " 20            5.4          3.4           1.7          0.2      setosa\n",
       " 31            5.4          3.4           1.5          0.4      setosa\n",
       " 6             4.6          3.4           1.4          0.3      setosa\n",
       " 115           6.4          3.2           5.3          2.3   virginica\n",
       " 91            6.1          3.0           4.6          1.4  versicolor\n",
       " 145           6.7          3.0           5.2          2.3   virginica\n",
       " 125           7.2          3.2           6.0          1.8   virginica\n",
       " 82            5.8          2.7           3.9          1.2  versicolor\n",
       " 126           6.2          2.8           4.8          1.8   virginica\n",
       " 142           5.8          2.7           5.1          1.9   virginica\n",
       " 15            5.7          4.4           1.5          0.4      setosa\n",
       " 52            6.9          3.1           4.9          1.5  versicolor\n",
       " 4             5.0          3.6           1.4          0.2      setosa\n",
       " 131           7.9          3.8           6.4          2.0   virginica\n",
       " 97            6.2          2.9           4.3          1.3  versicolor\n",
       " 70            5.9          3.2           4.8          1.8  versicolor\n",
       " 51            6.4          3.2           4.5          1.5  versicolor\n",
       " 57            4.9          2.4           3.3          1.0  versicolor\n",
       " 41            4.5          2.3           1.3          0.3      setosa\n",
       " 53            5.5          2.3           4.0          1.3  versicolor\n",
       " 69            5.6          2.5           3.9          1.1  versicolor\n",
       " 23            5.1          3.3           1.7          0.5      setosa\n",
       " 87            6.3          2.3           4.4          1.3  versicolor\n",
       " 3             4.6          3.1           1.5          0.2      setosa\n",
       " 67            5.8          2.7           4.1          1.0  versicolor\n",
       " 35            5.0          3.2           1.2          0.2      setosa\n",
       " 128           6.4          2.8           5.6          2.1   virginica\n",
       " 1             4.9          3.0           1.4          0.2      setosa\n",
       " 16            5.4          3.9           1.3          0.4      setosa\n",
       " 92            5.8          2.6           4.0          1.2  versicolor\n",
       " 32            5.2          4.1           1.5          0.1      setosa\n",
       " 129           7.2          3.0           5.8          1.6   virginica\n",
       " 48            5.3          3.7           1.5          0.2      setosa\n",
       " 25            5.0          3.0           1.6          0.2      setosa\n",
       " 12            4.8          3.0           1.4          0.1      setosa\n",
       " 96            5.7          2.9           4.2          1.3  versicolor\n",
       " 46            5.1          3.8           1.6          0.2      setosa\n",
       " 103           6.3          2.9           5.6          1.8   virginica\n",
       " 89            5.5          2.5           4.0          1.3  versicolor\n",
       " 123           6.3          2.7           4.9          1.8   virginica\n",
       " 120           6.9          3.2           5.7          2.3   virginica\n",
       " 147           6.5          3.0           5.2          2.0   virginica\n",
       " 114           5.8          2.8           5.1          2.4   virginica\n",
       " 83            6.0          2.7           5.1          1.6  versicolor\n",
       " 26            5.0          3.4           1.6          0.4      setosa\n",
       " 84            5.4          3.0           4.5          1.5  versicolor\n",
       " 8             4.4          2.9           1.4          0.2      setosa\n",
       " 24            4.8          3.4           1.9          0.2      setosa\n",
       " 107           7.3          2.9           6.3          1.8   virginica\n",
       " 118           7.7          2.6           6.9          2.3   virginica\n",
       " 112           6.8          3.0           5.5          2.1   virginica\n",
       " 141           6.9          3.1           5.1          2.3   virginica\n",
       " 14            5.8          4.0           1.2          0.2      setosa\n",
       " 43            5.0          3.5           1.6          0.6      setosa\n",
       " 40            5.0          3.5           1.3          0.3      setosa\n",
       " 109           7.2          3.6           6.1          2.5   virginica\n",
       " 74            6.4          2.9           4.3          1.3  versicolor\n",
       " 108           6.7          2.5           5.8          1.8   virginica\n",
       " 119           6.0          2.2           5.0          1.5   virginica\n",
       " 61            5.9          3.0           4.2          1.5  versicolor\n",
       " 81            5.5          2.4           3.7          1.0  versicolor\n",
       " 111           6.4          2.7           5.3          1.9   virginica\n",
       " 58            6.6          2.9           4.6          1.3  versicolor\n",
       " 7             5.0          3.4           1.5          0.2      setosa\n",
       " 149           5.9          3.0           5.1          1.8   virginica\n",
       " 54            6.5          2.8           4.6          1.5  versicolor\n",
       " 94            5.6          2.7           4.2          1.3  versicolor\n",
       " 100           6.3          3.3           6.0          2.5   virginica\n",
       " 137           6.4          3.1           5.5          1.8   virginica\n",
       " 132           6.4          2.8           5.6          2.2   virginica\n",
       " 5             5.4          3.9           1.7          0.4      setosa\n",
       " 88            5.6          3.0           4.1          1.3  versicolor\n",
       " 140           6.7          3.1           5.6          2.4   virginica\n",
       " 11            4.8          3.4           1.6          0.2      setosa\n",
       " 85            6.0          3.4           4.5          1.6  versicolor\n",
       " 55            5.7          2.8           4.5          1.3  versicolor\n",
       " 44            5.1          3.8           1.9          0.4      setosa\n",
       " 73            6.1          2.8           4.7          1.2  versicolor,\n",
       "      sepal_length  sepal_width  petal_length  petal_width     species\n",
       " 134           6.1          2.6           5.6          1.4   virginica\n",
       " 62            6.0          2.2           4.0          1.0  versicolor\n",
       " 98            5.1          2.5           3.0          1.1  versicolor\n",
       " 66            5.6          3.0           4.5          1.5  versicolor\n",
       " 121           5.6          2.8           4.9          2.0   virginica\n",
       " 59            5.2          2.7           3.9          1.4  versicolor\n",
       " 0             5.1          3.5           1.4          0.2      setosa\n",
       " 37            4.9          3.6           1.4          0.1      setosa\n",
       " 29            4.7          3.2           1.6          0.2      setosa\n",
       " 104           6.5          3.0           5.8          2.2   virginica\n",
       " 10            5.4          3.7           1.5          0.2      setosa\n",
       " 130           7.4          2.8           6.1          1.9   virginica\n",
       " 122           7.7          2.8           6.7          2.0   virginica\n",
       " 9             4.9          3.1           1.5          0.1      setosa\n",
       " 75            6.6          3.0           4.4          1.4  versicolor\n",
       " 39            5.1          3.4           1.5          0.2      setosa\n",
       " 148           6.2          3.4           5.4          2.3   virginica\n",
       " 50            7.0          3.2           4.7          1.4  versicolor\n",
       " 60            5.0          2.0           3.5          1.0  versicolor\n",
       " 71            6.1          2.8           4.0          1.3  versicolor\n",
       " 78            6.0          2.9           4.5          1.5  versicolor\n",
       " 102           7.1          3.0           5.9          2.1   virginica\n",
       " 106           4.9          2.5           4.5          1.7   virginica\n",
       " 64            5.6          2.9           3.6          1.3  versicolor\n",
       " 136           6.3          3.4           5.6          2.4   virginica\n",
       " 90            5.5          2.6           4.4          1.2  versicolor\n",
       " 13            4.3          3.0           1.1          0.1      setosa\n",
       " 49            5.0          3.3           1.4          0.2      setosa\n",
       " 21            5.1          3.7           1.5          0.4      setosa\n",
       " 47            4.6          3.2           1.4          0.2      setosa\n",
       " 143           6.8          3.2           5.9          2.3   virginica\n",
       " 113           5.7          2.5           5.0          2.0   virginica\n",
       " 99            5.7          2.8           4.1          1.3  versicolor\n",
       " 27            5.2          3.5           1.5          0.2      setosa\n",
       " 30            4.8          3.1           1.6          0.2      setosa\n",
       " 124           6.7          3.3           5.7          2.1   virginica,\n",
       "      sepal_length  sepal_width  petal_length  petal_width     species\n",
       " 80            5.5          2.4           3.8          1.1  versicolor\n",
       " 45            4.8          3.0           1.4          0.3      setosa\n",
       " 144           6.7          3.3           5.7          2.5   virginica\n",
       " 110           6.5          3.2           5.1          2.0   virginica\n",
       " 38            4.4          3.0           1.3          0.2      setosa\n",
       " 2             4.7          3.2           1.3          0.2      setosa\n",
       " 135           7.7          3.0           6.1          2.3   virginica\n",
       " 72            6.3          2.5           4.9          1.5  versicolor\n",
       " 138           6.0          3.0           4.8          1.8   virginica\n",
       " 34            4.9          3.1           1.5          0.2      setosa\n",
       " 19            5.1          3.8           1.5          0.3      setosa\n",
       " 77            6.7          3.0           5.0          1.7  versicolor\n",
       " 101           5.8          2.7           5.1          1.9   virginica\n",
       " 63            6.1          2.9           4.7          1.4  versicolor\n",
       " 117           7.7          3.8           6.7          2.2   virginica\n",
       " 76            6.8          2.8           4.8          1.4  versicolor\n",
       " 42            4.4          3.2           1.3          0.2      setosa\n",
       " 22            4.6          3.6           1.0          0.2      setosa\n",
       " 28            5.2          3.4           1.4          0.2      setosa\n",
       " 33            5.5          4.2           1.4          0.2      setosa\n",
       " 17            5.1          3.5           1.4          0.3      setosa\n",
       " 116           6.5          3.0           5.5          1.8   virginica\n",
       " 127           6.1          3.0           4.9          1.8   virginica\n",
       " 56            6.3          3.3           4.7          1.6  versicolor\n",
       " 105           7.6          3.0           6.6          2.1   virginica\n",
       " 146           6.3          2.5           5.0          1.9   virginica\n",
       " 93            5.0          2.3           3.3          1.0  versicolor\n",
       " 86            6.7          3.1           4.7          1.5  versicolor\n",
       " 68            6.2          2.2           4.5          1.5  versicolor\n",
       " 65            6.7          3.1           4.4          1.4  versicolor)"
      ]
     },
     "execution_count": 33,
     "metadata": {},
     "output_type": "execute_result"
    }
   ],
   "source": [
    "# prepare data. (already done, grab from prepare.py)\n",
    "df = prep.prep_iris(iris)\n",
    "df"
   ]
  },
  {
   "cell_type": "code",
   "execution_count": 34,
   "id": "2e59bf79",
   "metadata": {
    "scrolled": false
   },
   "outputs": [],
   "source": [
    "# split data\n",
    "train, validate, test = prep.prep_iris(iris)"
   ]
  },
  {
   "cell_type": "code",
   "execution_count": 35,
   "id": "e2938672",
   "metadata": {},
   "outputs": [
    {
     "data": {
      "text/plain": [
       "(84, 5)"
      ]
     },
     "execution_count": 35,
     "metadata": {},
     "output_type": "execute_result"
    }
   ],
   "source": [
    "# main dataset\n",
    "train.shape"
   ]
  },
  {
   "cell_type": "code",
   "execution_count": 36,
   "id": "6a4867fd",
   "metadata": {},
   "outputs": [
    {
     "data": {
      "text/plain": [
       "(36, 5)"
      ]
     },
     "execution_count": 36,
     "metadata": {},
     "output_type": "execute_result"
    }
   ],
   "source": [
    "validate.shape"
   ]
  },
  {
   "cell_type": "code",
   "execution_count": 37,
   "id": "dca75978",
   "metadata": {},
   "outputs": [
    {
     "data": {
      "text/plain": [
       "(30, 5)"
      ]
     },
     "execution_count": 37,
     "metadata": {},
     "output_type": "execute_result"
    }
   ],
   "source": [
    "test.shape"
   ]
  },
  {
   "cell_type": "markdown",
   "id": "d8a7ba15",
   "metadata": {},
   "source": [
    "# 2. Univariate Stats"
   ]
  },
  {
   "cell_type": "markdown",
   "id": "2e9a43c2",
   "metadata": {},
   "source": [
    "- For each measurement type (quantitative variable): create a histogram, boxplot, & compute descriptive statistics (using .describe())."
   ]
  },
  {
   "cell_type": "code",
   "execution_count": 38,
   "id": "512fba78",
   "metadata": {},
   "outputs": [
    {
     "data": {
      "text/html": [
       "<div>\n",
       "<style scoped>\n",
       "    .dataframe tbody tr th:only-of-type {\n",
       "        vertical-align: middle;\n",
       "    }\n",
       "\n",
       "    .dataframe tbody tr th {\n",
       "        vertical-align: top;\n",
       "    }\n",
       "\n",
       "    .dataframe thead th {\n",
       "        text-align: right;\n",
       "    }\n",
       "</style>\n",
       "<table border=\"1\" class=\"dataframe\">\n",
       "  <thead>\n",
       "    <tr style=\"text-align: right;\">\n",
       "      <th></th>\n",
       "      <th>sepal_length</th>\n",
       "      <th>sepal_width</th>\n",
       "      <th>petal_length</th>\n",
       "      <th>petal_width</th>\n",
       "      <th>species</th>\n",
       "    </tr>\n",
       "  </thead>\n",
       "  <tbody>\n",
       "    <tr>\n",
       "      <th>79</th>\n",
       "      <td>5.7</td>\n",
       "      <td>2.6</td>\n",
       "      <td>3.5</td>\n",
       "      <td>1.0</td>\n",
       "      <td>versicolor</td>\n",
       "    </tr>\n",
       "    <tr>\n",
       "      <th>36</th>\n",
       "      <td>5.5</td>\n",
       "      <td>3.5</td>\n",
       "      <td>1.3</td>\n",
       "      <td>0.2</td>\n",
       "      <td>setosa</td>\n",
       "    </tr>\n",
       "    <tr>\n",
       "      <th>133</th>\n",
       "      <td>6.3</td>\n",
       "      <td>2.8</td>\n",
       "      <td>5.1</td>\n",
       "      <td>1.5</td>\n",
       "      <td>virginica</td>\n",
       "    </tr>\n",
       "    <tr>\n",
       "      <th>95</th>\n",
       "      <td>5.7</td>\n",
       "      <td>3.0</td>\n",
       "      <td>4.2</td>\n",
       "      <td>1.2</td>\n",
       "      <td>versicolor</td>\n",
       "    </tr>\n",
       "    <tr>\n",
       "      <th>18</th>\n",
       "      <td>5.7</td>\n",
       "      <td>3.8</td>\n",
       "      <td>1.7</td>\n",
       "      <td>0.3</td>\n",
       "      <td>setosa</td>\n",
       "    </tr>\n",
       "  </tbody>\n",
       "</table>\n",
       "</div>"
      ],
      "text/plain": [
       "     sepal_length  sepal_width  petal_length  petal_width     species\n",
       "79            5.7          2.6           3.5          1.0  versicolor\n",
       "36            5.5          3.5           1.3          0.2      setosa\n",
       "133           6.3          2.8           5.1          1.5   virginica\n",
       "95            5.7          3.0           4.2          1.2  versicolor\n",
       "18            5.7          3.8           1.7          0.3      setosa"
      ]
     },
     "execution_count": 38,
     "metadata": {},
     "output_type": "execute_result"
    }
   ],
   "source": [
    "# operate only on train dataset\n",
    "# removed unit8 species_versicolor/setosa cols. Check prep.py\n",
    "\n",
    "train.head()"
   ]
  },
  {
   "cell_type": "code",
   "execution_count": 39,
   "id": "da8d0382",
   "metadata": {},
   "outputs": [
    {
     "name": "stdout",
     "output_type": "stream",
     "text": [
      "<class 'pandas.core.frame.DataFrame'>\n",
      "Int64Index: 84 entries, 79 to 73\n",
      "Data columns (total 5 columns):\n",
      " #   Column        Non-Null Count  Dtype  \n",
      "---  ------        --------------  -----  \n",
      " 0   sepal_length  84 non-null     float64\n",
      " 1   sepal_width   84 non-null     float64\n",
      " 2   petal_length  84 non-null     float64\n",
      " 3   petal_width   84 non-null     float64\n",
      " 4   species       84 non-null     object \n",
      "dtypes: float64(4), object(1)\n",
      "memory usage: 3.9+ KB\n"
     ]
    }
   ],
   "source": [
    "#unit8's removed\n",
    "train.info()"
   ]
  },
  {
   "cell_type": "code",
   "execution_count": 40,
   "id": "1a0bd518",
   "metadata": {},
   "outputs": [
    {
     "data": {
      "text/html": [
       "<div>\n",
       "<style scoped>\n",
       "    .dataframe tbody tr th:only-of-type {\n",
       "        vertical-align: middle;\n",
       "    }\n",
       "\n",
       "    .dataframe tbody tr th {\n",
       "        vertical-align: top;\n",
       "    }\n",
       "\n",
       "    .dataframe thead th {\n",
       "        text-align: right;\n",
       "    }\n",
       "</style>\n",
       "<table border=\"1\" class=\"dataframe\">\n",
       "  <thead>\n",
       "    <tr style=\"text-align: right;\">\n",
       "      <th></th>\n",
       "      <th>sepal_length</th>\n",
       "      <th>sepal_width</th>\n",
       "      <th>petal_length</th>\n",
       "      <th>petal_width</th>\n",
       "    </tr>\n",
       "  </thead>\n",
       "  <tbody>\n",
       "    <tr>\n",
       "      <th>count</th>\n",
       "      <td>84.000000</td>\n",
       "      <td>84.000000</td>\n",
       "      <td>84.000000</td>\n",
       "      <td>84.000000</td>\n",
       "    </tr>\n",
       "    <tr>\n",
       "      <th>mean</th>\n",
       "      <td>5.870238</td>\n",
       "      <td>3.075000</td>\n",
       "      <td>3.771429</td>\n",
       "      <td>1.203571</td>\n",
       "    </tr>\n",
       "    <tr>\n",
       "      <th>std</th>\n",
       "      <td>0.769099</td>\n",
       "      <td>0.448256</td>\n",
       "      <td>1.734940</td>\n",
       "      <td>0.752577</td>\n",
       "    </tr>\n",
       "    <tr>\n",
       "      <th>min</th>\n",
       "      <td>4.400000</td>\n",
       "      <td>2.200000</td>\n",
       "      <td>1.200000</td>\n",
       "      <td>0.100000</td>\n",
       "    </tr>\n",
       "    <tr>\n",
       "      <th>25%</th>\n",
       "      <td>5.375000</td>\n",
       "      <td>2.800000</td>\n",
       "      <td>1.600000</td>\n",
       "      <td>0.400000</td>\n",
       "    </tr>\n",
       "    <tr>\n",
       "      <th>50%</th>\n",
       "      <td>5.800000</td>\n",
       "      <td>3.000000</td>\n",
       "      <td>4.250000</td>\n",
       "      <td>1.300000</td>\n",
       "    </tr>\n",
       "    <tr>\n",
       "      <th>75%</th>\n",
       "      <td>6.400000</td>\n",
       "      <td>3.400000</td>\n",
       "      <td>5.100000</td>\n",
       "      <td>1.800000</td>\n",
       "    </tr>\n",
       "    <tr>\n",
       "      <th>max</th>\n",
       "      <td>7.900000</td>\n",
       "      <td>4.400000</td>\n",
       "      <td>6.900000</td>\n",
       "      <td>2.500000</td>\n",
       "    </tr>\n",
       "  </tbody>\n",
       "</table>\n",
       "</div>"
      ],
      "text/plain": [
       "       sepal_length  sepal_width  petal_length  petal_width\n",
       "count     84.000000    84.000000     84.000000    84.000000\n",
       "mean       5.870238     3.075000      3.771429     1.203571\n",
       "std        0.769099     0.448256      1.734940     0.752577\n",
       "min        4.400000     2.200000      1.200000     0.100000\n",
       "25%        5.375000     2.800000      1.600000     0.400000\n",
       "50%        5.800000     3.000000      4.250000     1.300000\n",
       "75%        6.400000     3.400000      5.100000     1.800000\n",
       "max        7.900000     4.400000      6.900000     2.500000"
      ]
     },
     "execution_count": 40,
     "metadata": {},
     "output_type": "execute_result"
    }
   ],
   "source": [
    "# compute descriptive stats\n",
    "train.describe()"
   ]
  },
  {
   "cell_type": "code",
   "execution_count": 13,
   "id": "537a1bb7",
   "metadata": {
    "scrolled": false
   },
   "outputs": [
    {
     "data": {
      "image/png": "[encoded data removed]",
      "text/plain": [
       "<Figure size 432x288 with 1 Axes>"
      ]
     },
     "metadata": {
      "needs_background": "light"
     },
     "output_type": "display_data"
    },
    {
     "data": {
      "image/png": "[encoded data removed]",
      "text/plain": [
       "<Figure size 432x288 with 1 Axes>"
      ]
     },
     "metadata": {
      "needs_background": "light"
     },
     "output_type": "display_data"
    },
    {
     "data": {
      "image/png": "[encoded data removed]",
      "text/plain": [
       "<Figure size 432x288 with 1 Axes>"
      ]
     },
     "metadata": {
      "needs_background": "light"
     },
     "output_type": "display_data"
    },
    {
     "data": {
      "image/png": "[encoded data removed]",
      "text/plain": [
       "<Figure size 432x288 with 1 Axes>"
      ]
     },
     "metadata": {
      "needs_background": "light"
     },
     "output_type": "display_data"
    },
    {
     "data": {
      "image/png": "[encoded data removed]",
      "text/plain": [
       "<Figure size 432x288 with 1 Axes>"
      ]
     },
     "metadata": {
      "needs_background": "light"
     },
     "output_type": "display_data"
    },
    {
     "data": {
      "image/png": "[encoded data removed]",
      "text/plain": [
       "<Figure size 432x288 with 1 Axes>"
      ]
     },
     "metadata": {
      "needs_background": "light"
     },
     "output_type": "display_data"
    },
    {
     "data": {
      "image/png": "[encoded data removed]",
      "text/plain": [
       "<Figure size 432x288 with 1 Axes>"
      ]
     },
     "metadata": {
      "needs_background": "light"
     },
     "output_type": "display_data"
    },
    {
     "data": {
      "image/png": "[encoded data removed]",
      "text/plain": [
       "<Figure size 432x288 with 1 Axes>"
      ]
     },
     "metadata": {
      "needs_background": "light"
     },
     "output_type": "display_data"
    }
   ],
   "source": [
    "# plot numeric cols in histogram, boxplot\n",
    "# Plotting the numeric columns \n",
    "# for loop is cleaner than doing each column individually, so I will take this route\n",
    "# \n",
    "numcols = train.columns[[train[col].dtype != 'object' for col in train.columns]]\n",
    "for col in numcols:\n",
    "    #in order:\n",
    "    #plot hist of # col\n",
    "    plt.hist(train[col])\n",
    "    # plt title of # col\n",
    "    # replace underscore with space\n",
    "    plt.title(col.replace('_', ' '))\n",
    "    #show plt\n",
    "    plt.show()\n",
    "    # Now boxplot\n",
    "    plt.boxplot(train[col])\n",
    "    plt.title(col.replace('_', ' '))\n",
    "    plt.show()\n",
    "    \n",
    "# inspired by https://stackoverflow.com/questions/54555052/plotting-multiple-figures-in-a-loop"
   ]
  },
  {
   "cell_type": "markdown",
   "id": "51ffcd0b",
   "metadata": {},
   "source": [
    "- ## For each species (categorical variable): create a frequency table and a bar plot of those frequencies."
   ]
  },
  {
   "cell_type": "code",
   "execution_count": 29,
   "id": "080e1ee4",
   "metadata": {
    "scrolled": true
   },
   "outputs": [
    {
     "data": {
      "text/html": [
       "<div>\n",
       "<style scoped>\n",
       "    .dataframe tbody tr th:only-of-type {\n",
       "        vertical-align: middle;\n",
       "    }\n",
       "\n",
       "    .dataframe tbody tr th {\n",
       "        vertical-align: top;\n",
       "    }\n",
       "\n",
       "    .dataframe thead th {\n",
       "        text-align: right;\n",
       "    }\n",
       "</style>\n",
       "<table border=\"1\" class=\"dataframe\">\n",
       "  <thead>\n",
       "    <tr style=\"text-align: right;\">\n",
       "      <th></th>\n",
       "      <th>species</th>\n",
       "      <th>count</th>\n",
       "    </tr>\n",
       "  </thead>\n",
       "  <tbody>\n",
       "    <tr>\n",
       "      <th>0</th>\n",
       "      <td>setosa</td>\n",
       "      <td>28</td>\n",
       "    </tr>\n",
       "    <tr>\n",
       "      <th>1</th>\n",
       "      <td>versicolor</td>\n",
       "      <td>28</td>\n",
       "    </tr>\n",
       "    <tr>\n",
       "      <th>2</th>\n",
       "      <td>virginica</td>\n",
       "      <td>28</td>\n",
       "    </tr>\n",
       "  </tbody>\n",
       "</table>\n",
       "</div>"
      ],
      "text/plain": [
       "      species  count\n",
       "0      setosa     28\n",
       "1  versicolor     28\n",
       "2   virginica     28"
      ]
     },
     "execution_count": 29,
     "metadata": {},
     "output_type": "execute_result"
    }
   ],
   "source": [
    "freq_table = train.groupby('species').species.agg(['count']).reset_index()\n",
    "# reset_index function resets the index of the dataframe else, when \n",
    "# inputting to a sns boxplot, the boxplot will not be able to read an unindexed\n",
    "# category\n",
    "# https://pandas.pydata.org/docs/reference/api/pandas.DataFrame.reset_index.html\n",
    "\n",
    "\n",
    "freq_table "
   ]
  },
  {
   "cell_type": "code",
   "execution_count": 30,
   "id": "6201befa",
   "metadata": {
    "scrolled": false
   },
   "outputs": [
    {
     "data": {
      "text/plain": [
       "<AxesSubplot:xlabel='species', ylabel='count'>"
      ]
     },
     "execution_count": 30,
     "metadata": {},
     "output_type": "execute_result"
    },
    {
     "data": {
      "image/png": "[encoded data removed]",
      "text/plain": [
       "<Figure size 432x288 with 1 Axes>"
      ]
     },
     "metadata": {
      "needs_background": "light"
     },
     "output_type": "display_data"
    }
   ],
   "source": [
    "# bar plot via seaborn\n",
    "sns.barplot(data = freq_table, x='species', y= 'count')"
   ]
  },
  {
   "cell_type": "markdown",
   "id": "b413a5ab",
   "metadata": {},
   "source": [
    "# Takeaways"
   ]
  },
  {
   "cell_type": "markdown",
   "id": "598f5304",
   "metadata": {},
   "source": [
    "- There is an even distribution between the species in count\n",
    "- There are various spikes in petal width and length\n",
    "- petal length standard deviation is vastly greater than it's counterparts which could have some significance in identifying type of flower. "
   ]
  },
  {
   "cell_type": "markdown",
   "id": "48f44659",
   "metadata": {},
   "source": [
    "# 3. Bivariate Stats\n",
    "\n",
    "- ### Visualize each measurement type (y-axis) with the species variable (x-axis) using barplots, adding a horizontal line showing the overall mean of the metric (y-axis)."
   ]
  },
  {
   "cell_type": "code",
   "execution_count": 41,
   "id": "74c91faf",
   "metadata": {},
   "outputs": [
    {
     "name": "stdout",
     "output_type": "stream",
     "text": [
      "<class 'pandas.core.frame.DataFrame'>\n",
      "Int64Index: 84 entries, 79 to 73\n",
      "Data columns (total 5 columns):\n",
      " #   Column        Non-Null Count  Dtype  \n",
      "---  ------        --------------  -----  \n",
      " 0   sepal_length  84 non-null     float64\n",
      " 1   sepal_width   84 non-null     float64\n",
      " 2   petal_length  84 non-null     float64\n",
      " 3   petal_width   84 non-null     float64\n",
      " 4   species       84 non-null     object \n",
      "dtypes: float64(4), object(1)\n",
      "memory usage: 3.9+ KB\n"
     ]
    }
   ],
   "source": [
    "train.info()"
   ]
  },
  {
   "cell_type": "code",
   "execution_count": 49,
   "id": "6b7ee50e",
   "metadata": {},
   "outputs": [
    {
     "data": {
      "image/png": "[encoded data removed]",
      "text/plain": [
       "<Figure size 432x288 with 1 Axes>"
      ]
     },
     "metadata": {
      "needs_background": "light"
     },
     "output_type": "display_data"
    }
   ],
   "source": [
    "# Sepal Length Visualized\n",
    "plt.title('Sepal Length Visualized')\n",
    "sns.barplot(x='species', y='sepal_length', data = train)\n",
    "\n",
    "# get mean\n",
    "sepal_mean = train.sepal_length.mean()\n",
    "\n",
    "#horizontal line on axis, axhline\n",
    "plt.axhline(sepal_mean, label='Mean of Sepal Length', color = 'red')\n",
    "plt.xlabel('')\n",
    "plt.legend(loc = 'lower right')\n",
    "plt.show()"
   ]
  },
  {
   "cell_type": "code",
   "execution_count": 50,
   "id": "6c4743f5",
   "metadata": {},
   "outputs": [
    {
     "data": {
      "image/png": "[encoded data removed]",
      "text/plain": [
       "<Figure size 432x288 with 1 Axes>"
      ]
     },
     "metadata": {
      "needs_background": "light"
     },
     "output_type": "display_data"
    }
   ],
   "source": [
    "# Sepal Width Visualized\n",
    "plt.title('Sepal Mean Visualized ')\n",
    "sns.barplot(x='species', y='sepal_width', data = train)\n",
    "\n",
    "# get mean\n",
    "sepal_mean = train.sepal_width.mean()\n",
    "\n",
    "#horizontal line on axis, axhline\n",
    "plt.axhline(sepal_mean, label='Mean of Sepal Width', color = 'red')\n",
    "plt.xlabel('')\n",
    "plt.legend(loc = 'lower right')\n",
    "plt.show()"
   ]
  },
  {
   "cell_type": "code",
   "execution_count": 53,
   "id": "b7a16b8b",
   "metadata": {},
   "outputs": [
    {
     "data": {
      "image/png": "[encoded data removed]",
      "text/plain": [
       "<Figure size 432x288 with 1 Axes>"
      ]
     },
     "metadata": {
      "needs_background": "light"
     },
     "output_type": "display_data"
    }
   ],
   "source": [
    "# Petal Width Visualized\n",
    "plt.title('Petal Mean Visualized ')\n",
    "sns.barplot(x='species', y='petal_width', data = train)\n",
    "\n",
    "# get mean\n",
    "petal_mean = train.petal_width.mean()\n",
    "\n",
    "#horizontal line on axis, axhline\n",
    "plt.axhline(petal_mean, label='Mean of Petal Width', color = 'red')\n",
    "plt.xlabel('')\n",
    "plt.legend(loc = 'lower right')\n",
    "plt.show()"
   ]
  },
  {
   "cell_type": "code",
   "execution_count": 54,
   "id": "37c6bd44",
   "metadata": {},
   "outputs": [
    {
     "data": {
      "image/png": "[encoded data removed]",
      "text/plain": [
       "<Figure size 432x288 with 1 Axes>"
      ]
     },
     "metadata": {
      "needs_background": "light"
     },
     "output_type": "display_data"
    }
   ],
   "source": [
    "# Petal Length Visualized\n",
    "plt.title('Petal Length Mean Visualized ')\n",
    "sns.barplot(x='species', y='petal_length', data = train)\n",
    "\n",
    "# get mean\n",
    "petal_mean = train.petal_length.mean()\n",
    "\n",
    "#horizontal line on axis, axhline\n",
    "plt.axhline(petal_mean, label='Mean of Petal length', color = 'red')\n",
    "plt.xlabel('')\n",
    "plt.legend(loc = 'lower right')\n",
    "plt.show()"
   ]
  },
  {
   "cell_type": "code",
   "execution_count": null,
   "id": "51544a87",
   "metadata": {},
   "outputs": [],
   "source": []
  }
 ],
 "metadata": {
  "kernelspec": {
   "display_name": "Python 3 (ipykernel)",
   "language": "python",
   "name": "python3"
  },
  "language_info": {
   "codemirror_mode": {
    "name": "ipython",
    "version": 3
   },
   "file_extension": ".py",
   "mimetype": "text/x-python",
   "name": "python",
   "nbconvert_exporter": "python",
   "pygments_lexer": "ipython3",
   "version": "3.9.7"
  }
 },
 "nbformat": 4,
 "nbformat_minor": 5
}
