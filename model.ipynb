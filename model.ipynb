{
 "cells": [
  {
   "cell_type": "code",
   "execution_count": 1,
   "id": "43e513f2",
   "metadata": {},
   "outputs": [],
   "source": [
    "from pydataset import data\n",
    "from sklearn.model_selection import train_test_split\n",
    "\n",
    "from scipy import stats\n",
    "from sklearn.metrics import accuracy_score\n",
    "from sklearn.metrics import precision_score\n",
    "from sklearn.metrics import recall_score\n",
    "from sklearn.metrics import classification_report\n",
    "\n",
    "from sklearn.tree import DecisionTreeClassifier, plot_tree\n",
    "from sklearn.metrics import classification_report\n",
    "from sklearn.metrics import confusion_matrix\n",
    "from sklearn.neighbors import KNeighborsClassifier\n",
    "\n",
    "from sklearn.ensemble import RandomForestClassifier\n",
    "\n",
    "import matplotlib.pyplot as plt\n",
    "import numpy as np\n",
    "import pandas as pd\n",
    "import acquire as aq\n",
    "import prepare as prep\n",
    "import warnings\n",
    "\n",
    "warnings.filterwarnings(\"ignore\")"
   ]
  },
  {
   "cell_type": "markdown",
   "id": "040bc9b0",
   "metadata": {},
   "source": [
    "### Exercises\n",
    "\n",
    "Using the titanic data, in your classification-exercises repository, create a notebook, model.ipynb where you will do the following:"
   ]
  },
  {
   "cell_type": "code",
   "execution_count": 2,
   "id": "ee27ce22",
   "metadata": {},
   "outputs": [],
   "source": [
    "# aquire and prepare titanic data\n",
    "titanic = aq.get_titanic_data()\n",
    "df = prep.prep_titanic(titanic)\n",
    "\n",
    "# train, validate, test\n",
    "train, validate, test = df"
   ]
  },
  {
   "cell_type": "code",
   "execution_count": 3,
   "id": "02a0863a",
   "metadata": {
    "scrolled": false
   },
   "outputs": [
    {
     "data": {
      "text/html": [
       "<div>\n",
       "<style scoped>\n",
       "    .dataframe tbody tr th:only-of-type {\n",
       "        vertical-align: middle;\n",
       "    }\n",
       "\n",
       "    .dataframe tbody tr th {\n",
       "        vertical-align: top;\n",
       "    }\n",
       "\n",
       "    .dataframe thead th {\n",
       "        text-align: right;\n",
       "    }\n",
       "</style>\n",
       "<table border=\"1\" class=\"dataframe\">\n",
       "  <thead>\n",
       "    <tr style=\"text-align: right;\">\n",
       "      <th></th>\n",
       "      <th>survived</th>\n",
       "      <th>pclass</th>\n",
       "      <th>age</th>\n",
       "      <th>sibsp</th>\n",
       "      <th>parch</th>\n",
       "      <th>fare</th>\n",
       "      <th>alone</th>\n",
       "      <th>sex_male</th>\n",
       "      <th>embark_town_Queenstown</th>\n",
       "      <th>embark_town_Southampton</th>\n",
       "    </tr>\n",
       "  </thead>\n",
       "  <tbody>\n",
       "    <tr>\n",
       "      <th>631</th>\n",
       "      <td>0</td>\n",
       "      <td>3</td>\n",
       "      <td>51.0</td>\n",
       "      <td>0</td>\n",
       "      <td>0</td>\n",
       "      <td>7.0542</td>\n",
       "      <td>1</td>\n",
       "      <td>1</td>\n",
       "      <td>0</td>\n",
       "      <td>1</td>\n",
       "    </tr>\n",
       "    <tr>\n",
       "      <th>108</th>\n",
       "      <td>0</td>\n",
       "      <td>3</td>\n",
       "      <td>38.0</td>\n",
       "      <td>0</td>\n",
       "      <td>0</td>\n",
       "      <td>7.8958</td>\n",
       "      <td>1</td>\n",
       "      <td>1</td>\n",
       "      <td>0</td>\n",
       "      <td>1</td>\n",
       "    </tr>\n",
       "    <tr>\n",
       "      <th>365</th>\n",
       "      <td>0</td>\n",
       "      <td>3</td>\n",
       "      <td>30.0</td>\n",
       "      <td>0</td>\n",
       "      <td>0</td>\n",
       "      <td>7.2500</td>\n",
       "      <td>1</td>\n",
       "      <td>1</td>\n",
       "      <td>0</td>\n",
       "      <td>1</td>\n",
       "    </tr>\n",
       "    <tr>\n",
       "      <th>701</th>\n",
       "      <td>1</td>\n",
       "      <td>1</td>\n",
       "      <td>35.0</td>\n",
       "      <td>0</td>\n",
       "      <td>0</td>\n",
       "      <td>26.2875</td>\n",
       "      <td>1</td>\n",
       "      <td>1</td>\n",
       "      <td>0</td>\n",
       "      <td>1</td>\n",
       "    </tr>\n",
       "    <tr>\n",
       "      <th>449</th>\n",
       "      <td>1</td>\n",
       "      <td>1</td>\n",
       "      <td>52.0</td>\n",
       "      <td>0</td>\n",
       "      <td>0</td>\n",
       "      <td>30.5000</td>\n",
       "      <td>1</td>\n",
       "      <td>1</td>\n",
       "      <td>0</td>\n",
       "      <td>1</td>\n",
       "    </tr>\n",
       "  </tbody>\n",
       "</table>\n",
       "</div>"
      ],
      "text/plain": [
       "     survived  pclass   age  sibsp  parch     fare  alone  sex_male  \\\n",
       "631         0       3  51.0      0      0   7.0542      1         1   \n",
       "108         0       3  38.0      0      0   7.8958      1         1   \n",
       "365         0       3  30.0      0      0   7.2500      1         1   \n",
       "701         1       1  35.0      0      0  26.2875      1         1   \n",
       "449         1       1  52.0      0      0  30.5000      1         1   \n",
       "\n",
       "     embark_town_Queenstown  embark_town_Southampton  \n",
       "631                       0                        1  \n",
       "108                       0                        1  \n",
       "365                       0                        1  \n",
       "701                       0                        1  \n",
       "449                       0                        1  "
      ]
     },
     "execution_count": 3,
     "metadata": {},
     "output_type": "execute_result"
    }
   ],
   "source": [
    "#work on train dataset\n",
    "train.head()"
   ]
  },
  {
   "cell_type": "markdown",
   "id": "3f5842f7",
   "metadata": {},
   "source": [
    "#### What is your baseline prediction? What is your baseline accuracy? remember: your baseline prediction for a classification problem is predicting the most prevelant class in the training dataset (the mode). When you make those predictions, what is your accuracy? This is your baseline accuracy."
   ]
  },
  {
   "cell_type": "code",
   "execution_count": 4,
   "id": "727d0a61",
   "metadata": {},
   "outputs": [
    {
     "data": {
      "text/plain": [
       "0    256\n",
       "1    180\n",
       "Name: survived, dtype: int64"
      ]
     },
     "execution_count": 4,
     "metadata": {},
     "output_type": "execute_result"
    }
   ],
   "source": [
    "# get the baseline 1 (True) = Yes, 0 = No (False)\n",
    "train.survived.value_counts()"
   ]
  },
  {
   "cell_type": "code",
   "execution_count": 5,
   "id": "6a22b789",
   "metadata": {},
   "outputs": [
    {
     "data": {
      "text/plain": [
       "0.5871559633027523"
      ]
     },
     "execution_count": 5,
     "metadata": {},
     "output_type": "execute_result"
    }
   ],
   "source": [
    "# there are more deaths than survivals so deaths will be the baseline\n",
    "# calculate the baseline\n",
    "baseline = (train.survived == 0).mean()\n",
    "baseline"
   ]
  },
  {
   "cell_type": "code",
   "execution_count": 6,
   "id": "963a4551",
   "metadata": {},
   "outputs": [],
   "source": [
    "# create X & y version of train, where y is a series with\n",
    "#just the target variable and X are all the features. \n",
    "\n",
    "#train dataset\n",
    "X_train = train.drop(columns=['survived'])\n",
    "y_train = train.survived\n",
    "\n",
    "# validate dataset\n",
    "X_validate = validate.drop(columns=['survived'])\n",
    "y_validate = validate.survived\n",
    "\n",
    "# Test dataset\n",
    "X_test = test.drop(columns=['survived'])\n",
    "y_test = test.survived"
   ]
  },
  {
   "cell_type": "code",
   "execution_count": 7,
   "id": "61535ae7",
   "metadata": {},
   "outputs": [
    {
     "data": {
      "text/html": [
       "<div>\n",
       "<style scoped>\n",
       "    .dataframe tbody tr th:only-of-type {\n",
       "        vertical-align: middle;\n",
       "    }\n",
       "\n",
       "    .dataframe tbody tr th {\n",
       "        vertical-align: top;\n",
       "    }\n",
       "\n",
       "    .dataframe thead th {\n",
       "        text-align: right;\n",
       "    }\n",
       "</style>\n",
       "<table border=\"1\" class=\"dataframe\">\n",
       "  <thead>\n",
       "    <tr style=\"text-align: right;\">\n",
       "      <th></th>\n",
       "      <th>pclass</th>\n",
       "      <th>age</th>\n",
       "      <th>sibsp</th>\n",
       "      <th>parch</th>\n",
       "      <th>fare</th>\n",
       "      <th>alone</th>\n",
       "      <th>sex_male</th>\n",
       "      <th>embark_town_Queenstown</th>\n",
       "      <th>embark_town_Southampton</th>\n",
       "    </tr>\n",
       "  </thead>\n",
       "  <tbody>\n",
       "    <tr>\n",
       "      <th>631</th>\n",
       "      <td>3</td>\n",
       "      <td>51.0</td>\n",
       "      <td>0</td>\n",
       "      <td>0</td>\n",
       "      <td>7.0542</td>\n",
       "      <td>1</td>\n",
       "      <td>1</td>\n",
       "      <td>0</td>\n",
       "      <td>1</td>\n",
       "    </tr>\n",
       "    <tr>\n",
       "      <th>108</th>\n",
       "      <td>3</td>\n",
       "      <td>38.0</td>\n",
       "      <td>0</td>\n",
       "      <td>0</td>\n",
       "      <td>7.8958</td>\n",
       "      <td>1</td>\n",
       "      <td>1</td>\n",
       "      <td>0</td>\n",
       "      <td>1</td>\n",
       "    </tr>\n",
       "    <tr>\n",
       "      <th>365</th>\n",
       "      <td>3</td>\n",
       "      <td>30.0</td>\n",
       "      <td>0</td>\n",
       "      <td>0</td>\n",
       "      <td>7.2500</td>\n",
       "      <td>1</td>\n",
       "      <td>1</td>\n",
       "      <td>0</td>\n",
       "      <td>1</td>\n",
       "    </tr>\n",
       "    <tr>\n",
       "      <th>701</th>\n",
       "      <td>1</td>\n",
       "      <td>35.0</td>\n",
       "      <td>0</td>\n",
       "      <td>0</td>\n",
       "      <td>26.2875</td>\n",
       "      <td>1</td>\n",
       "      <td>1</td>\n",
       "      <td>0</td>\n",
       "      <td>1</td>\n",
       "    </tr>\n",
       "    <tr>\n",
       "      <th>449</th>\n",
       "      <td>1</td>\n",
       "      <td>52.0</td>\n",
       "      <td>0</td>\n",
       "      <td>0</td>\n",
       "      <td>30.5000</td>\n",
       "      <td>1</td>\n",
       "      <td>1</td>\n",
       "      <td>0</td>\n",
       "      <td>1</td>\n",
       "    </tr>\n",
       "  </tbody>\n",
       "</table>\n",
       "</div>"
      ],
      "text/plain": [
       "     pclass   age  sibsp  parch     fare  alone  sex_male  \\\n",
       "631       3  51.0      0      0   7.0542      1         1   \n",
       "108       3  38.0      0      0   7.8958      1         1   \n",
       "365       3  30.0      0      0   7.2500      1         1   \n",
       "701       1  35.0      0      0  26.2875      1         1   \n",
       "449       1  52.0      0      0  30.5000      1         1   \n",
       "\n",
       "     embark_town_Queenstown  embark_town_Southampton  \n",
       "631                       0                        1  \n",
       "108                       0                        1  \n",
       "365                       0                        1  \n",
       "701                       0                        1  \n",
       "449                       0                        1  "
      ]
     },
     "execution_count": 7,
     "metadata": {},
     "output_type": "execute_result"
    }
   ],
   "source": [
    "X_train.head()"
   ]
  },
  {
   "cell_type": "markdown",
   "id": "5ce05256",
   "metadata": {},
   "source": [
    "### Fit the decision tree classifier to your training sample and transform (i.e. make predictions on the training sample)"
   ]
  },
  {
   "cell_type": "code",
   "execution_count": 8,
   "id": "406765f2",
   "metadata": {},
   "outputs": [],
   "source": [
    "# create Decision Tree\n",
    "clf = DecisionTreeClassifier(max_depth=3, random_state=123)"
   ]
  },
  {
   "cell_type": "code",
   "execution_count": 9,
   "id": "52334d2e",
   "metadata": {},
   "outputs": [],
   "source": [
    "# fit train model\n",
    "clf = clf.fit(X_train,y_train)"
   ]
  },
  {
   "cell_type": "code",
   "execution_count": 10,
   "id": "6a72c5ac",
   "metadata": {
    "scrolled": true
   },
   "outputs": [
    {
     "data": {
      "text/plain": [
       "[Text(362.7, 332.955, 'sex_male <= 0.5\\ngini = 0.485\\nsamples = 436\\nvalue = [256, 180]\\nclass = 0'),\n",
       " Text(181.35, 237.825, 'pclass <= 2.5\\ngini = 0.404\\nsamples = 167\\nvalue = [47, 120]\\nclass = 1'),\n",
       " Text(90.675, 142.695, 'age <= 3.5\\ngini = 0.101\\nsamples = 94\\nvalue = [5, 89]\\nclass = 1'),\n",
       " Text(45.3375, 47.565, 'gini = 0.5\\nsamples = 2\\nvalue = [1, 1]\\nclass = 0'),\n",
       " Text(136.0125, 47.565, 'gini = 0.083\\nsamples = 92\\nvalue = [4, 88]\\nclass = 1'),\n",
       " Text(272.025, 142.695, 'fare <= 23.35\\ngini = 0.489\\nsamples = 73\\nvalue = [42, 31]\\nclass = 0'),\n",
       " Text(226.6875, 47.565, 'gini = 0.5\\nsamples = 59\\nvalue = [29, 30]\\nclass = 1'),\n",
       " Text(317.3625, 47.565, 'gini = 0.133\\nsamples = 14\\nvalue = [13, 1]\\nclass = 0'),\n",
       " Text(544.05, 237.825, 'age <= 6.5\\ngini = 0.347\\nsamples = 269\\nvalue = [209, 60]\\nclass = 0'),\n",
       " Text(453.375, 142.695, 'sibsp <= 2.5\\ngini = 0.391\\nsamples = 15\\nvalue = [4, 11]\\nclass = 1'),\n",
       " Text(408.03749999999997, 47.565, 'gini = 0.0\\nsamples = 11\\nvalue = [0, 11]\\nclass = 1'),\n",
       " Text(498.7125, 47.565, 'gini = 0.0\\nsamples = 4\\nvalue = [4, 0]\\nclass = 0'),\n",
       " Text(634.725, 142.695, 'pclass <= 1.5\\ngini = 0.311\\nsamples = 254\\nvalue = [205, 49]\\nclass = 0'),\n",
       " Text(589.3874999999999, 47.565, 'gini = 0.464\\nsamples = 63\\nvalue = [40, 23]\\nclass = 0'),\n",
       " Text(680.0625, 47.565, 'gini = 0.235\\nsamples = 191\\nvalue = [165, 26]\\nclass = 0')]"
      ]
     },
     "execution_count": 10,
     "metadata": {},
     "output_type": "execute_result"
    },
    {
     "data": {
      "image/png": "[encoded data removed]",
      "text/plain": [
       "<Figure size 936x504 with 1 Axes>"
      ]
     },
     "metadata": {
      "needs_background": "light"
     },
     "output_type": "display_data"
    }
   ],
   "source": [
    "plt.figure(figsize=(13, 7))\n",
    "plot_tree(clf, feature_names=X_train.columns,\n",
    "          class_names=clf.classes_.astype(str), rounded=True)"
   ]
  },
  {
   "cell_type": "code",
   "execution_count": 11,
   "id": "4411132b",
   "metadata": {},
   "outputs": [],
   "source": [
    "train['prediction'] = clf.predict(X_train)"
   ]
  },
  {
   "cell_type": "code",
   "execution_count": 12,
   "id": "151518d9",
   "metadata": {
    "scrolled": true
   },
   "outputs": [
    {
     "data": {
      "text/html": [
       "<div>\n",
       "<style scoped>\n",
       "    .dataframe tbody tr th:only-of-type {\n",
       "        vertical-align: middle;\n",
       "    }\n",
       "\n",
       "    .dataframe tbody tr th {\n",
       "        vertical-align: top;\n",
       "    }\n",
       "\n",
       "    .dataframe thead th {\n",
       "        text-align: right;\n",
       "    }\n",
       "</style>\n",
       "<table border=\"1\" class=\"dataframe\">\n",
       "  <thead>\n",
       "    <tr style=\"text-align: right;\">\n",
       "      <th></th>\n",
       "      <th>survived</th>\n",
       "      <th>pclass</th>\n",
       "      <th>age</th>\n",
       "      <th>sibsp</th>\n",
       "      <th>parch</th>\n",
       "      <th>fare</th>\n",
       "      <th>alone</th>\n",
       "      <th>sex_male</th>\n",
       "      <th>embark_town_Queenstown</th>\n",
       "      <th>embark_town_Southampton</th>\n",
       "      <th>prediction</th>\n",
       "    </tr>\n",
       "  </thead>\n",
       "  <tbody>\n",
       "    <tr>\n",
       "      <th>631</th>\n",
       "      <td>0</td>\n",
       "      <td>3</td>\n",
       "      <td>51.0</td>\n",
       "      <td>0</td>\n",
       "      <td>0</td>\n",
       "      <td>7.0542</td>\n",
       "      <td>1</td>\n",
       "      <td>1</td>\n",
       "      <td>0</td>\n",
       "      <td>1</td>\n",
       "      <td>0</td>\n",
       "    </tr>\n",
       "    <tr>\n",
       "      <th>108</th>\n",
       "      <td>0</td>\n",
       "      <td>3</td>\n",
       "      <td>38.0</td>\n",
       "      <td>0</td>\n",
       "      <td>0</td>\n",
       "      <td>7.8958</td>\n",
       "      <td>1</td>\n",
       "      <td>1</td>\n",
       "      <td>0</td>\n",
       "      <td>1</td>\n",
       "      <td>0</td>\n",
       "    </tr>\n",
       "    <tr>\n",
       "      <th>365</th>\n",
       "      <td>0</td>\n",
       "      <td>3</td>\n",
       "      <td>30.0</td>\n",
       "      <td>0</td>\n",
       "      <td>0</td>\n",
       "      <td>7.2500</td>\n",
       "      <td>1</td>\n",
       "      <td>1</td>\n",
       "      <td>0</td>\n",
       "      <td>1</td>\n",
       "      <td>0</td>\n",
       "    </tr>\n",
       "    <tr>\n",
       "      <th>701</th>\n",
       "      <td>1</td>\n",
       "      <td>1</td>\n",
       "      <td>35.0</td>\n",
       "      <td>0</td>\n",
       "      <td>0</td>\n",
       "      <td>26.2875</td>\n",
       "      <td>1</td>\n",
       "      <td>1</td>\n",
       "      <td>0</td>\n",
       "      <td>1</td>\n",
       "      <td>0</td>\n",
       "    </tr>\n",
       "    <tr>\n",
       "      <th>449</th>\n",
       "      <td>1</td>\n",
       "      <td>1</td>\n",
       "      <td>52.0</td>\n",
       "      <td>0</td>\n",
       "      <td>0</td>\n",
       "      <td>30.5000</td>\n",
       "      <td>1</td>\n",
       "      <td>1</td>\n",
       "      <td>0</td>\n",
       "      <td>1</td>\n",
       "      <td>0</td>\n",
       "    </tr>\n",
       "  </tbody>\n",
       "</table>\n",
       "</div>"
      ],
      "text/plain": [
       "     survived  pclass   age  sibsp  parch     fare  alone  sex_male  \\\n",
       "631         0       3  51.0      0      0   7.0542      1         1   \n",
       "108         0       3  38.0      0      0   7.8958      1         1   \n",
       "365         0       3  30.0      0      0   7.2500      1         1   \n",
       "701         1       1  35.0      0      0  26.2875      1         1   \n",
       "449         1       1  52.0      0      0  30.5000      1         1   \n",
       "\n",
       "     embark_town_Queenstown  embark_town_Southampton  prediction  \n",
       "631                       0                        1           0  \n",
       "108                       0                        1           0  \n",
       "365                       0                        1           0  \n",
       "701                       0                        1           0  \n",
       "449                       0                        1           0  "
      ]
     },
     "execution_count": 12,
     "metadata": {},
     "output_type": "execute_result"
    }
   ],
   "source": [
    "train.head()"
   ]
  },
  {
   "cell_type": "markdown",
   "id": "6a89287a",
   "metadata": {},
   "source": [
    "## Evaluate your in-sample results using the model score, confusion matrix, and classification report."
   ]
  },
  {
   "cell_type": "code",
   "execution_count": 13,
   "id": "5d91687e",
   "metadata": {
    "scrolled": true
   },
   "outputs": [
    {
     "name": "stdout",
     "output_type": "stream",
     "text": [
      "Accuracy of Decision Tree classifier on training set: 0.81\n"
     ]
    }
   ],
   "source": [
    "# model score\n",
    "print('Accuracy of Decision Tree classifier on training set: {:.2f}'\n",
    "      .format(clf.score(X_train, y_train)))"
   ]
  },
  {
   "cell_type": "code",
   "execution_count": 14,
   "id": "f5ec52a7",
   "metadata": {},
   "outputs": [],
   "source": [
    "y_pred = clf.predict(X_train)"
   ]
  },
  {
   "cell_type": "code",
   "execution_count": 15,
   "id": "bae4e02e",
   "metadata": {
    "scrolled": false
   },
   "outputs": [
    {
     "data": {
      "text/html": [
       "<div>\n",
       "<style scoped>\n",
       "    .dataframe tbody tr th:only-of-type {\n",
       "        vertical-align: middle;\n",
       "    }\n",
       "\n",
       "    .dataframe tbody tr th {\n",
       "        vertical-align: top;\n",
       "    }\n",
       "\n",
       "    .dataframe thead th {\n",
       "        text-align: right;\n",
       "    }\n",
       "</style>\n",
       "<table border=\"1\" class=\"dataframe\">\n",
       "  <thead>\n",
       "    <tr style=\"text-align: right;\">\n",
       "      <th>prediction</th>\n",
       "      <th>0</th>\n",
       "      <th>1</th>\n",
       "    </tr>\n",
       "    <tr>\n",
       "      <th>survived</th>\n",
       "      <th></th>\n",
       "      <th></th>\n",
       "    </tr>\n",
       "  </thead>\n",
       "  <tbody>\n",
       "    <tr>\n",
       "      <th>0</th>\n",
       "      <td>223</td>\n",
       "      <td>33</td>\n",
       "    </tr>\n",
       "    <tr>\n",
       "      <th>1</th>\n",
       "      <td>51</td>\n",
       "      <td>129</td>\n",
       "    </tr>\n",
       "  </tbody>\n",
       "</table>\n",
       "</div>"
      ],
      "text/plain": [
       "prediction    0    1\n",
       "survived            \n",
       "0           223   33\n",
       "1            51  129"
      ]
     },
     "execution_count": 15,
     "metadata": {},
     "output_type": "execute_result"
    }
   ],
   "source": [
    "pd.crosstab(train.survived, train.prediction)\n",
    "# confusion_matrix(train.survived, train.prediction)"
   ]
  },
  {
   "cell_type": "code",
   "execution_count": 16,
   "id": "b05f87c6",
   "metadata": {},
   "outputs": [
    {
     "name": "stdout",
     "output_type": "stream",
     "text": [
      "              precision    recall  f1-score   support\n",
      "\n",
      "           0       0.81      0.87      0.84       256\n",
      "           1       0.80      0.72      0.75       180\n",
      "\n",
      "    accuracy                           0.81       436\n",
      "   macro avg       0.81      0.79      0.80       436\n",
      "weighted avg       0.81      0.81      0.81       436\n",
      "\n"
     ]
    }
   ],
   "source": [
    "# classfication report\n",
    "y_pred = clf.predict(X_train)\n",
    "print(classification_report(y_train, y_pred))"
   ]
  },
  {
   "cell_type": "markdown",
   "id": "480c3033",
   "metadata": {},
   "source": [
    "#### Compute: Accuracy, true positive rate, false positive rate, true negative rate, false negative rate, precision, recall, f1-score, and support."
   ]
  },
  {
   "cell_type": "code",
   "execution_count": 17,
   "id": "e51030dc",
   "metadata": {
    "scrolled": true
   },
   "outputs": [
    {
     "name": "stdout",
     "output_type": "stream",
     "text": [
      "False Positive: 0.2833333333333333\n",
      "False Negative: 0.12406015037593984\n",
      "True Positive: 0.8759398496240601\n",
      "True Negative: 0.7166666666666667\n",
      "Acurracy: 0.8116591928251121\n",
      "Precision: 0.5\n",
      "Recall: 0.8759398496240601\n"
     ]
    }
   ],
   "source": [
    "TP = 233\n",
    "TN = 129\n",
    "FP = 51\n",
    "FN = 33\n",
    "\n",
    "\n",
    "false_positive = FP/(FP+TN)\n",
    "false_negative = FN/(FN+TP)\n",
    "true_positive = TP/(TP+FN)\n",
    "true_negative = TN/(TN+FP)\n",
    "\n",
    "accuracy = (TP+TN)/(TP+TN+FP+FN)\n",
    "precision = TP/(TP+TP)\n",
    "recall = TP/(TP+FN)\n",
    "\n",
    "# f-1 score and support score are inside of the classification report\n",
    "print(f'False Positive: {false_positive}')\n",
    "print(f'False Negative: {false_negative}')\n",
    "print(f'True Positive: {true_positive}')\n",
    "print(f'True Negative: {true_negative}')\n",
    "print(f'Acurracy: {accuracy}')\n",
    "print(f'Precision: {precision}')\n",
    "print(f'Recall: {recall}')"
   ]
  },
  {
   "cell_type": "markdown",
   "id": "21335045",
   "metadata": {},
   "source": [
    "### Run through steps 2-4 using a different max_depth value."
   ]
  },
  {
   "cell_type": "code",
   "execution_count": 18,
   "id": "ae043c7a",
   "metadata": {},
   "outputs": [],
   "source": [
    "clf2 = DecisionTreeClassifier(max_depth=4, random_state=123)"
   ]
  },
  {
   "cell_type": "code",
   "execution_count": 19,
   "id": "4b3e57a6",
   "metadata": {},
   "outputs": [],
   "source": [
    "clf2 = clf2.fit(X_train,y_train)"
   ]
  },
  {
   "cell_type": "code",
   "execution_count": 20,
   "id": "59bbd517",
   "metadata": {},
   "outputs": [
    {
     "name": "stdout",
     "output_type": "stream",
     "text": [
      "Accuracy of Decision Tree classifier on training set: 0.83\n"
     ]
    }
   ],
   "source": [
    "print('Accuracy of Decision Tree classifier on training set: {:.2f}'\n",
    "      .format(clf2.score(X_train, y_train)))"
   ]
  },
  {
   "cell_type": "code",
   "execution_count": 21,
   "id": "e5755479",
   "metadata": {},
   "outputs": [],
   "source": [
    "train['prediction'] = clf2.predict(X_train)"
   ]
  },
  {
   "cell_type": "code",
   "execution_count": 22,
   "id": "e37bb86e",
   "metadata": {},
   "outputs": [],
   "source": [
    "y_pred = clf2.predict(X_train)"
   ]
  },
  {
   "cell_type": "code",
   "execution_count": 23,
   "id": "9accd488",
   "metadata": {
    "scrolled": true
   },
   "outputs": [
    {
     "data": {
      "text/html": [
       "<div>\n",
       "<style scoped>\n",
       "    .dataframe tbody tr th:only-of-type {\n",
       "        vertical-align: middle;\n",
       "    }\n",
       "\n",
       "    .dataframe tbody tr th {\n",
       "        vertical-align: top;\n",
       "    }\n",
       "\n",
       "    .dataframe thead th {\n",
       "        text-align: right;\n",
       "    }\n",
       "</style>\n",
       "<table border=\"1\" class=\"dataframe\">\n",
       "  <thead>\n",
       "    <tr style=\"text-align: right;\">\n",
       "      <th>prediction</th>\n",
       "      <th>0</th>\n",
       "      <th>1</th>\n",
       "    </tr>\n",
       "    <tr>\n",
       "      <th>survived</th>\n",
       "      <th></th>\n",
       "      <th></th>\n",
       "    </tr>\n",
       "  </thead>\n",
       "  <tbody>\n",
       "    <tr>\n",
       "      <th>0</th>\n",
       "      <td>250</td>\n",
       "      <td>6</td>\n",
       "    </tr>\n",
       "    <tr>\n",
       "      <th>1</th>\n",
       "      <td>70</td>\n",
       "      <td>110</td>\n",
       "    </tr>\n",
       "  </tbody>\n",
       "</table>\n",
       "</div>"
      ],
      "text/plain": [
       "prediction    0    1\n",
       "survived            \n",
       "0           250    6\n",
       "1            70  110"
      ]
     },
     "execution_count": 23,
     "metadata": {},
     "output_type": "execute_result"
    }
   ],
   "source": [
    "pd.crosstab(train.survived, train.prediction)"
   ]
  },
  {
   "cell_type": "code",
   "execution_count": 24,
   "id": "d46ed695",
   "metadata": {
    "scrolled": true
   },
   "outputs": [
    {
     "name": "stdout",
     "output_type": "stream",
     "text": [
      "False Positive: 0.3888888888888889\n",
      "False Negative: 0.0234375\n",
      "True Positive: 0.9765625\n",
      "True Negative: 0.6111111111111112\n",
      "Acurracy: 0.8256880733944955\n",
      "Precision: 0.5\n",
      "Recall: 0.9765625\n"
     ]
    }
   ],
   "source": [
    "TP = 250\n",
    "TN = 110\n",
    "FP = 70\n",
    "FN = 6\n",
    "\n",
    "\n",
    "false_positive = FP/(FP+TN)\n",
    "false_negative = FN/(FN+TP)\n",
    "true_positive = TP/(TP+FN)\n",
    "true_negative = TN/(TN+FP)\n",
    "\n",
    "accuracy = (TP+TN)/(TP+TN+FP+FN)\n",
    "precision = TP/(TP+TP)\n",
    "recall = TP/(TP+FN)\n",
    "\n",
    "# f-1 score and support score are inside of the classification report\n",
    "print(f'False Positive: {false_positive}')\n",
    "print(f'False Negative: {false_negative}')\n",
    "print(f'True Positive: {true_positive}')\n",
    "print(f'True Negative: {true_negative}')\n",
    "print(f'Acurracy: {accuracy}')\n",
    "print(f'Precision: {precision}')\n",
    "print(f'Recall: {recall}')"
   ]
  },
  {
   "cell_type": "code",
   "execution_count": 25,
   "id": "f196069e",
   "metadata": {},
   "outputs": [
    {
     "name": "stdout",
     "output_type": "stream",
     "text": [
      "              precision    recall  f1-score   support\n",
      "\n",
      "           0       0.78      0.98      0.87       256\n",
      "           1       0.95      0.61      0.74       180\n",
      "\n",
      "    accuracy                           0.83       436\n",
      "   macro avg       0.86      0.79      0.81       436\n",
      "weighted avg       0.85      0.83      0.82       436\n",
      "\n"
     ]
    }
   ],
   "source": [
    "y_pred = clf2.predict(X_train)\n",
    "print(classification_report(y_train, y_pred))"
   ]
  },
  {
   "cell_type": "markdown",
   "id": "58a7f6f5",
   "metadata": {},
   "source": [
    "#### Which model performs better on your in-sample data?\n",
    "- Second Model Performs better"
   ]
  },
  {
   "cell_type": "markdown",
   "id": "8918e00d",
   "metadata": {},
   "source": [
    "### Which model performs best on your out-of-sample data, the validate set?"
   ]
  },
  {
   "cell_type": "code",
   "execution_count": 26,
   "id": "fb3db5d3",
   "metadata": {},
   "outputs": [],
   "source": [
    "y_val_pred_1 = clf.predict(X_validate)\n",
    "y_val_pred_2 = clf2.predict(X_validate)"
   ]
  },
  {
   "cell_type": "code",
   "execution_count": 27,
   "id": "b38e959b",
   "metadata": {},
   "outputs": [
    {
     "name": "stdout",
     "output_type": "stream",
     "text": [
      "Validate Model 1: 0.8351063829787234\n",
      "Validate Model 2: 0.8031914893617021\n"
     ]
    }
   ],
   "source": [
    "model1_validate_accuracy = clf.score(X_validate, y_validate)\n",
    "model2_validate_accuracy = clf2.score(X_validate, y_validate)\n",
    "\n",
    "print('Validate Model 1:',model1_validate_accuracy)\n",
    "print('Validate Model 2:',model2_validate_accuracy)"
   ]
  },
  {
   "cell_type": "markdown",
   "id": "b9a826ae",
   "metadata": {},
   "source": [
    "## Work through these same exercises using the Telco dataset."
   ]
  },
  {
   "cell_type": "code",
   "execution_count": 28,
   "id": "72122963",
   "metadata": {},
   "outputs": [],
   "source": [
    "# aquire telco data\n",
    "telco = aq.get_telco_data()"
   ]
  },
  {
   "cell_type": "code",
   "execution_count": 29,
   "id": "b954b24f",
   "metadata": {},
   "outputs": [],
   "source": [
    "# prep telco data\n",
    "df = prep.prep_telco(telco)\n",
    "\n",
    "# train, validate, test telco data\n",
    "train, validate, test = df"
   ]
  },
  {
   "cell_type": "code",
   "execution_count": 30,
   "id": "26d5e75d",
   "metadata": {},
   "outputs": [
    {
     "data": {
      "text/plain": [
       "0    2891\n",
       "1    1046\n",
       "Name: churn, dtype: int64"
      ]
     },
     "execution_count": 30,
     "metadata": {},
     "output_type": "execute_result"
    }
   ],
   "source": [
    "# what is the baseline for telco data?\n",
    "# First, identify the observation: Churn\n",
    "# did they churn or did they not churn? \n",
    "\n",
    "train.churn.value_counts()"
   ]
  },
  {
   "cell_type": "code",
   "execution_count": 31,
   "id": "14c83a00",
   "metadata": {
    "scrolled": false
   },
   "outputs": [
    {
     "data": {
      "text/html": [
       "<div>\n",
       "<style scoped>\n",
       "    .dataframe tbody tr th:only-of-type {\n",
       "        vertical-align: middle;\n",
       "    }\n",
       "\n",
       "    .dataframe tbody tr th {\n",
       "        vertical-align: top;\n",
       "    }\n",
       "\n",
       "    .dataframe thead th {\n",
       "        text-align: right;\n",
       "    }\n",
       "</style>\n",
       "<table border=\"1\" class=\"dataframe\">\n",
       "  <thead>\n",
       "    <tr style=\"text-align: right;\">\n",
       "      <th></th>\n",
       "      <th>gender</th>\n",
       "      <th>senior_citizen</th>\n",
       "      <th>partner</th>\n",
       "      <th>dependents</th>\n",
       "      <th>tenure</th>\n",
       "      <th>phone_service</th>\n",
       "      <th>multiple_lines</th>\n",
       "      <th>paperless_billing</th>\n",
       "      <th>monthly_charges</th>\n",
       "      <th>total_charges</th>\n",
       "      <th>...</th>\n",
       "      <th>contract_type_Month-to-month</th>\n",
       "      <th>contract_type_One year</th>\n",
       "      <th>contract_type_Two year</th>\n",
       "      <th>payment_type_Bank transfer (automatic)</th>\n",
       "      <th>payment_type_Credit card (automatic)</th>\n",
       "      <th>payment_type_Electronic check</th>\n",
       "      <th>payment_type_Mailed check</th>\n",
       "      <th>internet_service_type_DSL</th>\n",
       "      <th>internet_service_type_Fiber optic</th>\n",
       "      <th>internet_service_type_None</th>\n",
       "    </tr>\n",
       "  </thead>\n",
       "  <tbody>\n",
       "    <tr>\n",
       "      <th>5919</th>\n",
       "      <td>Female</td>\n",
       "      <td>0</td>\n",
       "      <td>0</td>\n",
       "      <td>0</td>\n",
       "      <td>58</td>\n",
       "      <td>1</td>\n",
       "      <td>Yes</td>\n",
       "      <td>1</td>\n",
       "      <td>71.10</td>\n",
       "      <td>4299.20</td>\n",
       "      <td>...</td>\n",
       "      <td>0</td>\n",
       "      <td>1</td>\n",
       "      <td>0</td>\n",
       "      <td>0</td>\n",
       "      <td>1</td>\n",
       "      <td>0</td>\n",
       "      <td>0</td>\n",
       "      <td>1</td>\n",
       "      <td>0</td>\n",
       "      <td>0</td>\n",
       "    </tr>\n",
       "    <tr>\n",
       "      <th>1915</th>\n",
       "      <td>Male</td>\n",
       "      <td>0</td>\n",
       "      <td>0</td>\n",
       "      <td>1</td>\n",
       "      <td>71</td>\n",
       "      <td>1</td>\n",
       "      <td>Yes</td>\n",
       "      <td>1</td>\n",
       "      <td>85.45</td>\n",
       "      <td>6028.95</td>\n",
       "      <td>...</td>\n",
       "      <td>0</td>\n",
       "      <td>1</td>\n",
       "      <td>0</td>\n",
       "      <td>0</td>\n",
       "      <td>1</td>\n",
       "      <td>0</td>\n",
       "      <td>0</td>\n",
       "      <td>0</td>\n",
       "      <td>1</td>\n",
       "      <td>0</td>\n",
       "    </tr>\n",
       "    <tr>\n",
       "      <th>5054</th>\n",
       "      <td>Female</td>\n",
       "      <td>0</td>\n",
       "      <td>1</td>\n",
       "      <td>1</td>\n",
       "      <td>35</td>\n",
       "      <td>1</td>\n",
       "      <td>Yes</td>\n",
       "      <td>1</td>\n",
       "      <td>25.75</td>\n",
       "      <td>882.55</td>\n",
       "      <td>...</td>\n",
       "      <td>1</td>\n",
       "      <td>0</td>\n",
       "      <td>0</td>\n",
       "      <td>0</td>\n",
       "      <td>0</td>\n",
       "      <td>1</td>\n",
       "      <td>0</td>\n",
       "      <td>0</td>\n",
       "      <td>0</td>\n",
       "      <td>1</td>\n",
       "    </tr>\n",
       "    <tr>\n",
       "      <th>2355</th>\n",
       "      <td>Male</td>\n",
       "      <td>0</td>\n",
       "      <td>1</td>\n",
       "      <td>1</td>\n",
       "      <td>1</td>\n",
       "      <td>1</td>\n",
       "      <td>No</td>\n",
       "      <td>0</td>\n",
       "      <td>19.20</td>\n",
       "      <td>19.20</td>\n",
       "      <td>...</td>\n",
       "      <td>1</td>\n",
       "      <td>0</td>\n",
       "      <td>0</td>\n",
       "      <td>0</td>\n",
       "      <td>0</td>\n",
       "      <td>0</td>\n",
       "      <td>1</td>\n",
       "      <td>0</td>\n",
       "      <td>0</td>\n",
       "      <td>1</td>\n",
       "    </tr>\n",
       "    <tr>\n",
       "      <th>6279</th>\n",
       "      <td>Male</td>\n",
       "      <td>1</td>\n",
       "      <td>0</td>\n",
       "      <td>0</td>\n",
       "      <td>20</td>\n",
       "      <td>1</td>\n",
       "      <td>No</td>\n",
       "      <td>0</td>\n",
       "      <td>54.00</td>\n",
       "      <td>1055.90</td>\n",
       "      <td>...</td>\n",
       "      <td>0</td>\n",
       "      <td>1</td>\n",
       "      <td>0</td>\n",
       "      <td>0</td>\n",
       "      <td>0</td>\n",
       "      <td>0</td>\n",
       "      <td>1</td>\n",
       "      <td>1</td>\n",
       "      <td>0</td>\n",
       "      <td>0</td>\n",
       "    </tr>\n",
       "  </tbody>\n",
       "</table>\n",
       "<p>5 rows × 29 columns</p>\n",
       "</div>"
      ],
      "text/plain": [
       "      gender  senior_citizen  partner  dependents  tenure  phone_service  \\\n",
       "5919  Female               0        0           0      58              1   \n",
       "1915    Male               0        0           1      71              1   \n",
       "5054  Female               0        1           1      35              1   \n",
       "2355    Male               0        1           1       1              1   \n",
       "6279    Male               1        0           0      20              1   \n",
       "\n",
       "     multiple_lines  paperless_billing  monthly_charges  total_charges  ...  \\\n",
       "5919            Yes                  1            71.10        4299.20  ...   \n",
       "1915            Yes                  1            85.45        6028.95  ...   \n",
       "5054            Yes                  1            25.75         882.55  ...   \n",
       "2355             No                  0            19.20          19.20  ...   \n",
       "6279             No                  0            54.00        1055.90  ...   \n",
       "\n",
       "      contract_type_Month-to-month contract_type_One year  \\\n",
       "5919                             0                      1   \n",
       "1915                             0                      1   \n",
       "5054                             1                      0   \n",
       "2355                             1                      0   \n",
       "6279                             0                      1   \n",
       "\n",
       "     contract_type_Two year payment_type_Bank transfer (automatic)  \\\n",
       "5919                      0                                      0   \n",
       "1915                      0                                      0   \n",
       "5054                      0                                      0   \n",
       "2355                      0                                      0   \n",
       "6279                      0                                      0   \n",
       "\n",
       "      payment_type_Credit card (automatic)  payment_type_Electronic check  \\\n",
       "5919                                     1                              0   \n",
       "1915                                     1                              0   \n",
       "5054                                     0                              1   \n",
       "2355                                     0                              0   \n",
       "6279                                     0                              0   \n",
       "\n",
       "      payment_type_Mailed check  internet_service_type_DSL  \\\n",
       "5919                          0                          1   \n",
       "1915                          0                          0   \n",
       "5054                          0                          0   \n",
       "2355                          1                          0   \n",
       "6279                          1                          1   \n",
       "\n",
       "      internet_service_type_Fiber optic  internet_service_type_None  \n",
       "5919                                  0                           0  \n",
       "1915                                  1                           0  \n",
       "5054                                  0                           1  \n",
       "2355                                  0                           1  \n",
       "6279                                  0                           0  \n",
       "\n",
       "[5 rows x 29 columns]"
      ]
     },
     "execution_count": 31,
     "metadata": {},
     "output_type": "execute_result"
    }
   ],
   "source": [
    "train.head()"
   ]
  },
  {
   "cell_type": "code",
   "execution_count": 32,
   "id": "4cd0d065",
   "metadata": {
    "scrolled": true
   },
   "outputs": [],
   "source": [
    "train = train.drop(columns=['gender','contract_type',\n",
    "                            'payment_type', 'internet_service_type',\n",
    "                           'multiple_lines_No phone service',\n",
    "                            'multiple_lines'])\n",
    "train = train.replace({'Yes':1, 'No':0})"
   ]
  },
  {
   "cell_type": "code",
   "execution_count": 33,
   "id": "f2ab58a5",
   "metadata": {},
   "outputs": [],
   "source": [
    "# for validate dataset\n",
    "validate = validate.drop(columns=['gender','contract_type',\n",
    "                            'payment_type', 'internet_service_type',\n",
    "                           'multiple_lines_No phone service',\n",
    "                            'multiple_lines'])\n",
    "validate = validate.replace({'Yes':1, 'No':0})"
   ]
  },
  {
   "cell_type": "code",
   "execution_count": 34,
   "id": "9d84d78c",
   "metadata": {},
   "outputs": [
    {
     "data": {
      "text/html": [
       "<div>\n",
       "<style scoped>\n",
       "    .dataframe tbody tr th:only-of-type {\n",
       "        vertical-align: middle;\n",
       "    }\n",
       "\n",
       "    .dataframe tbody tr th {\n",
       "        vertical-align: top;\n",
       "    }\n",
       "\n",
       "    .dataframe thead th {\n",
       "        text-align: right;\n",
       "    }\n",
       "</style>\n",
       "<table border=\"1\" class=\"dataframe\">\n",
       "  <thead>\n",
       "    <tr style=\"text-align: right;\">\n",
       "      <th></th>\n",
       "      <th>senior_citizen</th>\n",
       "      <th>partner</th>\n",
       "      <th>dependents</th>\n",
       "      <th>tenure</th>\n",
       "      <th>phone_service</th>\n",
       "      <th>paperless_billing</th>\n",
       "      <th>monthly_charges</th>\n",
       "      <th>total_charges</th>\n",
       "      <th>churn</th>\n",
       "      <th>gender_Female</th>\n",
       "      <th>...</th>\n",
       "      <th>contract_type_Month-to-month</th>\n",
       "      <th>contract_type_One year</th>\n",
       "      <th>contract_type_Two year</th>\n",
       "      <th>payment_type_Bank transfer (automatic)</th>\n",
       "      <th>payment_type_Credit card (automatic)</th>\n",
       "      <th>payment_type_Electronic check</th>\n",
       "      <th>payment_type_Mailed check</th>\n",
       "      <th>internet_service_type_DSL</th>\n",
       "      <th>internet_service_type_Fiber optic</th>\n",
       "      <th>internet_service_type_None</th>\n",
       "    </tr>\n",
       "  </thead>\n",
       "  <tbody>\n",
       "    <tr>\n",
       "      <th>5919</th>\n",
       "      <td>0</td>\n",
       "      <td>0</td>\n",
       "      <td>0</td>\n",
       "      <td>58</td>\n",
       "      <td>1</td>\n",
       "      <td>1</td>\n",
       "      <td>71.10</td>\n",
       "      <td>4299.20</td>\n",
       "      <td>0</td>\n",
       "      <td>1</td>\n",
       "      <td>...</td>\n",
       "      <td>0</td>\n",
       "      <td>1</td>\n",
       "      <td>0</td>\n",
       "      <td>0</td>\n",
       "      <td>1</td>\n",
       "      <td>0</td>\n",
       "      <td>0</td>\n",
       "      <td>1</td>\n",
       "      <td>0</td>\n",
       "      <td>0</td>\n",
       "    </tr>\n",
       "    <tr>\n",
       "      <th>1915</th>\n",
       "      <td>0</td>\n",
       "      <td>0</td>\n",
       "      <td>1</td>\n",
       "      <td>71</td>\n",
       "      <td>1</td>\n",
       "      <td>1</td>\n",
       "      <td>85.45</td>\n",
       "      <td>6028.95</td>\n",
       "      <td>0</td>\n",
       "      <td>0</td>\n",
       "      <td>...</td>\n",
       "      <td>0</td>\n",
       "      <td>1</td>\n",
       "      <td>0</td>\n",
       "      <td>0</td>\n",
       "      <td>1</td>\n",
       "      <td>0</td>\n",
       "      <td>0</td>\n",
       "      <td>0</td>\n",
       "      <td>1</td>\n",
       "      <td>0</td>\n",
       "    </tr>\n",
       "    <tr>\n",
       "      <th>5054</th>\n",
       "      <td>0</td>\n",
       "      <td>1</td>\n",
       "      <td>1</td>\n",
       "      <td>35</td>\n",
       "      <td>1</td>\n",
       "      <td>1</td>\n",
       "      <td>25.75</td>\n",
       "      <td>882.55</td>\n",
       "      <td>0</td>\n",
       "      <td>1</td>\n",
       "      <td>...</td>\n",
       "      <td>1</td>\n",
       "      <td>0</td>\n",
       "      <td>0</td>\n",
       "      <td>0</td>\n",
       "      <td>0</td>\n",
       "      <td>1</td>\n",
       "      <td>0</td>\n",
       "      <td>0</td>\n",
       "      <td>0</td>\n",
       "      <td>1</td>\n",
       "    </tr>\n",
       "    <tr>\n",
       "      <th>2355</th>\n",
       "      <td>0</td>\n",
       "      <td>1</td>\n",
       "      <td>1</td>\n",
       "      <td>1</td>\n",
       "      <td>1</td>\n",
       "      <td>0</td>\n",
       "      <td>19.20</td>\n",
       "      <td>19.20</td>\n",
       "      <td>0</td>\n",
       "      <td>0</td>\n",
       "      <td>...</td>\n",
       "      <td>1</td>\n",
       "      <td>0</td>\n",
       "      <td>0</td>\n",
       "      <td>0</td>\n",
       "      <td>0</td>\n",
       "      <td>0</td>\n",
       "      <td>1</td>\n",
       "      <td>0</td>\n",
       "      <td>0</td>\n",
       "      <td>1</td>\n",
       "    </tr>\n",
       "    <tr>\n",
       "      <th>6279</th>\n",
       "      <td>1</td>\n",
       "      <td>0</td>\n",
       "      <td>0</td>\n",
       "      <td>20</td>\n",
       "      <td>1</td>\n",
       "      <td>0</td>\n",
       "      <td>54.00</td>\n",
       "      <td>1055.90</td>\n",
       "      <td>0</td>\n",
       "      <td>0</td>\n",
       "      <td>...</td>\n",
       "      <td>0</td>\n",
       "      <td>1</td>\n",
       "      <td>0</td>\n",
       "      <td>0</td>\n",
       "      <td>0</td>\n",
       "      <td>0</td>\n",
       "      <td>1</td>\n",
       "      <td>1</td>\n",
       "      <td>0</td>\n",
       "      <td>0</td>\n",
       "    </tr>\n",
       "  </tbody>\n",
       "</table>\n",
       "<p>5 rows × 23 columns</p>\n",
       "</div>"
      ],
      "text/plain": [
       "      senior_citizen  partner  dependents  tenure  phone_service  \\\n",
       "5919               0        0           0      58              1   \n",
       "1915               0        0           1      71              1   \n",
       "5054               0        1           1      35              1   \n",
       "2355               0        1           1       1              1   \n",
       "6279               1        0           0      20              1   \n",
       "\n",
       "      paperless_billing  monthly_charges  total_charges  churn  gender_Female  \\\n",
       "5919                  1            71.10        4299.20      0              1   \n",
       "1915                  1            85.45        6028.95      0              0   \n",
       "5054                  1            25.75         882.55      0              1   \n",
       "2355                  0            19.20          19.20      0              0   \n",
       "6279                  0            54.00        1055.90      0              0   \n",
       "\n",
       "      ...  contract_type_Month-to-month  contract_type_One year  \\\n",
       "5919  ...                             0                       1   \n",
       "1915  ...                             0                       1   \n",
       "5054  ...                             1                       0   \n",
       "2355  ...                             1                       0   \n",
       "6279  ...                             0                       1   \n",
       "\n",
       "      contract_type_Two year  payment_type_Bank transfer (automatic)  \\\n",
       "5919                       0                                       0   \n",
       "1915                       0                                       0   \n",
       "5054                       0                                       0   \n",
       "2355                       0                                       0   \n",
       "6279                       0                                       0   \n",
       "\n",
       "      payment_type_Credit card (automatic)  payment_type_Electronic check  \\\n",
       "5919                                     1                              0   \n",
       "1915                                     1                              0   \n",
       "5054                                     0                              1   \n",
       "2355                                     0                              0   \n",
       "6279                                     0                              0   \n",
       "\n",
       "      payment_type_Mailed check  internet_service_type_DSL  \\\n",
       "5919                          0                          1   \n",
       "1915                          0                          0   \n",
       "5054                          0                          0   \n",
       "2355                          1                          0   \n",
       "6279                          1                          1   \n",
       "\n",
       "      internet_service_type_Fiber optic  internet_service_type_None  \n",
       "5919                                  0                           0  \n",
       "1915                                  1                           0  \n",
       "5054                                  0                           1  \n",
       "2355                                  0                           1  \n",
       "6279                                  0                           0  \n",
       "\n",
       "[5 rows x 23 columns]"
      ]
     },
     "execution_count": 34,
     "metadata": {},
     "output_type": "execute_result"
    }
   ],
   "source": [
    "train.head()"
   ]
  },
  {
   "cell_type": "markdown",
   "id": "4a698d8c",
   "metadata": {},
   "source": [
    "# Takeaway:\n",
    "- Since more people did not churn, we will use this as our baseline."
   ]
  },
  {
   "cell_type": "code",
   "execution_count": 35,
   "id": "65c1826f",
   "metadata": {},
   "outputs": [
    {
     "data": {
      "text/plain": [
       "0.7343154686309372"
      ]
     },
     "execution_count": 35,
     "metadata": {},
     "output_type": "execute_result"
    }
   ],
   "source": [
    "baseline = (train.churn == 0).mean()\n",
    "baseline"
   ]
  },
  {
   "cell_type": "code",
   "execution_count": 36,
   "id": "a92c3846",
   "metadata": {},
   "outputs": [],
   "source": [
    "# Now, create an X, Y version of the datasets\n",
    "\n",
    "# train dataset\n",
    "\n",
    "X_train = train.drop(columns=['churn'])\n",
    "y_train = train.churn\n",
    "\n",
    "# validate dataset\n",
    "X_validate = validate.drop(columns=['churn'])\n",
    "y_validate = validate.churn\n",
    "\n",
    "# test dataset\n",
    "X_test = test.drop(columns=['churn'])\n",
    "y_test = test.churn"
   ]
  },
  {
   "cell_type": "markdown",
   "id": "866f1ddd",
   "metadata": {},
   "source": [
    "- #### Fit the decision tree classifier to your training sample and transform (i.e. make predictions on the training sample)"
   ]
  },
  {
   "cell_type": "code",
   "execution_count": 37,
   "id": "aaea712f",
   "metadata": {},
   "outputs": [],
   "source": [
    "clf = DecisionTreeClassifier(max_depth=3, random_state=123)"
   ]
  },
  {
   "cell_type": "code",
   "execution_count": 38,
   "id": "0d1beb10",
   "metadata": {
    "scrolled": true
   },
   "outputs": [],
   "source": [
    "clf = clf.fit(X_train, y_train)"
   ]
  },
  {
   "cell_type": "code",
   "execution_count": 39,
   "id": "effaa8c2",
   "metadata": {},
   "outputs": [
    {
     "data": {
      "text/plain": [
       "[Text(362.7, 332.955, 'contract_type_Month-to-month <= 0.5\\ngini = 0.39\\nsamples = 3937\\nvalue = [2891, 1046]\\nclass = 0'),\n",
       " Text(181.35, 237.825, 'monthly_charges <= 93.775\\ngini = 0.125\\nsamples = 1772\\nvalue = [1653, 119]\\nclass = 0'),\n",
       " Text(90.675, 142.695, 'contract_type_One year <= 0.5\\ngini = 0.072\\nsamples = 1328\\nvalue = [1278, 50]\\nclass = 0'),\n",
       " Text(45.3375, 47.565, 'gini = 0.032\\nsamples = 741\\nvalue = [729, 12]\\nclass = 0'),\n",
       " Text(136.0125, 47.565, 'gini = 0.121\\nsamples = 587\\nvalue = [549, 38]\\nclass = 0'),\n",
       " Text(272.025, 142.695, 'total_charges <= 6586.2\\ngini = 0.263\\nsamples = 444\\nvalue = [375, 69]\\nclass = 0'),\n",
       " Text(226.6875, 47.565, 'gini = 0.353\\nsamples = 214\\nvalue = [165, 49]\\nclass = 0'),\n",
       " Text(317.3625, 47.565, 'gini = 0.159\\nsamples = 230\\nvalue = [210, 20]\\nclass = 0'),\n",
       " Text(544.05, 237.825, 'internet_service_type_Fiber optic <= 0.5\\ngini = 0.49\\nsamples = 2165\\nvalue = [1238, 927]\\nclass = 0'),\n",
       " Text(453.375, 142.695, 'tenure <= 5.5\\ngini = 0.394\\nsamples = 999\\nvalue = [730, 269]\\nclass = 0'),\n",
       " Text(408.03749999999997, 47.565, 'gini = 0.486\\nsamples = 439\\nvalue = [256, 183]\\nclass = 0'),\n",
       " Text(498.7125, 47.565, 'gini = 0.26\\nsamples = 560\\nvalue = [474, 86]\\nclass = 0'),\n",
       " Text(634.725, 142.695, 'total_charges <= 1486.825\\ngini = 0.492\\nsamples = 1166\\nvalue = [508, 658]\\nclass = 1'),\n",
       " Text(589.3874999999999, 47.565, 'gini = 0.409\\nsamples = 587\\nvalue = [168, 419]\\nclass = 1'),\n",
       " Text(680.0625, 47.565, 'gini = 0.485\\nsamples = 579\\nvalue = [340, 239]\\nclass = 0')]"
      ]
     },
     "execution_count": 39,
     "metadata": {},
     "output_type": "execute_result"
    },
    {
     "data": {
      "image/png": "[encoded data removed]",
      "text/plain": [
       "<Figure size 936x504 with 1 Axes>"
      ]
     },
     "metadata": {
      "needs_background": "light"
     },
     "output_type": "display_data"
    }
   ],
   "source": [
    "plt.figure(figsize=(13, 7))\n",
    "plot_tree(clf, feature_names=X_train.columns,\n",
    "          class_names=clf.classes_.astype(str), rounded=True)"
   ]
  },
  {
   "cell_type": "code",
   "execution_count": 40,
   "id": "a969f60e",
   "metadata": {},
   "outputs": [
    {
     "name": "stdout",
     "output_type": "stream",
     "text": [
      "Accuracy of Decision Tree classifier on training set: 0.80\n"
     ]
    }
   ],
   "source": [
    "print('Accuracy of Decision Tree classifier on training set: {:.2f}'\n",
    "      .format(clf.score(X_train, y_train)))"
   ]
  },
  {
   "cell_type": "code",
   "execution_count": 41,
   "id": "f1329af8",
   "metadata": {},
   "outputs": [],
   "source": [
    "# set prediticon\n",
    "train['prediction'] = clf.predict(X_train)\n",
    "y_pred = clf.predict(X_train)"
   ]
  },
  {
   "cell_type": "code",
   "execution_count": 42,
   "id": "3e7318b7",
   "metadata": {},
   "outputs": [
    {
     "data": {
      "text/html": [
       "<div>\n",
       "<style scoped>\n",
       "    .dataframe tbody tr th:only-of-type {\n",
       "        vertical-align: middle;\n",
       "    }\n",
       "\n",
       "    .dataframe tbody tr th {\n",
       "        vertical-align: top;\n",
       "    }\n",
       "\n",
       "    .dataframe thead th {\n",
       "        text-align: right;\n",
       "    }\n",
       "</style>\n",
       "<table border=\"1\" class=\"dataframe\">\n",
       "  <thead>\n",
       "    <tr style=\"text-align: right;\">\n",
       "      <th>prediction</th>\n",
       "      <th>0</th>\n",
       "      <th>1</th>\n",
       "    </tr>\n",
       "    <tr>\n",
       "      <th>churn</th>\n",
       "      <th></th>\n",
       "      <th></th>\n",
       "    </tr>\n",
       "  </thead>\n",
       "  <tbody>\n",
       "    <tr>\n",
       "      <th>0</th>\n",
       "      <td>2723</td>\n",
       "      <td>168</td>\n",
       "    </tr>\n",
       "    <tr>\n",
       "      <th>1</th>\n",
       "      <td>627</td>\n",
       "      <td>419</td>\n",
       "    </tr>\n",
       "  </tbody>\n",
       "</table>\n",
       "</div>"
      ],
      "text/plain": [
       "prediction     0    1\n",
       "churn                \n",
       "0           2723  168\n",
       "1            627  419"
      ]
     },
     "execution_count": 42,
     "metadata": {},
     "output_type": "execute_result"
    }
   ],
   "source": [
    "# crosstab\n",
    "pd.crosstab(train.churn, train.prediction)"
   ]
  },
  {
   "cell_type": "code",
   "execution_count": 43,
   "id": "0448d291",
   "metadata": {
    "scrolled": true
   },
   "outputs": [
    {
     "name": "stdout",
     "output_type": "stream",
     "text": [
      "False Positive: 0.6148897058823529\n",
      "False Negative: 0.04389044943820225\n",
      "True Positive: 0.9561095505617978\n",
      "True Negative: 0.3851102941176471\n",
      "Acurracy: 0.7982723577235772\n",
      "Precision: 0.5\n",
      "Recall: 0.9561095505617978\n"
     ]
    }
   ],
   "source": [
    "TP = 2723\n",
    "TN = 419\n",
    "FP = 669\n",
    "FN = 125\n",
    "\n",
    "\n",
    "false_positive = FP/(FP+TN)\n",
    "false_negative = FN/(FN+TP)\n",
    "true_positive = TP/(TP+FN)\n",
    "true_negative = TN/(TN+FP)\n",
    "\n",
    "accuracy = (TP+TN)/(TP+TN+FP+FN)\n",
    "precision = TP/(TP+TP)\n",
    "recall = TP/(TP+FN)\n",
    "\n",
    "# f-1 score and support score are inside of the classification report\n",
    "print(f'False Positive: {false_positive}')\n",
    "print(f'False Negative: {false_negative}')\n",
    "print(f'True Positive: {true_positive}')\n",
    "print(f'True Negative: {true_negative}')\n",
    "print(f'Acurracy: {accuracy}')\n",
    "print(f'Precision: {precision}')\n",
    "print(f'Recall: {recall}')"
   ]
  },
  {
   "cell_type": "code",
   "execution_count": 44,
   "id": "7e307dfd",
   "metadata": {},
   "outputs": [
    {
     "name": "stdout",
     "output_type": "stream",
     "text": [
      "              precision    recall  f1-score   support\n",
      "\n",
      "           0       0.81      0.94      0.87      2891\n",
      "           1       0.71      0.40      0.51      1046\n",
      "\n",
      "    accuracy                           0.80      3937\n",
      "   macro avg       0.76      0.67      0.69      3937\n",
      "weighted avg       0.79      0.80      0.78      3937\n",
      "\n"
     ]
    }
   ],
   "source": [
    "y_pred = clf.predict(X_train)\n",
    "print(classification_report(y_train, y_pred))"
   ]
  },
  {
   "cell_type": "markdown",
   "id": "ba40e5c7",
   "metadata": {},
   "source": [
    "### Run through steps 2-4 using a different max_depth value."
   ]
  },
  {
   "cell_type": "code",
   "execution_count": 45,
   "id": "feecc9f1",
   "metadata": {},
   "outputs": [],
   "source": [
    "clf2 = DecisionTreeClassifier(max_depth=5, random_state=123)"
   ]
  },
  {
   "cell_type": "code",
   "execution_count": 46,
   "id": "eca3933c",
   "metadata": {},
   "outputs": [],
   "source": [
    "clf2 = clf2.fit(X_train, y_train)"
   ]
  },
  {
   "cell_type": "code",
   "execution_count": 47,
   "id": "dbcfa85f",
   "metadata": {},
   "outputs": [
    {
     "name": "stdout",
     "output_type": "stream",
     "text": [
      "Accuracy of Decision Tree classifier on training set: 0.80\n"
     ]
    }
   ],
   "source": [
    "print('Accuracy of Decision Tree classifier on training set: {:.2f}'\n",
    "      .format(clf2.score(X_train, y_train)))"
   ]
  },
  {
   "cell_type": "code",
   "execution_count": 48,
   "id": "a87017cb",
   "metadata": {},
   "outputs": [],
   "source": [
    "train['prediction'] = clf2.predict(X_train)\n",
    "y_pred = clf2.predict(X_train)"
   ]
  },
  {
   "cell_type": "code",
   "execution_count": 49,
   "id": "317fd06c",
   "metadata": {},
   "outputs": [
    {
     "data": {
      "text/html": [
       "<div>\n",
       "<style scoped>\n",
       "    .dataframe tbody tr th:only-of-type {\n",
       "        vertical-align: middle;\n",
       "    }\n",
       "\n",
       "    .dataframe tbody tr th {\n",
       "        vertical-align: top;\n",
       "    }\n",
       "\n",
       "    .dataframe thead th {\n",
       "        text-align: right;\n",
       "    }\n",
       "</style>\n",
       "<table border=\"1\" class=\"dataframe\">\n",
       "  <thead>\n",
       "    <tr style=\"text-align: right;\">\n",
       "      <th>prediction</th>\n",
       "      <th>0</th>\n",
       "      <th>1</th>\n",
       "    </tr>\n",
       "    <tr>\n",
       "      <th>churn</th>\n",
       "      <th></th>\n",
       "      <th></th>\n",
       "    </tr>\n",
       "  </thead>\n",
       "  <tbody>\n",
       "    <tr>\n",
       "      <th>0</th>\n",
       "      <td>2755</td>\n",
       "      <td>136</td>\n",
       "    </tr>\n",
       "    <tr>\n",
       "      <th>1</th>\n",
       "      <td>637</td>\n",
       "      <td>409</td>\n",
       "    </tr>\n",
       "  </tbody>\n",
       "</table>\n",
       "</div>"
      ],
      "text/plain": [
       "prediction     0    1\n",
       "churn                \n",
       "0           2755  136\n",
       "1            637  409"
      ]
     },
     "execution_count": 49,
     "metadata": {},
     "output_type": "execute_result"
    }
   ],
   "source": [
    "pd.crosstab(train.churn, train.prediction)"
   ]
  },
  {
   "cell_type": "code",
   "execution_count": 50,
   "id": "fa403418",
   "metadata": {},
   "outputs": [
    {
     "name": "stdout",
     "output_type": "stream",
     "text": [
      "False Positive: 0.5076481835564054\n",
      "False Negative: 0.07229332410930474\n",
      "True Positive: 0.9277066758906952\n",
      "True Negative: 0.49235181644359466\n",
      "Acurracy: 0.8120396240792481\n",
      "Precision: 0.5\n",
      "Recall: 0.9277066758906952\n"
     ]
    }
   ],
   "source": [
    "TP = 2682\n",
    "TN = 515\n",
    "FP = 531\n",
    "FN = 209\n",
    "\n",
    "\n",
    "false_positive = FP/(FP+TN)\n",
    "false_negative = FN/(FN+TP)\n",
    "true_positive = TP/(TP+FN)\n",
    "true_negative = TN/(TN+FP)\n",
    "\n",
    "accuracy = (TP+TN)/(TP+TN+FP+FN)\n",
    "precision = TP/(TP+TP)\n",
    "recall = TP/(TP+FN)\n",
    "\n",
    "# f-1 score and support score are inside of the classification report\n",
    "print(f'False Positive: {false_positive}')\n",
    "print(f'False Negative: {false_negative}')\n",
    "print(f'True Positive: {true_positive}')\n",
    "print(f'True Negative: {true_negative}')\n",
    "print(f'Acurracy: {accuracy}')\n",
    "print(f'Precision: {precision}')\n",
    "print(f'Recall: {recall}')"
   ]
  },
  {
   "cell_type": "code",
   "execution_count": 51,
   "id": "a1014d95",
   "metadata": {},
   "outputs": [
    {
     "name": "stdout",
     "output_type": "stream",
     "text": [
      "              precision    recall  f1-score   support\n",
      "\n",
      "           0       0.81      0.95      0.88      2891\n",
      "           1       0.75      0.39      0.51      1046\n",
      "\n",
      "    accuracy                           0.80      3937\n",
      "   macro avg       0.78      0.67      0.70      3937\n",
      "weighted avg       0.80      0.80      0.78      3937\n",
      "\n"
     ]
    }
   ],
   "source": [
    "y_pred = clf2.predict(X_train)\n",
    "print(classification_report(y_train, y_pred))"
   ]
  },
  {
   "cell_type": "markdown",
   "id": "e8c2e6b6",
   "metadata": {},
   "source": [
    "##### The second model is better with an accuracy of 81% "
   ]
  },
  {
   "cell_type": "markdown",
   "id": "946f9f50",
   "metadata": {},
   "source": [
    "### Which model performs best on your out-of-sample data, the validate set?"
   ]
  },
  {
   "cell_type": "code",
   "execution_count": 52,
   "id": "823695c6",
   "metadata": {
    "scrolled": true
   },
   "outputs": [
    {
     "data": {
      "text/html": [
       "<div>\n",
       "<style scoped>\n",
       "    .dataframe tbody tr th:only-of-type {\n",
       "        vertical-align: middle;\n",
       "    }\n",
       "\n",
       "    .dataframe tbody tr th {\n",
       "        vertical-align: top;\n",
       "    }\n",
       "\n",
       "    .dataframe thead th {\n",
       "        text-align: right;\n",
       "    }\n",
       "</style>\n",
       "<table border=\"1\" class=\"dataframe\">\n",
       "  <thead>\n",
       "    <tr style=\"text-align: right;\">\n",
       "      <th></th>\n",
       "      <th>senior_citizen</th>\n",
       "      <th>partner</th>\n",
       "      <th>dependents</th>\n",
       "      <th>tenure</th>\n",
       "      <th>phone_service</th>\n",
       "      <th>paperless_billing</th>\n",
       "      <th>monthly_charges</th>\n",
       "      <th>total_charges</th>\n",
       "      <th>churn</th>\n",
       "      <th>gender_Female</th>\n",
       "      <th>...</th>\n",
       "      <th>contract_type_Month-to-month</th>\n",
       "      <th>contract_type_One year</th>\n",
       "      <th>contract_type_Two year</th>\n",
       "      <th>payment_type_Bank transfer (automatic)</th>\n",
       "      <th>payment_type_Credit card (automatic)</th>\n",
       "      <th>payment_type_Electronic check</th>\n",
       "      <th>payment_type_Mailed check</th>\n",
       "      <th>internet_service_type_DSL</th>\n",
       "      <th>internet_service_type_Fiber optic</th>\n",
       "      <th>internet_service_type_None</th>\n",
       "    </tr>\n",
       "  </thead>\n",
       "  <tbody>\n",
       "    <tr>\n",
       "      <th>816</th>\n",
       "      <td>0</td>\n",
       "      <td>1</td>\n",
       "      <td>0</td>\n",
       "      <td>27</td>\n",
       "      <td>1</td>\n",
       "      <td>0</td>\n",
       "      <td>95.00</td>\n",
       "      <td>2462.55</td>\n",
       "      <td>0</td>\n",
       "      <td>1</td>\n",
       "      <td>...</td>\n",
       "      <td>1</td>\n",
       "      <td>0</td>\n",
       "      <td>0</td>\n",
       "      <td>0</td>\n",
       "      <td>1</td>\n",
       "      <td>0</td>\n",
       "      <td>0</td>\n",
       "      <td>0</td>\n",
       "      <td>1</td>\n",
       "      <td>0</td>\n",
       "    </tr>\n",
       "    <tr>\n",
       "      <th>1488</th>\n",
       "      <td>0</td>\n",
       "      <td>1</td>\n",
       "      <td>0</td>\n",
       "      <td>71</td>\n",
       "      <td>1</td>\n",
       "      <td>0</td>\n",
       "      <td>89.30</td>\n",
       "      <td>6388.65</td>\n",
       "      <td>0</td>\n",
       "      <td>1</td>\n",
       "      <td>...</td>\n",
       "      <td>0</td>\n",
       "      <td>0</td>\n",
       "      <td>1</td>\n",
       "      <td>0</td>\n",
       "      <td>1</td>\n",
       "      <td>0</td>\n",
       "      <td>0</td>\n",
       "      <td>1</td>\n",
       "      <td>0</td>\n",
       "      <td>0</td>\n",
       "    </tr>\n",
       "    <tr>\n",
       "      <th>4796</th>\n",
       "      <td>0</td>\n",
       "      <td>0</td>\n",
       "      <td>0</td>\n",
       "      <td>44</td>\n",
       "      <td>0</td>\n",
       "      <td>1</td>\n",
       "      <td>54.00</td>\n",
       "      <td>2440.25</td>\n",
       "      <td>0</td>\n",
       "      <td>0</td>\n",
       "      <td>...</td>\n",
       "      <td>0</td>\n",
       "      <td>1</td>\n",
       "      <td>0</td>\n",
       "      <td>0</td>\n",
       "      <td>0</td>\n",
       "      <td>1</td>\n",
       "      <td>0</td>\n",
       "      <td>1</td>\n",
       "      <td>0</td>\n",
       "      <td>0</td>\n",
       "    </tr>\n",
       "    <tr>\n",
       "      <th>3213</th>\n",
       "      <td>0</td>\n",
       "      <td>1</td>\n",
       "      <td>1</td>\n",
       "      <td>27</td>\n",
       "      <td>1</td>\n",
       "      <td>0</td>\n",
       "      <td>19.90</td>\n",
       "      <td>550.10</td>\n",
       "      <td>0</td>\n",
       "      <td>1</td>\n",
       "      <td>...</td>\n",
       "      <td>0</td>\n",
       "      <td>0</td>\n",
       "      <td>1</td>\n",
       "      <td>0</td>\n",
       "      <td>0</td>\n",
       "      <td>0</td>\n",
       "      <td>1</td>\n",
       "      <td>0</td>\n",
       "      <td>0</td>\n",
       "      <td>1</td>\n",
       "    </tr>\n",
       "    <tr>\n",
       "      <th>5026</th>\n",
       "      <td>0</td>\n",
       "      <td>1</td>\n",
       "      <td>1</td>\n",
       "      <td>62</td>\n",
       "      <td>1</td>\n",
       "      <td>0</td>\n",
       "      <td>20.05</td>\n",
       "      <td>1263.90</td>\n",
       "      <td>0</td>\n",
       "      <td>0</td>\n",
       "      <td>...</td>\n",
       "      <td>0</td>\n",
       "      <td>0</td>\n",
       "      <td>1</td>\n",
       "      <td>0</td>\n",
       "      <td>1</td>\n",
       "      <td>0</td>\n",
       "      <td>0</td>\n",
       "      <td>0</td>\n",
       "      <td>0</td>\n",
       "      <td>1</td>\n",
       "    </tr>\n",
       "  </tbody>\n",
       "</table>\n",
       "<p>5 rows × 23 columns</p>\n",
       "</div>"
      ],
      "text/plain": [
       "      senior_citizen  partner  dependents  tenure  phone_service  \\\n",
       "816                0        1           0      27              1   \n",
       "1488               0        1           0      71              1   \n",
       "4796               0        0           0      44              0   \n",
       "3213               0        1           1      27              1   \n",
       "5026               0        1           1      62              1   \n",
       "\n",
       "      paperless_billing  monthly_charges  total_charges  churn  gender_Female  \\\n",
       "816                   0            95.00        2462.55      0              1   \n",
       "1488                  0            89.30        6388.65      0              1   \n",
       "4796                  1            54.00        2440.25      0              0   \n",
       "3213                  0            19.90         550.10      0              1   \n",
       "5026                  0            20.05        1263.90      0              0   \n",
       "\n",
       "      ...  contract_type_Month-to-month  contract_type_One year  \\\n",
       "816   ...                             1                       0   \n",
       "1488  ...                             0                       0   \n",
       "4796  ...                             0                       1   \n",
       "3213  ...                             0                       0   \n",
       "5026  ...                             0                       0   \n",
       "\n",
       "      contract_type_Two year  payment_type_Bank transfer (automatic)  \\\n",
       "816                        0                                       0   \n",
       "1488                       1                                       0   \n",
       "4796                       0                                       0   \n",
       "3213                       1                                       0   \n",
       "5026                       1                                       0   \n",
       "\n",
       "      payment_type_Credit card (automatic)  payment_type_Electronic check  \\\n",
       "816                                      1                              0   \n",
       "1488                                     1                              0   \n",
       "4796                                     0                              1   \n",
       "3213                                     0                              0   \n",
       "5026                                     1                              0   \n",
       "\n",
       "      payment_type_Mailed check  internet_service_type_DSL  \\\n",
       "816                           0                          0   \n",
       "1488                          0                          1   \n",
       "4796                          0                          1   \n",
       "3213                          1                          0   \n",
       "5026                          0                          0   \n",
       "\n",
       "      internet_service_type_Fiber optic  internet_service_type_None  \n",
       "816                                   1                           0  \n",
       "1488                                  0                           0  \n",
       "4796                                  0                           0  \n",
       "3213                                  0                           1  \n",
       "5026                                  0                           1  \n",
       "\n",
       "[5 rows x 23 columns]"
      ]
     },
     "execution_count": 52,
     "metadata": {},
     "output_type": "execute_result"
    }
   ],
   "source": [
    "validate.head()"
   ]
  },
  {
   "cell_type": "code",
   "execution_count": 53,
   "id": "b5240ee8",
   "metadata": {},
   "outputs": [
    {
     "name": "stdout",
     "output_type": "stream",
     "text": [
      "Validate Model 1: 0.7731042654028436\n",
      "Validate Model 2: 0.7731042654028436\n"
     ]
    }
   ],
   "source": [
    "model1_validate_accuracy = clf.score(X_validate, y_validate)\n",
    "model2_validate_accuracy = clf2.score(X_validate, y_validate)\n",
    "\n",
    "print('Validate Model 1:',model1_validate_accuracy)\n",
    "print('Validate Model 2:',model2_validate_accuracy)"
   ]
  },
  {
   "cell_type": "markdown",
   "id": "571eb8da",
   "metadata": {},
   "source": [
    "# Random Forest"
   ]
  },
  {
   "cell_type": "markdown",
   "id": "2b7c46cb",
   "metadata": {},
   "source": [
    "## Exercises\n",
    "\n",
    "Continue working in your model file with titanic data to do the following:"
   ]
  },
  {
   "cell_type": "markdown",
   "id": "31c44cf6",
   "metadata": {},
   "source": [
    "#### 1. Fit the Random Forest classifier to your training sample and transform (i.e. make predictions on the training sample) setting the random_state accordingly and setting min_samples_leaf = 1 and max_depth = 10."
   ]
  },
  {
   "cell_type": "code",
   "execution_count": 54,
   "id": "5ce3243f",
   "metadata": {},
   "outputs": [],
   "source": [
    "# aquire and prepare titanic data\n",
    "titanic = aq.get_titanic_data()\n",
    "df = prep.prep_titanic(titanic)\n",
    "\n",
    "# train, validate, test\n",
    "train, validate, test = df"
   ]
  },
  {
   "cell_type": "code",
   "execution_count": 55,
   "id": "1f77e505",
   "metadata": {},
   "outputs": [],
   "source": [
    "# create X & y version of train, where y is a series with\n",
    "#just the target variable and X are all the features. \n",
    "\n",
    "#train dataset\n",
    "X_train = train.drop(columns=['survived'])\n",
    "y_train = train.survived\n",
    "\n",
    "# validate dataset\n",
    "X_validate = validate.drop(columns=['survived'])\n",
    "y_validate = validate.survived\n",
    "\n",
    "# Test dataset\n",
    "X_test = test.drop(columns=['survived'])\n",
    "y_test = test.survived"
   ]
  },
  {
   "cell_type": "code",
   "execution_count": 56,
   "id": "da94d742",
   "metadata": {
    "scrolled": false
   },
   "outputs": [
    {
     "data": {
      "text/plain": [
       "RandomForestClassifier(max_depth=10, random_state=123)"
      ]
     },
     "execution_count": 56,
     "metadata": {},
     "output_type": "execute_result"
    }
   ],
   "source": [
    "# create Random Forst model\n",
    "rf = RandomForestClassifier(bootstrap=True, \n",
    "                            class_weight=None, \n",
    "                            criterion='gini',\n",
    "                            min_samples_leaf=1,\n",
    "                            n_estimators=100,\n",
    "                            max_depth=10, \n",
    "                            random_state=123)\n",
    "\n",
    "rf.fit(X_train, y_train)"
   ]
  },
  {
   "cell_type": "code",
   "execution_count": 57,
   "id": "99934935",
   "metadata": {
    "scrolled": true
   },
   "outputs": [
    {
     "name": "stdout",
     "output_type": "stream",
     "text": [
      "Accuracy of random forest classifier on training set: 0.97\n"
     ]
    }
   ],
   "source": [
    "print('Accuracy of random forest classifier on training set: {:.2f}'\n",
    "     .format(rf.score(X_train, y_train)))"
   ]
  },
  {
   "cell_type": "code",
   "execution_count": 58,
   "id": "b64807da",
   "metadata": {
    "scrolled": false
   },
   "outputs": [
    {
     "data": {
      "text/html": [
       "<div>\n",
       "<style scoped>\n",
       "    .dataframe tbody tr th:only-of-type {\n",
       "        vertical-align: middle;\n",
       "    }\n",
       "\n",
       "    .dataframe tbody tr th {\n",
       "        vertical-align: top;\n",
       "    }\n",
       "\n",
       "    .dataframe thead th {\n",
       "        text-align: right;\n",
       "    }\n",
       "</style>\n",
       "<table border=\"1\" class=\"dataframe\">\n",
       "  <thead>\n",
       "    <tr style=\"text-align: right;\">\n",
       "      <th></th>\n",
       "      <th>survived</th>\n",
       "      <th>pclass</th>\n",
       "      <th>age</th>\n",
       "      <th>sibsp</th>\n",
       "      <th>parch</th>\n",
       "      <th>fare</th>\n",
       "      <th>alone</th>\n",
       "      <th>sex_male</th>\n",
       "      <th>embark_town_Queenstown</th>\n",
       "      <th>embark_town_Southampton</th>\n",
       "      <th>prediction</th>\n",
       "    </tr>\n",
       "  </thead>\n",
       "  <tbody>\n",
       "    <tr>\n",
       "      <th>631</th>\n",
       "      <td>0</td>\n",
       "      <td>3</td>\n",
       "      <td>51.0</td>\n",
       "      <td>0</td>\n",
       "      <td>0</td>\n",
       "      <td>7.0542</td>\n",
       "      <td>1</td>\n",
       "      <td>1</td>\n",
       "      <td>0</td>\n",
       "      <td>1</td>\n",
       "      <td>0</td>\n",
       "    </tr>\n",
       "    <tr>\n",
       "      <th>108</th>\n",
       "      <td>0</td>\n",
       "      <td>3</td>\n",
       "      <td>38.0</td>\n",
       "      <td>0</td>\n",
       "      <td>0</td>\n",
       "      <td>7.8958</td>\n",
       "      <td>1</td>\n",
       "      <td>1</td>\n",
       "      <td>0</td>\n",
       "      <td>1</td>\n",
       "      <td>0</td>\n",
       "    </tr>\n",
       "    <tr>\n",
       "      <th>365</th>\n",
       "      <td>0</td>\n",
       "      <td>3</td>\n",
       "      <td>30.0</td>\n",
       "      <td>0</td>\n",
       "      <td>0</td>\n",
       "      <td>7.2500</td>\n",
       "      <td>1</td>\n",
       "      <td>1</td>\n",
       "      <td>0</td>\n",
       "      <td>1</td>\n",
       "      <td>0</td>\n",
       "    </tr>\n",
       "    <tr>\n",
       "      <th>701</th>\n",
       "      <td>1</td>\n",
       "      <td>1</td>\n",
       "      <td>35.0</td>\n",
       "      <td>0</td>\n",
       "      <td>0</td>\n",
       "      <td>26.2875</td>\n",
       "      <td>1</td>\n",
       "      <td>1</td>\n",
       "      <td>0</td>\n",
       "      <td>1</td>\n",
       "      <td>1</td>\n",
       "    </tr>\n",
       "    <tr>\n",
       "      <th>449</th>\n",
       "      <td>1</td>\n",
       "      <td>1</td>\n",
       "      <td>52.0</td>\n",
       "      <td>0</td>\n",
       "      <td>0</td>\n",
       "      <td>30.5000</td>\n",
       "      <td>1</td>\n",
       "      <td>1</td>\n",
       "      <td>0</td>\n",
       "      <td>1</td>\n",
       "      <td>1</td>\n",
       "    </tr>\n",
       "  </tbody>\n",
       "</table>\n",
       "</div>"
      ],
      "text/plain": [
       "     survived  pclass   age  sibsp  parch     fare  alone  sex_male  \\\n",
       "631         0       3  51.0      0      0   7.0542      1         1   \n",
       "108         0       3  38.0      0      0   7.8958      1         1   \n",
       "365         0       3  30.0      0      0   7.2500      1         1   \n",
       "701         1       1  35.0      0      0  26.2875      1         1   \n",
       "449         1       1  52.0      0      0  30.5000      1         1   \n",
       "\n",
       "     embark_town_Queenstown  embark_town_Southampton  prediction  \n",
       "631                       0                        1           0  \n",
       "108                       0                        1           0  \n",
       "365                       0                        1           0  \n",
       "701                       0                        1           1  \n",
       "449                       0                        1           1  "
      ]
     },
     "execution_count": 58,
     "metadata": {},
     "output_type": "execute_result"
    }
   ],
   "source": [
    "# make prediciton on the training sample\n",
    "train['prediction'] = rf.predict(X_train)\n",
    "train.head()"
   ]
  },
  {
   "cell_type": "markdown",
   "id": "804d65d6",
   "metadata": {},
   "source": [
    "#### 2. Evaluate your results using the model score, confusion matrix, and classification report.\n",
    "\n"
   ]
  },
  {
   "cell_type": "code",
   "execution_count": 59,
   "id": "01aadd68",
   "metadata": {},
   "outputs": [
    {
     "data": {
      "text/plain": [
       "0.9724770642201835"
      ]
     },
     "execution_count": 59,
     "metadata": {},
     "output_type": "execute_result"
    }
   ],
   "source": [
    "# model score\n",
    "rf.score(X_train, y_train)"
   ]
  },
  {
   "cell_type": "markdown",
   "id": "625f0a5c",
   "metadata": {},
   "source": [
    "#### 3.Print and clearly label the following: Accuracy, true positive rate, false positive rate, true negative rate, false negative rate, precision, recall, f1-score, and support."
   ]
  },
  {
   "cell_type": "code",
   "execution_count": 60,
   "id": "82e81478",
   "metadata": {},
   "outputs": [
    {
     "data": {
      "text/html": [
       "<div>\n",
       "<style scoped>\n",
       "    .dataframe tbody tr th:only-of-type {\n",
       "        vertical-align: middle;\n",
       "    }\n",
       "\n",
       "    .dataframe tbody tr th {\n",
       "        vertical-align: top;\n",
       "    }\n",
       "\n",
       "    .dataframe thead th {\n",
       "        text-align: right;\n",
       "    }\n",
       "</style>\n",
       "<table border=\"1\" class=\"dataframe\">\n",
       "  <thead>\n",
       "    <tr style=\"text-align: right;\">\n",
       "      <th></th>\n",
       "      <th>precision</th>\n",
       "      <th>recall</th>\n",
       "      <th>f1-score</th>\n",
       "      <th>support</th>\n",
       "    </tr>\n",
       "  </thead>\n",
       "  <tbody>\n",
       "    <tr>\n",
       "      <th>0</th>\n",
       "      <td>0.962121</td>\n",
       "      <td>0.992188</td>\n",
       "      <td>0.976923</td>\n",
       "      <td>256.000000</td>\n",
       "    </tr>\n",
       "    <tr>\n",
       "      <th>1</th>\n",
       "      <td>0.988372</td>\n",
       "      <td>0.944444</td>\n",
       "      <td>0.965909</td>\n",
       "      <td>180.000000</td>\n",
       "    </tr>\n",
       "    <tr>\n",
       "      <th>accuracy</th>\n",
       "      <td>0.972477</td>\n",
       "      <td>0.972477</td>\n",
       "      <td>0.972477</td>\n",
       "      <td>0.972477</td>\n",
       "    </tr>\n",
       "    <tr>\n",
       "      <th>macro avg</th>\n",
       "      <td>0.975247</td>\n",
       "      <td>0.968316</td>\n",
       "      <td>0.971416</td>\n",
       "      <td>436.000000</td>\n",
       "    </tr>\n",
       "    <tr>\n",
       "      <th>weighted avg</th>\n",
       "      <td>0.972959</td>\n",
       "      <td>0.972477</td>\n",
       "      <td>0.972376</td>\n",
       "      <td>436.000000</td>\n",
       "    </tr>\n",
       "  </tbody>\n",
       "</table>\n",
       "</div>"
      ],
      "text/plain": [
       "              precision    recall  f1-score     support\n",
       "0              0.962121  0.992188  0.976923  256.000000\n",
       "1              0.988372  0.944444  0.965909  180.000000\n",
       "accuracy       0.972477  0.972477  0.972477    0.972477\n",
       "macro avg      0.975247  0.968316  0.971416  436.000000\n",
       "weighted avg   0.972959  0.972477  0.972376  436.000000"
      ]
     },
     "execution_count": 60,
     "metadata": {},
     "output_type": "execute_result"
    }
   ],
   "source": [
    "# classification report \n",
    "class_report = pd.DataFrame(classification_report(y_train,\n",
    "                                                  rf.predict(X_train),\n",
    "                                                  output_dict=True)).T\n",
    "class_report"
   ]
  },
  {
   "cell_type": "code",
   "execution_count": 61,
   "id": "116c925b",
   "metadata": {
    "scrolled": false
   },
   "outputs": [
    {
     "data": {
      "text/html": [
       "<div>\n",
       "<style scoped>\n",
       "    .dataframe tbody tr th:only-of-type {\n",
       "        vertical-align: middle;\n",
       "    }\n",
       "\n",
       "    .dataframe tbody tr th {\n",
       "        vertical-align: top;\n",
       "    }\n",
       "\n",
       "    .dataframe thead th {\n",
       "        text-align: right;\n",
       "    }\n",
       "</style>\n",
       "<table border=\"1\" class=\"dataframe\">\n",
       "  <thead>\n",
       "    <tr style=\"text-align: right;\">\n",
       "      <th>prediction</th>\n",
       "      <th>0</th>\n",
       "      <th>1</th>\n",
       "    </tr>\n",
       "    <tr>\n",
       "      <th>survived</th>\n",
       "      <th></th>\n",
       "      <th></th>\n",
       "    </tr>\n",
       "  </thead>\n",
       "  <tbody>\n",
       "    <tr>\n",
       "      <th>0</th>\n",
       "      <td>254</td>\n",
       "      <td>2</td>\n",
       "    </tr>\n",
       "    <tr>\n",
       "      <th>1</th>\n",
       "      <td>10</td>\n",
       "      <td>170</td>\n",
       "    </tr>\n",
       "  </tbody>\n",
       "</table>\n",
       "</div>"
      ],
      "text/plain": [
       "prediction    0    1\n",
       "survived            \n",
       "0           254    2\n",
       "1            10  170"
      ]
     },
     "execution_count": 61,
     "metadata": {},
     "output_type": "execute_result"
    }
   ],
   "source": [
    "# confusion matrix/crosstab\n",
    "pd.crosstab(train.survived, train.prediction)"
   ]
  },
  {
   "cell_type": "code",
   "execution_count": 62,
   "id": "73c0a1c7",
   "metadata": {},
   "outputs": [
    {
     "name": "stdout",
     "output_type": "stream",
     "text": [
      "False Positive: 0.05555555555555555\n",
      "False Negative: 0.0078125\n",
      "True Positive: 0.9921875\n",
      "True Negative: 0.9444444444444444\n"
     ]
    }
   ],
   "source": [
    "TP = 254\n",
    "TN = 170\n",
    "FP = 10\n",
    "FN = 2\n",
    "\n",
    "\n",
    "false_positive = FP/(FP+TN)\n",
    "false_negative = FN/(FN+TP)\n",
    "true_positive = TP/(TP+FN)\n",
    "true_negative = TN/(TN+FP)\n",
    "\n",
    "accuracy = (TP+TN)/(TP+TN+FP+FN)\n",
    "precision = TP/(TP+TP)\n",
    "recall = TP/(TP+FN)\n",
    "\n",
    "# f-1 score and support score are inside of the classification report\n",
    "print(f'False Positive: {false_positive}')\n",
    "print(f'False Negative: {false_negative}')\n",
    "print(f'True Positive: {true_positive}')\n",
    "print(f'True Negative: {true_negative}')"
   ]
  },
  {
   "cell_type": "markdown",
   "id": "9cdf7c44",
   "metadata": {},
   "source": [
    "#### 4. Run through steps increasing your min_samples_leaf and decreasing your max_depth."
   ]
  },
  {
   "cell_type": "markdown",
   "id": "e00a082c",
   "metadata": {},
   "source": [
    "# Using loops"
   ]
  },
  {
   "cell_type": "code",
   "execution_count": 63,
   "id": "a10a46a8",
   "metadata": {},
   "outputs": [
    {
     "name": "stdout",
     "output_type": "stream",
     "text": [
      "Tree with max depth of 2\n",
      "                    0           1  accuracy   macro avg  weighted avg\n",
      "precision    0.756173    0.901786  0.793578    0.828979      0.816288\n",
      "recall       0.957031    0.561111  0.793578    0.759071      0.793578\n",
      "f1-score     0.844828    0.691781  0.793578    0.768304      0.781643\n",
      "support    256.000000  180.000000  0.793578  436.000000    436.000000\n",
      "\n",
      "Tree with max depth of 3\n",
      "                    0           1  accuracy   macro avg  weighted avg\n",
      "precision    0.792079    0.879699  0.818807    0.835889      0.828253\n",
      "recall       0.937500    0.650000  0.818807    0.793750      0.818807\n",
      "f1-score     0.858676    0.747604  0.818807    0.803140      0.812821\n",
      "support    256.000000  180.000000  0.818807  436.000000    436.000000\n",
      "\n",
      "Tree with max depth of 4\n",
      "                    0           1  accuracy   macro avg  weighted avg\n",
      "precision    0.803922    0.923077   0.83945    0.863499      0.853114\n",
      "recall       0.960938    0.666667   0.83945    0.813802      0.839450\n",
      "f1-score     0.875445    0.774194   0.83945    0.824819      0.833644\n",
      "support    256.000000  180.000000   0.83945  436.000000    436.000000\n",
      "\n",
      "Tree with max depth of 5\n",
      "                    0           1  accuracy   macro avg  weighted avg\n",
      "precision    0.815182    0.932331  0.850917    0.873756      0.863546\n",
      "recall       0.964844    0.688889  0.850917    0.826866      0.850917\n",
      "f1-score     0.883721    0.792332  0.850917    0.838027      0.845992\n",
      "support    256.000000  180.000000  0.850917  436.000000    436.000000\n",
      "\n",
      "Tree with max depth of 6\n",
      "                    0           1  accuracy   macro avg  weighted avg\n",
      "precision    0.847458    0.957447  0.883028    0.902452      0.892866\n",
      "recall       0.976562    0.750000  0.883028    0.863281      0.883028\n",
      "f1-score     0.907441    0.841121  0.883028    0.874281      0.880061\n",
      "support    256.000000  180.000000  0.883028  436.000000    436.000000\n",
      "\n",
      "Tree with max depth of 7\n",
      "                    0           1  accuracy   macro avg  weighted avg\n",
      "precision    0.874564    0.966443  0.905963    0.920504      0.912496\n",
      "recall       0.980469    0.800000  0.905963    0.890234      0.905963\n",
      "f1-score     0.924494    0.875380  0.905963    0.899937      0.904217\n",
      "support    256.000000  180.000000  0.905963  436.000000    436.000000\n",
      "\n",
      "Tree with max depth of 8\n",
      "                    0           1  accuracy   macro avg  weighted avg\n",
      "precision    0.906475    0.974684  0.931193    0.940579      0.934634\n",
      "recall       0.984375    0.855556  0.931193    0.919965      0.931193\n",
      "f1-score     0.943820    0.911243  0.931193    0.927531      0.930371\n",
      "support    256.000000  180.000000  0.931193  436.000000    436.000000\n",
      "\n",
      "Tree with max depth of 9\n",
      "                    0           1  accuracy   macro avg  weighted avg\n",
      "precision    0.923636    0.987578  0.947248    0.955607      0.950034\n",
      "recall       0.992188    0.883333  0.947248    0.937760      0.947248\n",
      "f1-score     0.956685    0.932551  0.947248    0.944618      0.946722\n",
      "support    256.000000  180.000000  0.947248  436.000000    436.000000\n",
      "\n",
      "Tree with max depth of 10\n",
      "                    0           1  accuracy   macro avg  weighted avg\n",
      "precision    0.962121    0.988372  0.972477    0.975247      0.972959\n",
      "recall       0.992188    0.944444  0.972477    0.968316      0.972477\n",
      "f1-score     0.976923    0.965909  0.972477    0.971416      0.972376\n",
      "support    256.000000  180.000000  0.972477  436.000000    436.000000\n",
      "\n"
     ]
    }
   ],
   "source": [
    "for i in range(2, 11):\n",
    "    # Make the model\n",
    "    forest = RandomForestClassifier(max_depth=i, random_state=123)\n",
    "\n",
    "    # Fit the model (on train and only train)\n",
    "    forest = forest.fit(X_train, y_train)\n",
    "\n",
    "    # Use the model\n",
    "    # We'll evaluate the model's performance on train, first\n",
    "    y_predictions = forest.predict(X_train)\n",
    "\n",
    "    # Produce the classification report on the actual y values and this model's predicted y values\n",
    "    report = classification_report(y_train, y_predictions, output_dict=True)\n",
    "    print(f\"Tree with max depth of {i}\")\n",
    "    print(pd.DataFrame(report))\n",
    "    print()"
   ]
  },
  {
   "cell_type": "markdown",
   "id": "9d988065",
   "metadata": {},
   "source": [
    "# increasing max depth"
   ]
  },
  {
   "cell_type": "code",
   "execution_count": 64,
   "id": "5a045160",
   "metadata": {},
   "outputs": [
    {
     "data": {
      "text/html": [
       "<div>\n",
       "<style scoped>\n",
       "    .dataframe tbody tr th:only-of-type {\n",
       "        vertical-align: middle;\n",
       "    }\n",
       "\n",
       "    .dataframe tbody tr th {\n",
       "        vertical-align: top;\n",
       "    }\n",
       "\n",
       "    .dataframe thead th {\n",
       "        text-align: right;\n",
       "    }\n",
       "</style>\n",
       "<table border=\"1\" class=\"dataframe\">\n",
       "  <thead>\n",
       "    <tr style=\"text-align: right;\">\n",
       "      <th></th>\n",
       "      <th>max_depth</th>\n",
       "      <th>train_accuracy</th>\n",
       "      <th>validate_accuracy</th>\n",
       "      <th>difference</th>\n",
       "    </tr>\n",
       "  </thead>\n",
       "  <tbody>\n",
       "    <tr>\n",
       "      <th>0</th>\n",
       "      <td>2</td>\n",
       "      <td>0.793578</td>\n",
       "      <td>0.808511</td>\n",
       "      <td>-0.014933</td>\n",
       "    </tr>\n",
       "    <tr>\n",
       "      <th>1</th>\n",
       "      <td>3</td>\n",
       "      <td>0.818807</td>\n",
       "      <td>0.813830</td>\n",
       "      <td>0.004978</td>\n",
       "    </tr>\n",
       "    <tr>\n",
       "      <th>2</th>\n",
       "      <td>4</td>\n",
       "      <td>0.839450</td>\n",
       "      <td>0.813830</td>\n",
       "      <td>0.025620</td>\n",
       "    </tr>\n",
       "    <tr>\n",
       "      <th>3</th>\n",
       "      <td>5</td>\n",
       "      <td>0.850917</td>\n",
       "      <td>0.813830</td>\n",
       "      <td>0.037088</td>\n",
       "    </tr>\n",
       "    <tr>\n",
       "      <th>4</th>\n",
       "      <td>6</td>\n",
       "      <td>0.883028</td>\n",
       "      <td>0.808511</td>\n",
       "      <td>0.074517</td>\n",
       "    </tr>\n",
       "    <tr>\n",
       "      <th>5</th>\n",
       "      <td>7</td>\n",
       "      <td>0.905963</td>\n",
       "      <td>0.829787</td>\n",
       "      <td>0.076176</td>\n",
       "    </tr>\n",
       "    <tr>\n",
       "      <th>6</th>\n",
       "      <td>8</td>\n",
       "      <td>0.931193</td>\n",
       "      <td>0.808511</td>\n",
       "      <td>0.122682</td>\n",
       "    </tr>\n",
       "    <tr>\n",
       "      <th>7</th>\n",
       "      <td>9</td>\n",
       "      <td>0.947248</td>\n",
       "      <td>0.819149</td>\n",
       "      <td>0.128099</td>\n",
       "    </tr>\n",
       "    <tr>\n",
       "      <th>8</th>\n",
       "      <td>10</td>\n",
       "      <td>0.972477</td>\n",
       "      <td>0.803191</td>\n",
       "      <td>0.169286</td>\n",
       "    </tr>\n",
       "    <tr>\n",
       "      <th>9</th>\n",
       "      <td>11</td>\n",
       "      <td>0.974771</td>\n",
       "      <td>0.803191</td>\n",
       "      <td>0.171579</td>\n",
       "    </tr>\n",
       "    <tr>\n",
       "      <th>10</th>\n",
       "      <td>12</td>\n",
       "      <td>0.977064</td>\n",
       "      <td>0.787234</td>\n",
       "      <td>0.189830</td>\n",
       "    </tr>\n",
       "    <tr>\n",
       "      <th>11</th>\n",
       "      <td>13</td>\n",
       "      <td>0.979358</td>\n",
       "      <td>0.797872</td>\n",
       "      <td>0.181485</td>\n",
       "    </tr>\n",
       "    <tr>\n",
       "      <th>12</th>\n",
       "      <td>14</td>\n",
       "      <td>0.988532</td>\n",
       "      <td>0.781915</td>\n",
       "      <td>0.206617</td>\n",
       "    </tr>\n",
       "    <tr>\n",
       "      <th>13</th>\n",
       "      <td>15</td>\n",
       "      <td>0.988532</td>\n",
       "      <td>0.787234</td>\n",
       "      <td>0.201298</td>\n",
       "    </tr>\n",
       "    <tr>\n",
       "      <th>14</th>\n",
       "      <td>16</td>\n",
       "      <td>0.988532</td>\n",
       "      <td>0.787234</td>\n",
       "      <td>0.201298</td>\n",
       "    </tr>\n",
       "    <tr>\n",
       "      <th>15</th>\n",
       "      <td>17</td>\n",
       "      <td>0.988532</td>\n",
       "      <td>0.787234</td>\n",
       "      <td>0.201298</td>\n",
       "    </tr>\n",
       "    <tr>\n",
       "      <th>16</th>\n",
       "      <td>18</td>\n",
       "      <td>0.988532</td>\n",
       "      <td>0.787234</td>\n",
       "      <td>0.201298</td>\n",
       "    </tr>\n",
       "    <tr>\n",
       "      <th>17</th>\n",
       "      <td>19</td>\n",
       "      <td>0.988532</td>\n",
       "      <td>0.787234</td>\n",
       "      <td>0.201298</td>\n",
       "    </tr>\n",
       "    <tr>\n",
       "      <th>18</th>\n",
       "      <td>20</td>\n",
       "      <td>0.988532</td>\n",
       "      <td>0.781915</td>\n",
       "      <td>0.206617</td>\n",
       "    </tr>\n",
       "    <tr>\n",
       "      <th>19</th>\n",
       "      <td>21</td>\n",
       "      <td>0.988532</td>\n",
       "      <td>0.781915</td>\n",
       "      <td>0.206617</td>\n",
       "    </tr>\n",
       "    <tr>\n",
       "      <th>20</th>\n",
       "      <td>22</td>\n",
       "      <td>0.988532</td>\n",
       "      <td>0.781915</td>\n",
       "      <td>0.206617</td>\n",
       "    </tr>\n",
       "    <tr>\n",
       "      <th>21</th>\n",
       "      <td>23</td>\n",
       "      <td>0.988532</td>\n",
       "      <td>0.787234</td>\n",
       "      <td>0.201298</td>\n",
       "    </tr>\n",
       "    <tr>\n",
       "      <th>22</th>\n",
       "      <td>24</td>\n",
       "      <td>0.988532</td>\n",
       "      <td>0.787234</td>\n",
       "      <td>0.201298</td>\n",
       "    </tr>\n",
       "  </tbody>\n",
       "</table>\n",
       "</div>"
      ],
      "text/plain": [
       "    max_depth  train_accuracy  validate_accuracy  difference\n",
       "0           2        0.793578           0.808511   -0.014933\n",
       "1           3        0.818807           0.813830    0.004978\n",
       "2           4        0.839450           0.813830    0.025620\n",
       "3           5        0.850917           0.813830    0.037088\n",
       "4           6        0.883028           0.808511    0.074517\n",
       "5           7        0.905963           0.829787    0.076176\n",
       "6           8        0.931193           0.808511    0.122682\n",
       "7           9        0.947248           0.819149    0.128099\n",
       "8          10        0.972477           0.803191    0.169286\n",
       "9          11        0.974771           0.803191    0.171579\n",
       "10         12        0.977064           0.787234    0.189830\n",
       "11         13        0.979358           0.797872    0.181485\n",
       "12         14        0.988532           0.781915    0.206617\n",
       "13         15        0.988532           0.787234    0.201298\n",
       "14         16        0.988532           0.787234    0.201298\n",
       "15         17        0.988532           0.787234    0.201298\n",
       "16         18        0.988532           0.787234    0.201298\n",
       "17         19        0.988532           0.787234    0.201298\n",
       "18         20        0.988532           0.781915    0.206617\n",
       "19         21        0.988532           0.781915    0.206617\n",
       "20         22        0.988532           0.781915    0.206617\n",
       "21         23        0.988532           0.787234    0.201298\n",
       "22         24        0.988532           0.787234    0.201298"
      ]
     },
     "execution_count": 64,
     "metadata": {},
     "output_type": "execute_result"
    }
   ],
   "source": [
    "metrics = []\n",
    "\n",
    "for i in range(2, 25):\n",
    "    # Make the model\n",
    "    forest = RandomForestClassifier(max_depth=i, random_state=123)\n",
    "\n",
    "    # Fit the model (on train and only train)\n",
    "    forest = forest.fit(X_train, y_train)\n",
    "\n",
    "    # Use the model\n",
    "    # We'll evaluate the model's performance on train, first\n",
    "    in_sample_accuracy = forest.score(X_train, y_train)\n",
    "    \n",
    "    out_of_sample_accuracy = forest.score(X_validate, y_validate)\n",
    "\n",
    "    output = {\n",
    "        \"max_depth\": i,\n",
    "        \"train_accuracy\": in_sample_accuracy,\n",
    "        \"validate_accuracy\": out_of_sample_accuracy\n",
    "    }\n",
    "    \n",
    "    metrics.append(output)\n",
    "    \n",
    "df = pd.DataFrame(metrics)\n",
    "df[\"difference\"] = df.train_accuracy - df.validate_accuracy\n",
    "df"
   ]
  },
  {
   "cell_type": "code",
   "execution_count": 65,
   "id": "522250e6",
   "metadata": {},
   "outputs": [
    {
     "data": {
      "image/png": "[encoded data removed]",
      "text/plain": [
       "<Figure size 1152x648 with 1 Axes>"
      ]
     },
     "metadata": {
      "needs_background": "light"
     },
     "output_type": "display_data"
    }
   ],
   "source": [
    "df.set_index('max_depth').plot(figsize = (16,9))\n",
    "plt.ylabel('Accuracy')\n",
    "plt.xticks(np.arange(0,21,1))\n",
    "plt.grid()"
   ]
  },
  {
   "cell_type": "markdown",
   "id": "97032549",
   "metadata": {},
   "source": [
    "# Increasing samples per leaf, decreasing max depth"
   ]
  },
  {
   "cell_type": "code",
   "execution_count": 66,
   "id": "3bdac56f",
   "metadata": {
    "scrolled": true
   },
   "outputs": [
    {
     "data": {
      "text/html": [
       "<div>\n",
       "<style scoped>\n",
       "    .dataframe tbody tr th:only-of-type {\n",
       "        vertical-align: middle;\n",
       "    }\n",
       "\n",
       "    .dataframe tbody tr th {\n",
       "        vertical-align: top;\n",
       "    }\n",
       "\n",
       "    .dataframe thead th {\n",
       "        text-align: right;\n",
       "    }\n",
       "</style>\n",
       "<table border=\"1\" class=\"dataframe\">\n",
       "  <thead>\n",
       "    <tr style=\"text-align: right;\">\n",
       "      <th></th>\n",
       "      <th>min_samples_per_leaf</th>\n",
       "      <th>max_depth</th>\n",
       "      <th>train_accuracy</th>\n",
       "      <th>validate_accuracy</th>\n",
       "      <th>difference</th>\n",
       "    </tr>\n",
       "  </thead>\n",
       "  <tbody>\n",
       "    <tr>\n",
       "      <th>0</th>\n",
       "      <td>2</td>\n",
       "      <td>18</td>\n",
       "      <td>0.912844</td>\n",
       "      <td>0.813830</td>\n",
       "      <td>0.099014</td>\n",
       "    </tr>\n",
       "    <tr>\n",
       "      <th>1</th>\n",
       "      <td>3</td>\n",
       "      <td>17</td>\n",
       "      <td>0.883028</td>\n",
       "      <td>0.824468</td>\n",
       "      <td>0.058559</td>\n",
       "    </tr>\n",
       "    <tr>\n",
       "      <th>2</th>\n",
       "      <td>4</td>\n",
       "      <td>16</td>\n",
       "      <td>0.871560</td>\n",
       "      <td>0.824468</td>\n",
       "      <td>0.047092</td>\n",
       "    </tr>\n",
       "    <tr>\n",
       "      <th>3</th>\n",
       "      <td>5</td>\n",
       "      <td>15</td>\n",
       "      <td>0.860092</td>\n",
       "      <td>0.819149</td>\n",
       "      <td>0.040943</td>\n",
       "    </tr>\n",
       "    <tr>\n",
       "      <th>4</th>\n",
       "      <td>6</td>\n",
       "      <td>14</td>\n",
       "      <td>0.841743</td>\n",
       "      <td>0.813830</td>\n",
       "      <td>0.027913</td>\n",
       "    </tr>\n",
       "    <tr>\n",
       "      <th>5</th>\n",
       "      <td>7</td>\n",
       "      <td>13</td>\n",
       "      <td>0.839450</td>\n",
       "      <td>0.808511</td>\n",
       "      <td>0.030939</td>\n",
       "    </tr>\n",
       "    <tr>\n",
       "      <th>6</th>\n",
       "      <td>8</td>\n",
       "      <td>12</td>\n",
       "      <td>0.830275</td>\n",
       "      <td>0.808511</td>\n",
       "      <td>0.021765</td>\n",
       "    </tr>\n",
       "    <tr>\n",
       "      <th>7</th>\n",
       "      <td>9</td>\n",
       "      <td>11</td>\n",
       "      <td>0.827982</td>\n",
       "      <td>0.808511</td>\n",
       "      <td>0.019471</td>\n",
       "    </tr>\n",
       "    <tr>\n",
       "      <th>8</th>\n",
       "      <td>10</td>\n",
       "      <td>10</td>\n",
       "      <td>0.830275</td>\n",
       "      <td>0.797872</td>\n",
       "      <td>0.032403</td>\n",
       "    </tr>\n",
       "    <tr>\n",
       "      <th>9</th>\n",
       "      <td>11</td>\n",
       "      <td>9</td>\n",
       "      <td>0.816514</td>\n",
       "      <td>0.792553</td>\n",
       "      <td>0.023961</td>\n",
       "    </tr>\n",
       "    <tr>\n",
       "      <th>10</th>\n",
       "      <td>12</td>\n",
       "      <td>8</td>\n",
       "      <td>0.818807</td>\n",
       "      <td>0.787234</td>\n",
       "      <td>0.031573</td>\n",
       "    </tr>\n",
       "    <tr>\n",
       "      <th>11</th>\n",
       "      <td>13</td>\n",
       "      <td>7</td>\n",
       "      <td>0.811927</td>\n",
       "      <td>0.792553</td>\n",
       "      <td>0.019373</td>\n",
       "    </tr>\n",
       "    <tr>\n",
       "      <th>12</th>\n",
       "      <td>14</td>\n",
       "      <td>6</td>\n",
       "      <td>0.802752</td>\n",
       "      <td>0.803191</td>\n",
       "      <td>-0.000439</td>\n",
       "    </tr>\n",
       "    <tr>\n",
       "      <th>13</th>\n",
       "      <td>15</td>\n",
       "      <td>5</td>\n",
       "      <td>0.802752</td>\n",
       "      <td>0.787234</td>\n",
       "      <td>0.015518</td>\n",
       "    </tr>\n",
       "    <tr>\n",
       "      <th>14</th>\n",
       "      <td>16</td>\n",
       "      <td>4</td>\n",
       "      <td>0.800459</td>\n",
       "      <td>0.803191</td>\n",
       "      <td>-0.002733</td>\n",
       "    </tr>\n",
       "    <tr>\n",
       "      <th>15</th>\n",
       "      <td>17</td>\n",
       "      <td>3</td>\n",
       "      <td>0.798165</td>\n",
       "      <td>0.797872</td>\n",
       "      <td>0.000293</td>\n",
       "    </tr>\n",
       "    <tr>\n",
       "      <th>16</th>\n",
       "      <td>18</td>\n",
       "      <td>2</td>\n",
       "      <td>0.784404</td>\n",
       "      <td>0.808511</td>\n",
       "      <td>-0.024107</td>\n",
       "    </tr>\n",
       "    <tr>\n",
       "      <th>17</th>\n",
       "      <td>19</td>\n",
       "      <td>1</td>\n",
       "      <td>0.752294</td>\n",
       "      <td>0.803191</td>\n",
       "      <td>-0.050898</td>\n",
       "    </tr>\n",
       "  </tbody>\n",
       "</table>\n",
       "</div>"
      ],
      "text/plain": [
       "    min_samples_per_leaf  max_depth  train_accuracy  validate_accuracy  \\\n",
       "0                      2         18        0.912844           0.813830   \n",
       "1                      3         17        0.883028           0.824468   \n",
       "2                      4         16        0.871560           0.824468   \n",
       "3                      5         15        0.860092           0.819149   \n",
       "4                      6         14        0.841743           0.813830   \n",
       "5                      7         13        0.839450           0.808511   \n",
       "6                      8         12        0.830275           0.808511   \n",
       "7                      9         11        0.827982           0.808511   \n",
       "8                     10         10        0.830275           0.797872   \n",
       "9                     11          9        0.816514           0.792553   \n",
       "10                    12          8        0.818807           0.787234   \n",
       "11                    13          7        0.811927           0.792553   \n",
       "12                    14          6        0.802752           0.803191   \n",
       "13                    15          5        0.802752           0.787234   \n",
       "14                    16          4        0.800459           0.803191   \n",
       "15                    17          3        0.798165           0.797872   \n",
       "16                    18          2        0.784404           0.808511   \n",
       "17                    19          1        0.752294           0.803191   \n",
       "\n",
       "    difference  \n",
       "0     0.099014  \n",
       "1     0.058559  \n",
       "2     0.047092  \n",
       "3     0.040943  \n",
       "4     0.027913  \n",
       "5     0.030939  \n",
       "6     0.021765  \n",
       "7     0.019471  \n",
       "8     0.032403  \n",
       "9     0.023961  \n",
       "10    0.031573  \n",
       "11    0.019373  \n",
       "12   -0.000439  \n",
       "13    0.015518  \n",
       "14   -0.002733  \n",
       "15    0.000293  \n",
       "16   -0.024107  \n",
       "17   -0.050898  "
      ]
     },
     "execution_count": 66,
     "metadata": {},
     "output_type": "execute_result"
    }
   ],
   "source": [
    "metrics = []\n",
    "max_depth = 20\n",
    "\n",
    "for i in range(2, max_depth):\n",
    "    # Make the model\n",
    "    depth = max_depth - i\n",
    "    n_samples = i\n",
    "    forest = RandomForestClassifier(max_depth=depth, min_samples_leaf=n_samples, random_state=123)\n",
    "\n",
    "    # Fit the model (on train and only train)\n",
    "    forest = forest.fit(X_train, y_train)\n",
    "\n",
    "    # Use the model\n",
    "    # We'll evaluate the model's performance on train, first\n",
    "    in_sample_accuracy = forest.score(X_train, y_train)\n",
    "    \n",
    "    out_of_sample_accuracy = forest.score(X_validate, y_validate)\n",
    "\n",
    "    output = {\n",
    "        \"min_samples_per_leaf\": n_samples,\n",
    "        \"max_depth\": depth,\n",
    "        \"train_accuracy\": in_sample_accuracy,\n",
    "        \"validate_accuracy\": out_of_sample_accuracy\n",
    "    }\n",
    "    \n",
    "    metrics.append(output)\n",
    "    \n",
    "df = pd.DataFrame(metrics)\n",
    "df[\"difference\"] = df.train_accuracy - df.validate_accuracy\n",
    "df"
   ]
  },
  {
   "cell_type": "markdown",
   "id": "10be6546",
   "metadata": {},
   "source": [
    "# What if we increase both min_samples_per_leaf and max_depth"
   ]
  },
  {
   "cell_type": "markdown",
   "id": "45f25971",
   "metadata": {},
   "source": [
    "### What are the differences in the evaluation metrics? Which performs better on your in-sample data? Why?"
   ]
  },
  {
   "cell_type": "markdown",
   "id": "4262a60a",
   "metadata": {},
   "source": [
    "The first model with a lower sample leaf and higher max depth allowed the random forest model to fit well into this specific set of data with high accuracy on the train data."
   ]
  },
  {
   "cell_type": "markdown",
   "id": "6ab3a634",
   "metadata": {},
   "source": [
    "# K-Nearest Neighbor Exercises"
   ]
  },
  {
   "cell_type": "markdown",
   "id": "5203f717",
   "metadata": {},
   "source": [
    "### Fit a K-Nearest Neighbors classifier to your training sample and transform (i.e. make predictions on the training sample)"
   ]
  },
  {
   "cell_type": "code",
   "execution_count": 67,
   "id": "039b15a3",
   "metadata": {
    "scrolled": true
   },
   "outputs": [],
   "source": [
    "titanic = aq.get_titanic_data()\n",
    "df = prep.prep_titanic(titanic)\n",
    "train, validate, test = df"
   ]
  },
  {
   "cell_type": "code",
   "execution_count": 68,
   "id": "83ac6ee8",
   "metadata": {},
   "outputs": [],
   "source": [
    "# create knn object\n",
    "# weights = ['uniform', 'density']\n",
    "knn = KNeighborsClassifier(n_neighbors=5, weights='uniform')\n"
   ]
  },
  {
   "cell_type": "code",
   "execution_count": 69,
   "id": "4a38752d",
   "metadata": {},
   "outputs": [],
   "source": [
    "# Now, create an X, Y version of the datasets\n",
    "\n",
    "# train dataset\n",
    "\n",
    "X_train = train.drop(columns=['survived'])\n",
    "y_train = train.survived\n",
    "\n",
    "# validate dataset\n",
    "X_validate = validate.drop(columns=['survived'])\n",
    "y_validate = validate.survived\n",
    "\n",
    "# test dataset\n",
    "X_test = test.drop(columns=['survived'])\n",
    "y_test = test.survived"
   ]
  },
  {
   "cell_type": "code",
   "execution_count": 70,
   "id": "8a1225fd",
   "metadata": {
    "scrolled": false
   },
   "outputs": [],
   "source": [
    "# fit train \n",
    "knn = knn.fit(X_train, y_train)\n",
    "\n",
    "# create predictions column on train\n",
    "train['predictions'] = knn.predict(X_train)\n",
    "\n",
    "\n",
    "#create predictions column on validate\n",
    "validate['predictions'] = knn.predict(X_validate)"
   ]
  },
  {
   "cell_type": "markdown",
   "id": "9eb52d6f",
   "metadata": {},
   "source": [
    "### Evaluate your results using the model score, confusion matrix, and classification report."
   ]
  },
  {
   "cell_type": "code",
   "execution_count": 71,
   "id": "398071e0",
   "metadata": {},
   "outputs": [
    {
     "data": {
      "text/plain": [
       "0.7729357798165137"
      ]
     },
     "execution_count": 71,
     "metadata": {},
     "output_type": "execute_result"
    }
   ],
   "source": [
    "# model score\n",
    "knn.score(X_train, y_train)"
   ]
  },
  {
   "cell_type": "code",
   "execution_count": 72,
   "id": "15607b6c",
   "metadata": {
    "scrolled": true
   },
   "outputs": [
    {
     "name": "stdout",
     "output_type": "stream",
     "text": [
      "Confusion matrix: \n",
      " [[222  34]\n",
      " [ 65 115]]\n",
      " \n"
     ]
    },
    {
     "data": {
      "text/html": [
       "<div>\n",
       "<style scoped>\n",
       "    .dataframe tbody tr th:only-of-type {\n",
       "        vertical-align: middle;\n",
       "    }\n",
       "\n",
       "    .dataframe tbody tr th {\n",
       "        vertical-align: top;\n",
       "    }\n",
       "\n",
       "    .dataframe thead th {\n",
       "        text-align: right;\n",
       "    }\n",
       "</style>\n",
       "<table border=\"1\" class=\"dataframe\">\n",
       "  <thead>\n",
       "    <tr style=\"text-align: right;\">\n",
       "      <th>predictions</th>\n",
       "      <th>0</th>\n",
       "      <th>1</th>\n",
       "    </tr>\n",
       "    <tr>\n",
       "      <th>survived</th>\n",
       "      <th></th>\n",
       "      <th></th>\n",
       "    </tr>\n",
       "  </thead>\n",
       "  <tbody>\n",
       "    <tr>\n",
       "      <th>0</th>\n",
       "      <td>222</td>\n",
       "      <td>34</td>\n",
       "    </tr>\n",
       "    <tr>\n",
       "      <th>1</th>\n",
       "      <td>65</td>\n",
       "      <td>115</td>\n",
       "    </tr>\n",
       "  </tbody>\n",
       "</table>\n",
       "</div>"
      ],
      "text/plain": [
       "predictions    0    1\n",
       "survived             \n",
       "0            222   34\n",
       "1             65  115"
      ]
     },
     "execution_count": 72,
     "metadata": {},
     "output_type": "execute_result"
    }
   ],
   "source": [
    "# confusion matrix / crosttab\n",
    "\n",
    "print(\"Confusion matrix: \\n\", confusion_matrix(train.survived, train.predictions))\n",
    "print(\" \")\n",
    "pd.crosstab(train.survived, train.predictions)"
   ]
  },
  {
   "cell_type": "code",
   "execution_count": 73,
   "id": "6cb29018",
   "metadata": {},
   "outputs": [
    {
     "data": {
      "text/html": [
       "<div>\n",
       "<style scoped>\n",
       "    .dataframe tbody tr th:only-of-type {\n",
       "        vertical-align: middle;\n",
       "    }\n",
       "\n",
       "    .dataframe tbody tr th {\n",
       "        vertical-align: top;\n",
       "    }\n",
       "\n",
       "    .dataframe thead th {\n",
       "        text-align: right;\n",
       "    }\n",
       "</style>\n",
       "<table border=\"1\" class=\"dataframe\">\n",
       "  <thead>\n",
       "    <tr style=\"text-align: right;\">\n",
       "      <th></th>\n",
       "      <th>precision</th>\n",
       "      <th>recall</th>\n",
       "      <th>f1-score</th>\n",
       "      <th>support</th>\n",
       "    </tr>\n",
       "  </thead>\n",
       "  <tbody>\n",
       "    <tr>\n",
       "      <th>0</th>\n",
       "      <td>0.773519</td>\n",
       "      <td>0.867188</td>\n",
       "      <td>0.817680</td>\n",
       "      <td>256.000000</td>\n",
       "    </tr>\n",
       "    <tr>\n",
       "      <th>1</th>\n",
       "      <td>0.771812</td>\n",
       "      <td>0.638889</td>\n",
       "      <td>0.699088</td>\n",
       "      <td>180.000000</td>\n",
       "    </tr>\n",
       "    <tr>\n",
       "      <th>accuracy</th>\n",
       "      <td>0.772936</td>\n",
       "      <td>0.772936</td>\n",
       "      <td>0.772936</td>\n",
       "      <td>0.772936</td>\n",
       "    </tr>\n",
       "    <tr>\n",
       "      <th>macro avg</th>\n",
       "      <td>0.772666</td>\n",
       "      <td>0.753038</td>\n",
       "      <td>0.758384</td>\n",
       "      <td>436.000000</td>\n",
       "    </tr>\n",
       "    <tr>\n",
       "      <th>weighted avg</th>\n",
       "      <td>0.772814</td>\n",
       "      <td>0.772936</td>\n",
       "      <td>0.768720</td>\n",
       "      <td>436.000000</td>\n",
       "    </tr>\n",
       "  </tbody>\n",
       "</table>\n",
       "</div>"
      ],
      "text/plain": [
       "              precision    recall  f1-score     support\n",
       "0              0.773519  0.867188  0.817680  256.000000\n",
       "1              0.771812  0.638889  0.699088  180.000000\n",
       "accuracy       0.772936  0.772936  0.772936    0.772936\n",
       "macro avg      0.772666  0.753038  0.758384  436.000000\n",
       "weighted avg   0.772814  0.772936  0.768720  436.000000"
      ]
     },
     "execution_count": 73,
     "metadata": {},
     "output_type": "execute_result"
    }
   ],
   "source": [
    "# classification report\n",
    "report = pd.DataFrame(classification_report(y_train,\n",
    "                                           knn.predict(X_train),\n",
    "                                           output_dict=True)).T\n",
    "report"
   ]
  },
  {
   "cell_type": "code",
   "execution_count": 74,
   "id": "45cf5124",
   "metadata": {},
   "outputs": [
    {
     "name": "stdout",
     "output_type": "stream",
     "text": [
      "Accuracy of KNN classifier on training set: 0.77\n"
     ]
    }
   ],
   "source": [
    "# validate model \n",
    "print('Accuracy of KNN classifier on training set: {:.2f}'\n",
    "     .format(knn.score(X_train, y_train)))"
   ]
  },
  {
   "cell_type": "markdown",
   "id": "b1a89309",
   "metadata": {},
   "source": [
    "### Print and clearly label the following: Accuracy, true positive rate, false positive rate, true negative rate, false negative rate, precision, recall, f1-score, and support."
   ]
  },
  {
   "cell_type": "code",
   "execution_count": 75,
   "id": "0ce22292",
   "metadata": {},
   "outputs": [
    {
     "name": "stdout",
     "output_type": "stream",
     "text": [
      "False Positive: 0.3611111111111111\n",
      "False Negative: 0.1328125\n",
      "True Positive: 0.8671875\n",
      "True Negative: 0.6388888888888888\n"
     ]
    }
   ],
   "source": [
    "TP = 222\n",
    "TN = 115\n",
    "FP = 65\n",
    "FN = 34\n",
    "\n",
    "\n",
    "false_positive = FP/(FP+TN)\n",
    "false_negative = FN/(FN+TP)\n",
    "true_positive = TP/(TP+FN)\n",
    "true_negative = TN/(TN+FP)\n",
    "\n",
    "accuracy = (TP+TN)/(TP+TN+FP+FN)\n",
    "precision = TP/(TP+TP)\n",
    "recall = TP/(TP+FN)\n",
    "\n",
    "# f-1 score and support score are inside of the classification report\n",
    "print(f'False Positive: {false_positive}')\n",
    "print(f'False Negative: {false_negative}')\n",
    "print(f'True Positive: {true_positive}')\n",
    "print(f'True Negative: {true_negative}')"
   ]
  },
  {
   "cell_type": "markdown",
   "id": "6fded4ce",
   "metadata": {},
   "source": [
    "#### Run through setps 2-4 setting k to 20, Run through steps 2-4 setting k to 10"
   ]
  },
  {
   "cell_type": "code",
   "execution_count": 76,
   "id": "06b4a513",
   "metadata": {
    "scrolled": false
   },
   "outputs": [
    {
     "name": "stdout",
     "output_type": "stream",
     "text": [
      "KNN where K=10\n",
      "\n",
      "Score= 0.7408256880733946\n",
      "\n",
      "Confusion Matrix:\n",
      "\n",
      "predictions    0    1\n",
      "survived             \n",
      "0            222   34\n",
      "1             65  115\n",
      "\n",
      "\n",
      "Classification Report:\n",
      "\n",
      "               precision    recall  f1-score     support\n",
      "0              0.726984  0.894531  0.802102  256.000000\n",
      "1              0.776860  0.522222  0.624585  180.000000\n",
      "accuracy       0.740826  0.740826  0.740826    0.740826\n",
      "macro avg      0.751922  0.708377  0.713343  436.000000\n",
      "weighted avg   0.747575  0.740826  0.728815  436.000000 \n",
      "\n",
      "\n",
      "-------------------------------------------------\n",
      "KNN where K=20\n",
      "\n",
      "Score= 0.6972477064220184\n",
      "\n",
      "Confusion Matrix:\n",
      "\n",
      "predictions    0    1\n",
      "survived             \n",
      "0            222   34\n",
      "1             65  115\n",
      "\n",
      "\n",
      "Classification Report:\n",
      "\n",
      "               precision    recall  f1-score     support\n",
      "0              0.689024  0.882812  0.773973  256.000000\n",
      "1              0.722222  0.433333  0.541667  180.000000\n",
      "accuracy       0.697248  0.697248  0.697248    0.697248\n",
      "macro avg      0.705623  0.658073  0.657820  436.000000\n",
      "weighted avg   0.702730  0.697248  0.678066  436.000000 \n",
      "\n",
      "\n",
      "-------------------------------------------------\n"
     ]
    }
   ],
   "source": [
    "matrix = [10, 20]\n",
    "for metrics in matrix:\n",
    "    \n",
    "    # set K to 10, then 20\n",
    "    knn = KNeighborsClassifier(n_neighbors=metrics,\n",
    "                               weights='uniform')\n",
    "    \n",
    "    knn = knn.fit(X_train, y_train)\n",
    "    \n",
    "    score = knn.score(X_train, y_train)\n",
    "    \n",
    "    # matrix\n",
    "    conf_matrix = pd.crosstab(train.survived,\n",
    "                                   train.predictions)\n",
    "    # get classification report \n",
    "    report = pd.DataFrame(classification_report(y_train,\n",
    "                                           knn.predict(X_train),\n",
    "                                           output_dict=True)).T\n",
    "    print(f\"KNN where K={metrics}\\n\")\n",
    "    print(f\"Score= {score}\\n\")\n",
    "    print(f\"Confusion Matrix:\\n\\n{conf_matrix}\\n\\n\")\n",
    "    print(f\"Classification Report:\\n\\n\", report, \"\\n\\n\")\n",
    "    print(\"-------------------------------------------------\")\n",
    "    "
   ]
  },
  {
   "cell_type": "markdown",
   "id": "842dec5f",
   "metadata": {},
   "source": [
    "#### What are the differences in the evaluation metrics? Which performs better on your in-sample data? Why?"
   ]
  },
  {
   "cell_type": "code",
   "execution_count": 77,
   "id": "bd80ed59",
   "metadata": {
    "scrolled": true
   },
   "outputs": [
    {
     "data": {
      "image/png": "[encoded data removed]",
      "text/plain": [
       "<Figure size 432x288 with 1 Axes>"
      ]
     },
     "metadata": {
      "needs_background": "light"
     },
     "output_type": "display_data"
    }
   ],
   "source": [
    "k_range = range(1, 20)\n",
    "scores = []\n",
    "for k in k_range:\n",
    "    knn = KNeighborsClassifier(n_neighbors = k)\n",
    "    knn.fit(X_train, y_train)\n",
    "    scores.append(knn.score(X_test, y_test))\n",
    "plt.figure()\n",
    "plt.xlabel('K')\n",
    "plt.ylabel('accuracy')\n",
    "plt.scatter(k_range, scores)\n",
    "plt.xticks([0,5,15,10,20])\n",
    "plt.show()"
   ]
  },
  {
   "cell_type": "markdown",
   "id": "96402734",
   "metadata": {},
   "source": [
    "#### The difference between the two models is 0.0435 (4.3%) with the K = 10 model performing slighly better than the K=20 model. This is due to the K10 model being more accurate and precise in the case of determining likelyhood of survival."
   ]
  },
  {
   "cell_type": "markdown",
   "id": "6219082a",
   "metadata": {},
   "source": [
    "#### Which model performs best on our out-of-sample data from validate?"
   ]
  },
  {
   "cell_type": "code",
   "execution_count": 78,
   "id": "506d3ffd",
   "metadata": {},
   "outputs": [
    {
     "data": {
      "text/html": [
       "<div>\n",
       "<style scoped>\n",
       "    .dataframe tbody tr th:only-of-type {\n",
       "        vertical-align: middle;\n",
       "    }\n",
       "\n",
       "    .dataframe tbody tr th {\n",
       "        vertical-align: top;\n",
       "    }\n",
       "\n",
       "    .dataframe thead th {\n",
       "        text-align: right;\n",
       "    }\n",
       "</style>\n",
       "<table border=\"1\" class=\"dataframe\">\n",
       "  <thead>\n",
       "    <tr style=\"text-align: right;\">\n",
       "      <th>predictions</th>\n",
       "      <th>0</th>\n",
       "      <th>1</th>\n",
       "    </tr>\n",
       "    <tr>\n",
       "      <th>survived</th>\n",
       "      <th></th>\n",
       "      <th></th>\n",
       "    </tr>\n",
       "  </thead>\n",
       "  <tbody>\n",
       "    <tr>\n",
       "      <th>0</th>\n",
       "      <td>83</td>\n",
       "      <td>27</td>\n",
       "    </tr>\n",
       "    <tr>\n",
       "      <th>1</th>\n",
       "      <td>33</td>\n",
       "      <td>45</td>\n",
       "    </tr>\n",
       "  </tbody>\n",
       "</table>\n",
       "</div>"
      ],
      "text/plain": [
       "predictions   0   1\n",
       "survived           \n",
       "0            83  27\n",
       "1            33  45"
      ]
     },
     "execution_count": 78,
     "metadata": {},
     "output_type": "execute_result"
    }
   ],
   "source": [
    "pd.crosstab(validate.survived, validate.predictions)"
   ]
  },
  {
   "cell_type": "code",
   "execution_count": 79,
   "id": "d9b199bf",
   "metadata": {},
   "outputs": [
    {
     "name": "stdout",
     "output_type": "stream",
     "text": [
      "False Positive: 0.4230769230769231\n",
      "False Negative: 0.24545454545454545\n",
      "True Positive: 0.7545454545454545\n",
      "True Negative: 0.5769230769230769\n"
     ]
    }
   ],
   "source": [
    "TP = 83\n",
    "TN = 45\n",
    "FP = 33\n",
    "FN = 27\n",
    "\n",
    "\n",
    "false_positive = FP/(FP+TN)\n",
    "false_negative = FN/(FN+TP)\n",
    "true_positive = TP/(TP+FN)\n",
    "true_negative = TN/(TN+FP)\n",
    "\n",
    "accuracy = (TP+TN)/(TP+TN+FP+FN)\n",
    "precision = TP/(TP+TP)\n",
    "recall = TP/(TP+FN)\n",
    "\n",
    "# f-1 score and support score are inside of the classification report\n",
    "print(f'False Positive: {false_positive}')\n",
    "print(f'False Negative: {false_negative}')\n",
    "print(f'True Positive: {true_positive}')\n",
    "print(f'True Negative: {true_negative}')"
   ]
  },
  {
   "cell_type": "code",
   "execution_count": 90,
   "id": "9a56d347",
   "metadata": {},
   "outputs": [
    {
     "name": "stdout",
     "output_type": "stream",
     "text": [
      "Accuracy of KNN classifier on training set: 0.71\n"
     ]
    }
   ],
   "source": [
    "print('Accuracy of KNN classifier on training set: {:.2f}'\n",
    "     .format(knn.score(X_validate, y_validate)))"
   ]
  },
  {
   "cell_type": "code",
   "execution_count": 91,
   "id": "2a4c4af6",
   "metadata": {},
   "outputs": [
    {
     "name": "stdout",
     "output_type": "stream",
     "text": [
      "KNN where K=5\n",
      "\n",
      "Accuracy of KNN classifier on validation set: 0.75 \n",
      "\n",
      "Confusion Matrix:\n",
      "\n",
      "predictions   0   1\n",
      "survived           \n",
      "0            83  27\n",
      "1            33  45\n",
      "\n",
      "\n",
      "Classification Report:\n",
      "\n",
      "               precision    recall  f1-score  support\n",
      "0              0.744186  0.872727  0.803347   110.00\n",
      "1              0.762712  0.576923  0.656934    78.00\n",
      "accuracy       0.750000  0.750000  0.750000     0.75\n",
      "macro avg      0.753449  0.724825  0.730141   188.00\n",
      "weighted avg   0.751872  0.750000  0.742601   188.00 \n",
      "\n",
      "\n",
      "--------------------------------------------------------\n",
      "KNN where K=10\n",
      "\n",
      "Accuracy of KNN classifier on validation set: 0.71 \n",
      "\n",
      "Confusion Matrix:\n",
      "\n",
      "predictions   0   1\n",
      "survived           \n",
      "0            83  27\n",
      "1            33  45\n",
      "\n",
      "\n",
      "Classification Report:\n",
      "\n",
      "               precision    recall  f1-score     support\n",
      "0              0.695035  0.890909  0.780876  110.000000\n",
      "1              0.744681  0.448718  0.560000   78.000000\n",
      "accuracy       0.707447  0.707447  0.707447    0.707447\n",
      "macro avg      0.719858  0.669814  0.670438  188.000000\n",
      "weighted avg   0.715633  0.707447  0.689236  188.000000 \n",
      "\n",
      "\n",
      "--------------------------------------------------------\n"
     ]
    }
   ],
   "source": [
    "matrix = [5, 10]\n",
    "for metrics in matrix:\n",
    "    \n",
    "    # set K to 10, then 20\n",
    "    knn = KNeighborsClassifier(n_neighbors=metrics,\n",
    "                               weights='uniform')\n",
    "    \n",
    "    knn = knn.fit(X_validate, y_validate)\n",
    "    \n",
    "    \n",
    "    # matrix\n",
    "    conf_matrix = pd.crosstab(validate.survived,\n",
    "                                   validate.predictions)\n",
    "    # get classification report \n",
    "    report = pd.DataFrame(classification_report(y_validate,\n",
    "                                           knn.predict(X_validate),\n",
    "                                           output_dict=True)).T\n",
    "    \n",
    "    print(f\"KNN where K={metrics}\\n\")\n",
    "    print('Accuracy of KNN classifier on validation set: {:.2f}'\n",
    "     .format(knn.score(X_validate, y_validate)), \"\\n\")\n",
    "    print(f\"Confusion Matrix:\\n\\n{conf_matrix}\\n\\n\")\n",
    "    print(f\"Classification Report:\\n\\n\", report, \"\\n\\n\")\n",
    "    print(\"--------------------------------------------------------\")\n",
    "    "
   ]
  },
  {
   "cell_type": "markdown",
   "id": "075b0d4d",
   "metadata": {},
   "source": [
    "#### There is no difference between K10 and K20 on the validate data, however, the defaul K-Nearest Neighbor K5 data shows much more accuracy than the K10 or 20.  "
   ]
  },
  {
   "cell_type": "code",
   "execution_count": null,
   "id": "d723d627",
   "metadata": {},
   "outputs": [],
   "source": []
  }
 ],
 "metadata": {
  "kernelspec": {
   "display_name": "Python 3 (ipykernel)",
   "language": "python",
   "name": "python3"
  },
  "language_info": {
   "codemirror_mode": {
    "name": "ipython",
    "version": 3
   },
   "file_extension": ".py",
   "mimetype": "text/x-python",
   "name": "python",
   "nbconvert_exporter": "python",
   "pygments_lexer": "ipython3",
   "version": "3.9.7"
  }
 },
 "nbformat": 4,
 "nbformat_minor": 5
}
